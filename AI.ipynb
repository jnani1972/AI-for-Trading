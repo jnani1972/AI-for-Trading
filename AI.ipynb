{
 "cells": [
  {
   "cell_type": "code",
   "execution_count": 4,
   "metadata": {
    "colab": {
     "base_uri": "https://localhost:8080/",
     "height": 494
    },
    "id": "ZD-Wxzs_7igM",
    "outputId": "49487f11-027f-4f36-951c-2e1f4b1f5252"
   },
   "outputs": [],
   "source": [
    "from numpy import genfromtxt\n",
    "import matplotlib.pyplot as plt\n",
    "#!pip install mplfinance\n",
    "#import mplfinance as mpf\n",
    "#from mplfinance.original_flavor import candlestick2_ochl, candlestick_ohlc\n",
    "import numpy as np\n",
    "import pandas as pd\n",
    "import time\n",
    "import shutil\n",
    "import os\n",
    "import sys\n",
    "from SR import *\n",
    "\n",
    "\n",
    "#os.environ[\"KERAS_BACKEND\"] = \"plaidml.keras.backend\"\n",
    "#import keras\n",
    "import tensorflow\n",
    "from tensorflow import keras\n",
    "import tensorflow.keras.models as M\n",
    "import tensorflow.keras.layers as L\n",
    "#keras.backend\n",
    "\n",
    "from keras_OneCycle import OneCycle"
   ]
  },
  {
   "cell_type": "code",
   "execution_count": 3,
   "metadata": {
    "id": "RuBhWr6R6Vcj"
   },
   "outputs": [],
   "source": [
    "# Multiple input files\n",
    "input_size = 432\n",
    "n_steps = 10\n",
    "x_train = []\n",
    "y_train = np.empty(1)\n",
    "for i in [\"M15\", \"M30\", \"H1\", \"H4\", \"D\"]:\n",
    "    data = pd.read_csv(\"data/eurusd/eurusd_\" + i + \".csv\")\n",
    "\n",
    "    for i in [\"r1\", \"r2\", \"r3\", \"s1\", \"s2\", \"s3\"]:\n",
    "      data[i] = np.nan\n",
    "\n",
    "\n",
    "    # get index of signals\n",
    "    signals = data.loc[(data[\"1\"] == 1) | (data[\"1\"] == -1)].index\n",
    "\n",
    "    # create training_data based on signals\n",
    "    temp = [data[s-input_size+1:s+1] for s in signals if s > input_size]\n",
    "\n",
    "\n",
    "    # create HOLD training data\n",
    "    np.random.seed(42)\n",
    "    temp_hold_signals = data.loc[(data[\"1\"] != 1) & (data[\"1\"] != -1)].index\n",
    "    temp_non_signal_index = np.random.choice(data.loc[(data[\"1\"] != 1) & (data[\"1\"] != -1)].index, size=len(signals)//2)\n",
    "    temp_non_signal_index = temp_non_signal_index[temp_non_signal_index > input_size]\n",
    "\n",
    "    temp_hold = [data[s-input_size+1:s+1] for s in temp_non_signal_index if s > input_size]\n",
    "    x_train = x_train + temp + temp_hold\n",
    "    y_train = np.append(y_train, data[\"1\"][signals][data[\"1\"][signals].index > input_size].values)\n",
    "    y_train = np.append(y_train, np.zeros(len(temp_hold)))\n",
    "    y_train[y_train == -1] = 2  # change sell value to positive, 0=hold, 1=buy, 2=sell\n",
    "y_train = y_train[1:]   # get rid of the initial \"empty\" position"
   ]
  },
  {
   "cell_type": "code",
   "execution_count": null,
   "metadata": {
    "id": "RtrSziJ_67D0"
   },
   "outputs": [],
   "source": [
    "#single input file\n",
    "input_size = 432\n",
    "n_steps = 10\n",
    "data = pd.read_csv(\"data/eurusd/eurusd_H1.csv\")\n",
    "\n",
    "for i in [\"r1\", \"r2\", \"r3\", \"s1\", \"s2\", \"s3\"]:\n",
    "    data[i] = np.nan\n",
    "\n",
    "\n",
    "# get index of signals\n",
    "signals = data.loc[(data[\"1\"] == 1) | (data[\"1\"] == -1)].index\n",
    "\n",
    "# create training_data based on signals\n",
    "x_train = [data[s-input_size+1:s+1] for s in signals if s > input_size]\n",
    "\n",
    "\n",
    "# create HOLD training data\n",
    "np.random.seed(42)\n",
    "hold_signals = data.loc[(data[\"1\"] != 1) & (data[\"1\"] != -1)].index\n",
    "non_signal_index = np.random.choice(data.loc[(data[\"1\"] != 1) & (data[\"1\"] != -1)].index, size=len(signals)//2)\n",
    "non_signal_index = non_signal_index[non_signal_index > input_size]\n",
    "\n",
    "x_train_hold = [data[s-input_size+1:s+1] for s in non_signal_index if s > input_size]\n",
    "x_train = x_train + x_train_hold\n",
    "y_train = np.append(data[\"1\"][signals][data[\"1\"][signals].index > input_size].values, np.zeros(len(x_train_hold)))\n",
    "y_train[y_train == -1] = 2  # change sell value to positive, 0=hold, 1=buy, 2=sell"
   ]
  },
  {
   "cell_type": "code",
   "execution_count": 4,
   "metadata": {
    "colab": {
     "base_uri": "https://localhost:8080/",
     "height": 86
    },
    "id": "EpLb7H3-6g6p",
    "outputId": "65fa13d7-dc8a-4bfd-945e-d66667109c49"
   },
   "outputs": [
    {
     "name": "stderr",
     "output_type": "stream",
     "text": [
      "<timed exec>:9: RuntimeWarning: invalid value encountered in greater\n",
      "<timed exec>:10: RuntimeWarning: invalid value encountered in less\n"
     ]
    },
    {
     "name": "stdout",
     "output_type": "stream",
     "text": [
      "Wall time: 39min 42s\n"
     ]
    }
   ],
   "source": [
    "%%time\n",
    "# get 3 above and 3 below last close price\n",
    "\n",
    "for i, df in enumerate(x_train):\n",
    "    df = sr(df, input_size).drop(columns=[\"1\", \"s\", \"r\"])\n",
    "    \n",
    "    # 3 above and 3 below last close price\n",
    "    levels = np.array(sorted([l for l in df.columns if type(l) == np.float64]))\n",
    "    last_close = df.close[-1]\n",
    "    r3 = levels[(levels - last_close) > 0][:3]\n",
    "    s3 = levels[(levels - last_close) < 0][-3:]\n",
    "    \n",
    "    # change resistance names\n",
    "    for l, name in zip(r3, [\"r1\", \"r2\", \"r3\"]):\n",
    "        df[name] = df[l]\n",
    "\n",
    "    # change support names\n",
    "    for l, name in zip(s3, [\"s1\", \"s2\", \"s3\"]):\n",
    "        #df.rename(columns = {l : name}, errors=\"raise\", inplace=True)\n",
    "        df[name] = df[l]\n",
    "\n",
    "\n",
    "    # remove all other levels columns\n",
    "    levels = np.array(sorted([l for l in df.columns if type(l) == np.float64]))\n",
    "    x_train[i] = df.drop(columns=levels).fillna(0)[-100:]"
   ]
  },
  {
   "cell_type": "code",
   "execution_count": 5,
   "metadata": {},
   "outputs": [],
   "source": [
    "# reshaping the array from 3D \n",
    "# matrice to 2D matrice. \n",
    "#x_train_reshaped = x_train.reshape(x_train.shape[0], -1) \n",
    "  \n",
    "# saving reshaped array to file. \n",
    "#np.savetxt(\"x_train.txt\", x_train_reshaped) \n",
    "  \n",
    "# retrieving data from file. \n",
    "x_train = np.loadtxt(\"x_train.txt\") \n",
    "  \n",
    "# This loadedArr is a 2D array, therefore \n",
    "# we need to convert it to the original \n",
    "# array shape.reshaping to get original \n",
    "# matrice with original shape. \n",
    "x_train = x_train.reshape( \n",
    "    x_train.shape[0], x_train.shape[1] // 73, 73) "
   ]
  },
  {
   "cell_type": "code",
   "execution_count": 1,
   "metadata": {
    "id": "abE6fhcr7igU"
   },
   "outputs": [
    {
     "ename": "NameError",
     "evalue": "name 'x_train' is not defined",
     "output_type": "error",
     "traceback": [
      "\u001b[1;31m---------------------------------------------------------------------------\u001b[0m",
      "\u001b[1;31mNameError\u001b[0m                                 Traceback (most recent call last)",
      "\u001b[1;32m<ipython-input-1-4807d517e349>\u001b[0m in \u001b[0;36m<module>\u001b[1;34m\u001b[0m\n\u001b[0;32m      3\u001b[0m \u001b[1;33m\u001b[0m\u001b[0m\n\u001b[0;32m      4\u001b[0m \u001b[1;31m# Enter the number of samples, training + validation\u001b[0m\u001b[1;33m\u001b[0m\u001b[1;33m\u001b[0m\u001b[1;33m\u001b[0m\u001b[0m\n\u001b[1;32m----> 5\u001b[1;33m \u001b[0mnb_train_samples\u001b[0m \u001b[1;33m=\u001b[0m \u001b[0mround\u001b[0m\u001b[1;33m(\u001b[0m\u001b[0mlen\u001b[0m\u001b[1;33m(\u001b[0m\u001b[0mx_train\u001b[0m\u001b[1;33m)\u001b[0m\u001b[1;33m*\u001b[0m\u001b[1;36m.8\u001b[0m\u001b[1;33m)\u001b[0m\u001b[1;33m\u001b[0m\u001b[1;33m\u001b[0m\u001b[0m\n\u001b[0m\u001b[0;32m      6\u001b[0m \u001b[0mnb_val_samples\u001b[0m \u001b[1;33m=\u001b[0m \u001b[0mround\u001b[0m\u001b[1;33m(\u001b[0m\u001b[0mlen\u001b[0m\u001b[1;33m(\u001b[0m\u001b[0mx_train\u001b[0m\u001b[1;33m)\u001b[0m\u001b[1;33m*\u001b[0m\u001b[1;36m.2\u001b[0m\u001b[1;33m)\u001b[0m\u001b[1;33m\u001b[0m\u001b[1;33m\u001b[0m\u001b[0m\n\u001b[0;32m      7\u001b[0m \u001b[1;33m\u001b[0m\u001b[0m\n",
      "\u001b[1;31mNameError\u001b[0m: name 'x_train' is not defined"
     ]
    }
   ],
   "source": [
    "# If you like to speed up training process with GPU, first install PlaidML and then uncomment the following line.\n",
    "# Otherwise it will fallback to tensorflow.\n",
    "\n",
    "# Enter the number of samples, training + validation\n",
    "nb_train_samples = round(len(x_train)*.8)\n",
    "nb_val_samples = round(len(x_train)*.2)\n",
    "\n",
    "# We have 3 classes, buy sell, and hold\n",
    "n_features = x_train[0].shape[1]\n",
    "num_classes = 3\n",
    "#batch_size = 8\n",
    "lr = 0.001\n",
    "\n",
    "def make_model(input_shape):\n",
    "    input_layer = keras.layers.Input(input_shape)\n",
    "\n",
    "    conv1 = keras.layers.Conv1D(filters=128, kernel_size=3, padding=\"same\", activation=\"relu\")(input_layer)\n",
    "    conv1 = keras.layers.BatchNormalization()(conv1)\n",
    "    conv1 = keras.layers.Dropout(0.5)(conv1)\n",
    "\n",
    "    conv2 = keras.layers.Conv1D(filters=256, kernel_size=3, padding=\"same\", activation=\"relu\")(conv1)\n",
    "    conv2 = keras.layers.BatchNormalization()(conv2)\n",
    "    conv2 = keras.layers.Dropout(0.5)(conv2)\n",
    "\n",
    "    conv3 = keras.layers.Conv1D(filters=512, kernel_size=3, padding=\"same\", activation=\"relu\")(conv2)\n",
    "    conv3 = keras.layers.BatchNormalization()(conv3)\n",
    "    conv3 = keras.layers.Dropout(0.5)(conv3)\n",
    "\n",
    "    gap = keras.layers.GlobalAveragePooling1D()(conv3)\n",
    "\n",
    "    output_layer = keras.layers.Dense(num_classes, activation=\"softmax\")(gap)\n",
    "\n",
    "    return keras.models.Model(inputs=input_layer, outputs=output_layer)\n",
    "\n",
    "def make_model1(input_shape):\n",
    "    input_layer = keras.layers.Input(input_shape)\n",
    "\n",
    "    conv1 = keras.layers.Conv2D(filters=128, kernel_size=3, padding=\"same\", activation=\"relu\", data_format=\"channels_last\")(input_layer)\n",
    "    conv1 = keras.layers.AveragePooling2D(pool_size=(2,2), padding=\"same\")(conv1)\n",
    "    conv1 = keras.layers.BatchNormalization()(conv1)\n",
    "    conv1 = keras.layers.Dropout(0.5)(conv1)\n",
    "\n",
    "    conv2 = keras.layers.Conv2D(filters=256, kernel_size=3, padding=\"same\", activation=\"relu\", data_format=\"channels_last\")(conv1)\n",
    "    conv2 = keras.layers.AveragePooling2D(pool_size=(2,2), padding=\"same\")(conv2)\n",
    "    conv2 = keras.layers.BatchNormalization()(conv2)\n",
    "    conv2 = keras.layers.Dropout(0.5)(conv2)\n",
    "\n",
    "    conv3 = keras.layers.Conv2D(filters=512, kernel_size=3, padding=\"same\", activation=\"relu\", data_format=\"channels_last\")(conv2)\n",
    "    conv3 = keras.layers.AveragePooling2D(pool_size=(2,2), padding=\"same\")(conv3)\n",
    "    conv3 = keras.layers.BatchNormalization()(conv3)\n",
    "    conv3 = keras.layers.Dropout(0.5)(conv3)\n",
    "\n",
    "    gap = keras.layers.GlobalAveragePooling2D()(conv3)\n",
    "\n",
    "    output_layer = keras.layers.Dense(num_classes, activation=\"softmax\")(gap)\n",
    "\n",
    "    return keras.models.Model(inputs=input_layer, outputs=output_layer)\n",
    "\n",
    "def make_model2(input_shape):\n",
    "    model = M.Sequential()\n",
    "    model.add(L.LSTM(50, input_shape=(x_train.shape[1], x_train.shape[2])))\n",
    "    model.add(L.Dense(1))\n",
    "    \n",
    "    return model\n",
    "\n",
    "def make_model3(input_shape):\n",
    "    model = M.Sequential()\n",
    "    model.add(L.Input(input_shape))\n",
    "    model.add(L.Dense(100, activation=\"selu\"))\n",
    "    model.add(L.BatchNormalization())\n",
    "    \n",
    "    model.add(L.Dense(100, activation=\"selu\"))\n",
    "    model.add(L.BatchNormalization())\n",
    "    \n",
    "    model.add(L.Dense(100, activation=\"selu\"))\n",
    "    model.add(L.BatchNormalization())\n",
    "    \n",
    "    model.add(L.Dense(3, activation=\"softmax\"))\n",
    "    \n",
    "    return model\n",
    "    \n",
    "\n",
    "model = make_model2(input_shape=x_train.shape[1:])\n",
    "#keras.utils.plot_model(model, show_shapes=True)\n",
    "#model.summary()\n",
    "\n",
    "# Calling `save('my_model')` creates a SavedModel folder `my_model`.\n",
    "#model.save(\"my_model\")\n",
    "\n",
    "# It can be used to reconstruct the model identically.\n",
    "#reconstructed_model = keras.models.load_model(\"my_model\")"
   ]
  },
  {
   "cell_type": "code",
   "execution_count": null,
   "metadata": {
    "colab": {
     "base_uri": "https://localhost:8080/",
     "height": 1000
    },
    "id": "upfWHhYk6Y30",
    "outputId": "ad507b89-00ab-4f17-c294-de7f881f6a6c"
   },
   "outputs": [],
   "source": [
    "%%time\n",
    "epochs = 500\n",
    "batch_size = 128\n",
    "\n",
    "callbacks = [\n",
    "             #OneCycle(min_lr=7e-6, max_lr=7e-2, min_mtm = 0.85, max_mtm = 0.95, annealing_stage=0.1, annealing_rate=0.01, training_iterations=np.ceil(((x_train.shape[0]*epochs)/(batch_size)))),\n",
    "    keras.callbacks.ModelCheckpoint(\n",
    "        \"best_model.h5\", save_best_only=True, monitor=\"val_loss\"\n",
    "    ),\n",
    "    keras.callbacks.ReduceLROnPlateau(\n",
    "        monitor=\"val_loss\", factor=0.5, patience=20, min_lr=0.0001\n",
    "    ),\n",
    "    keras.callbacks.EarlyStopping(monitor=\"val_loss\", patience=50, verbose=1),\n",
    "]\n",
    "\n",
    "opt = keras.optimizers.Adam()\n",
    "model.compile(\n",
    "    optimizer=opt,\n",
    "    loss=\"mae\",\n",
    "    metrics=[\"mae\"],\n",
    ")\n",
    "history = model.fit(\n",
    "    x_train,\n",
    "    y_train,\n",
    "    batch_size=batch_size,\n",
    "    epochs=epochs,\n",
    "    callbacks=callbacks,\n",
    "    validation_split=0.2,\n",
    "    verbose=2,\n",
    ")"
   ]
  },
  {
   "cell_type": "code",
   "execution_count": 43,
   "metadata": {
    "colab": {
     "base_uri": "https://localhost:8080/",
     "height": 625
    },
    "id": "tHUVB7XjUFDs",
    "outputId": "f6d39364-118d-456e-b5ce-2cab4d4b0ec1"
   },
   "outputs": [
    {
     "data": {
      "image/png": "[encoded data removed]",
      "text/plain": [
       "<Figure size 720x720 with 1 Axes>"
      ]
     },
     "metadata": {
      "needs_background": "light"
     },
     "output_type": "display_data"
    }
   ],
   "source": [
    "metric = \"mae\"\n",
    "plt.figure(figsize=(10,10))\n",
    "plt.plot(history.history[metric])\n",
    "plt.plot(history.history[\"val_\" + metric])\n",
    "plt.title(\"model \" + metric)\n",
    "plt.ylabel(metric, fontsize=\"large\")\n",
    "plt.xlabel(\"epoch\", fontsize=\"large\")\n",
    "plt.legend([\"train\", \"val\"], loc=\"best\")\n",
    "plt.show()\n",
    "plt.close()"
   ]
  },
  {
   "cell_type": "code",
   "execution_count": null,
   "metadata": {
    "colab": {
     "base_uri": "https://localhost:8080/",
     "height": 34
    },
    "id": "0Zq8BOHmaoxR",
    "outputId": "a1fcb25d-36c3-4230-bb5c-34c5a43f0b74"
   },
   "outputs": [
    {
     "name": "stdout",
     "output_type": "stream",
     "text": [
      "INFO:tensorflow:Assets written to: model_80pct/assets\n"
     ]
    }
   ],
   "source": [
    "model.save(\"model_80pct\")"
   ]
  },
  {
   "cell_type": "markdown",
   "metadata": {
    "id": "cO1XfXAStTi7"
   },
   "source": [
    "# Create Test Set"
   ]
  },
  {
   "cell_type": "code",
   "execution_count": 37,
   "metadata": {
    "id": "eTZ5qTXAfgq4"
   },
   "outputs": [],
   "source": [
    "input_size = 432\n",
    "n_steps = 10\n",
    "data = pd.read_csv(\"data/gbpjpy/gbpjpy_H4.csv\")\n",
    "\n",
    "for i in [\"r1\", \"r2\", \"r3\", \"s1\", \"s2\", \"s3\"]:\n",
    "    data[i] = np.nan\n",
    "\n",
    "\n",
    "# get index of signals\n",
    "signals = data.loc[(data[\"1\"] == 1) | (data[\"1\"] == -1)].index\n",
    "\n",
    "# create training_data based on signals\n",
    "x_test = [data[s-input_size+1:s+1] for s in signals if s > input_size]\n",
    "\n",
    "\n",
    "# create HOLD training data\n",
    "np.random.seed(42)\n",
    "hold_signals = data.loc[(data[\"1\"] != 1) & (data[\"1\"] != -1)].index\n",
    "non_signal_index = np.random.choice(data.loc[(data[\"1\"] != 1) & (data[\"1\"] != -1)].index, size=len(signals)//2)\n",
    "non_signal_index = non_signal_index[non_signal_index > input_size]\n",
    "\n",
    "x_test_hold = [data[s-input_size+1:s+1] for s in non_signal_index if s > input_size]\n",
    "x_test = x_test + x_test_hold\n",
    "y_test = np.append(data[\"1\"][signals][data[\"1\"][signals].index > input_size].values, np.zeros(len(x_test_hold)))\n",
    "y_test[y_test == -1] = 2  # change sell value to positive, 0=hold, 1=buy, 2=sell"
   ]
  },
  {
   "cell_type": "code",
   "execution_count": 38,
   "metadata": {
    "colab": {
     "base_uri": "https://localhost:8080/",
     "height": 86
    },
    "id": "ukIUhyrik0tR",
    "outputId": "0e0f3529-45a7-40aa-c652-70a87a2191ba"
   },
   "outputs": [
    {
     "name": "stderr",
     "output_type": "stream",
     "text": [
      "<ipython-input-38-aaeb1d3e7962>:9: RuntimeWarning: invalid value encountered in greater\n",
      "  r3 = levels[(levels - last_close) > 0][:3]\n",
      "<ipython-input-38-aaeb1d3e7962>:10: RuntimeWarning: invalid value encountered in less\n",
      "  s3 = levels[(levels - last_close) < 0][-3:]\n"
     ]
    }
   ],
   "source": [
    "# get 3 above and 3 below last close price\n",
    "\n",
    "for i, df in enumerate(x_test):\n",
    "    df = sr(df, input_size).drop(columns=[\"1\", \"s\", \"r\"])\n",
    "    \n",
    "    # 3 above and 3 below last close price\n",
    "    levels = np.array(sorted([l for l in df.columns if type(l) == np.float64]))\n",
    "    last_close = df.close[-1]\n",
    "    r3 = levels[(levels - last_close) > 0][:3]\n",
    "    s3 = levels[(levels - last_close) < 0][-3:]\n",
    "    \n",
    "    # change resistance names\n",
    "    for l, name in zip(r3, [\"r1\", \"r2\", \"r3\"]):\n",
    "        df[name] = df[l]\n",
    "\n",
    "    # change support names\n",
    "    for l, name in zip(s3, [\"s1\", \"s2\", \"s3\"]):\n",
    "        #df.rename(columns = {l : name}, errors=\"raise\", inplace=True)\n",
    "        df[name] = df[l]\n",
    "\n",
    "\n",
    "    # remove all other levels columns\n",
    "    levels = np.array(sorted([l for l in df.columns if type(l) == np.float64]))\n",
    "    x_test[i] = df.drop(columns=levels).fillna(0)[-100:]"
   ]
  },
  {
   "cell_type": "code",
   "execution_count": 39,
   "metadata": {
    "id": "Vp7opkGjtZEi"
   },
   "outputs": [],
   "source": [
    "# select which data to use\n",
    "#data = data[[\"index\",\"open\", \"high\", \"low\", \"close\", \"1\"]]\n",
    "\n",
    "\n",
    "# convert from dataframe to numpy array    \n",
    "for i, df in enumerate(x_test):\n",
    "    x_test[i] = df.to_numpy()\n",
    "x_test = np.array(x_test)"
   ]
  },
  {
   "cell_type": "code",
   "execution_count": 40,
   "metadata": {
    "colab": {
     "base_uri": "https://localhost:8080/",
     "height": 52
    },
    "id": "W1rsBUumxJAJ",
    "outputId": "101310d7-948c-4c6f-8a19-2a7109f600fb"
   },
   "outputs": [
    {
     "name": "stdout",
     "output_type": "stream",
     "text": [
      "6/6 [==============================] - 0s 35ms/step - loss: 1.0018 - mae: 1.0018\n"
     ]
    },
    {
     "data": {
      "text/plain": [
       "[1.0017613172531128, 1.0017613172531128]"
      ]
     },
     "execution_count": 40,
     "metadata": {},
     "output_type": "execute_result"
    }
   ],
   "source": [
    "model.evaluate(x_test, y_test, batch_size=128)"
   ]
  },
  {
   "cell_type": "code",
   "execution_count": 41,
   "metadata": {
    "colab": {
     "base_uri": "https://localhost:8080/",
     "height": 34
    },
    "id": "CbsrMMZexhvb",
    "outputId": "3bee96c0-65c2-4a38-ae05-3ba0987874a3"
   },
   "outputs": [
    {
     "data": {
      "text/plain": [
       "2347.2000000000003"
      ]
     },
     "execution_count": 41,
     "metadata": {},
     "output_type": "execute_result"
    }
   ],
   "source": [
    "y_train.shape[0]*.8"
   ]
  },
  {
   "cell_type": "code",
   "execution_count": 49,
   "metadata": {
    "id": "ZnsBrzNoxm60"
   },
   "outputs": [
    {
     "data": {
      "text/plain": [
       "(100, 73)"
      ]
     },
     "execution_count": 49,
     "metadata": {},
     "output_type": "execute_result"
    }
   ],
   "source": [
    "x_train[0].shape"
   ]
  },
  {
   "cell_type": "code",
   "execution_count": null,
   "metadata": {},
   "outputs": [],
   "source": []
  }
 ],
 "metadata": {
  "accelerator": "GPU",
  "colab": {
   "collapsed_sections": [],
   "name": "AI.ipynb",
   "provenance": [],
   "toc_visible": true
  },
  "kernelspec": {
   "display_name": "Python 3",
   "language": "python",
   "name": "python3"
  },
  "language_info": {
   "codemirror_mode": {
    "name": "ipython",
    "version": 3
   },
   "file_extension": ".py",
   "mimetype": "text/x-python",
   "name": "python",
   "nbconvert_exporter": "python",
   "pygments_lexer": "ipython3",
   "version": "3.8.3"
  }
 },
 "nbformat": 4,
 "nbformat_minor": 4
}
