{
 "cells": [
  {
   "cell_type": "code",
   "execution_count": 22,
   "metadata": {
    "colab": {
     "base_uri": "https://localhost:8080/",
     "height": 494
    },
    "id": "ZD-Wxzs_7igM",
    "outputId": "49487f11-027f-4f36-951c-2e1f4b1f5252"
   },
   "outputs": [],
   "source": [
    "from numpy import genfromtxt\n",
    "import matplotlib.pyplot as plt\n",
    "#!pip install mplfinance\n",
    "import mplfinance as mpf\n",
    "from mplfinance.original_flavor import candlestick2_ochl, candlestick_ohlc\n",
    "import numpy as np\n",
    "import pandas as pd\n",
    "import time\n",
    "import shutil\n",
    "import os\n",
    "import sys\n",
    "from SR import *\n",
    "\n",
    "\n",
    "#os.environ[\"KERAS_BACKEND\"] = \"plaidml.keras.backend\"\n",
    "#import keras\n",
    "import tensorflow as tf\n",
    "from tensorflow import keras\n",
    "import tensorflow.keras.models as M\n",
    "import tensorflow.keras.layers as L\n",
    "import keras.backend as K\n",
    "\n",
    "from keras_OneCycle import OneCycle"
   ]
  },
  {
   "cell_type": "code",
   "execution_count": 7,
   "metadata": {
    "id": "RuBhWr6R6Vcj"
   },
   "outputs": [],
   "source": [
    "# Multiple input files\n",
    "input_size = 432\n",
    "n_steps = 10\n",
    "x_train = []\n",
    "y_train = np.empty(1)\n",
    "for i in [\"M15\", \"M30\", \"H1\", \"H4\", \"D\"]:\n",
    "    data = pd.read_csv(\"data/eurusd/eurusd_\" + i + \".csv\")\n",
    "\n",
    "    for i in [\"r1\", \"r2\", \"r3\", \"s1\", \"s2\", \"s3\"]:\n",
    "      data[i] = np.nan\n",
    "\n",
    "\n",
    "    # get index of signals\n",
    "    signals = data.loc[(data[\"1\"] == 1) | (data[\"1\"] == -1)].index\n",
    "\n",
    "    # create training_data based on signals\n",
    "    temp = [data[s-input_size+1:s+1] for s in signals if s > input_size]\n",
    "\n",
    "\n",
    "    # create HOLD training data\n",
    "    np.random.seed(42)\n",
    "    temp_hold_signals = data.loc[(data[\"1\"] != 1) & (data[\"1\"] != -1)].index\n",
    "    temp_non_signal_index = np.random.choice(data.loc[(data[\"1\"] != 1) & (data[\"1\"] != -1)].index, size=len(signals)//2)\n",
    "    temp_non_signal_index = temp_non_signal_index[temp_non_signal_index > input_size]\n",
    "\n",
    "    temp_hold = [data[s-input_size+1:s+1] for s in temp_non_signal_index if s > input_size]\n",
    "    x_train = x_train + temp + temp_hold\n",
    "    y_train = np.append(y_train, data[\"1\"][signals][data[\"1\"][signals].index > input_size].values)\n",
    "    y_train = np.append(y_train, np.zeros(len(temp_hold)))\n",
    "    y_train[y_train == -1] = 2  # change sell value to positive, 0=hold, 1=buy, 2=sell\n",
    "y_train = y_train[1:]   # get rid of the initial \"empty\" position"
   ]
  },
  {
   "cell_type": "code",
   "execution_count": null,
   "metadata": {
    "id": "RtrSziJ_67D0"
   },
   "outputs": [],
   "source": [
    "#single input file\n",
    "input_size = 432\n",
    "n_steps = 10\n",
    "data = pd.read_csv(\"data/eurusd/eurusd_H1.csv\")\n",
    "\n",
    "for i in [\"r1\", \"r2\", \"r3\", \"s1\", \"s2\", \"s3\"]:\n",
    "    data[i] = np.nan\n",
    "\n",
    "\n",
    "# get index of signals\n",
    "signals = data.loc[(data[\"1\"] == 1) | (data[\"1\"] == -1)].index\n",
    "\n",
    "# create training_data based on signals\n",
    "x_train = [data[s-input_size+1:s+1] for s in signals if s > input_size]\n",
    "\n",
    "\n",
    "# create HOLD training data\n",
    "np.random.seed(42)\n",
    "hold_signals = data.loc[(data[\"1\"] != 1) & (data[\"1\"] != -1)].index\n",
    "non_signal_index = np.random.choice(data.loc[(data[\"1\"] != 1) & (data[\"1\"] != -1)].index, size=len(signals)//2)\n",
    "non_signal_index = non_signal_index[non_signal_index > input_size]\n",
    "\n",
    "x_train_hold = [data[s-input_size+1:s+1] for s in non_signal_index if s > input_size]\n",
    "x_train = x_train + x_train_hold\n",
    "y_train = np.append(data[\"1\"][signals][data[\"1\"][signals].index > input_size].values, np.zeros(len(x_train_hold)))\n",
    "y_train[y_train == -1] = 2  # change sell value to positive, 0=hold, 1=buy, 2=sell"
   ]
  },
  {
   "cell_type": "code",
   "execution_count": 4,
   "metadata": {
    "colab": {
     "base_uri": "https://localhost:8080/",
     "height": 86
    },
    "id": "EpLb7H3-6g6p",
    "outputId": "65fa13d7-dc8a-4bfd-945e-d66667109c49"
   },
   "outputs": [
    {
     "name": "stderr",
     "output_type": "stream",
     "text": [
      "<timed exec>:9: RuntimeWarning: invalid value encountered in greater\n",
      "<timed exec>:10: RuntimeWarning: invalid value encountered in less\n"
     ]
    },
    {
     "name": "stdout",
     "output_type": "stream",
     "text": [
      "CPU times: user 17min 5s, sys: 2.86 s, total: 17min 8s\n",
      "Wall time: 17min 13s\n"
     ]
    }
   ],
   "source": [
    "%%time\n",
    "# get 3 above and 3 below last close price\n",
    "\n",
    "for i, df in enumerate(x_train):\n",
    "    df = sr(df, input_size).drop(columns=[\"1\", \"s\", \"r\"])\n",
    "    \n",
    "    # 3 above and 3 below last close price\n",
    "    levels = np.array(sorted([l for l in df.columns if type(l) == np.float64]))\n",
    "    last_close = df.close[-1]\n",
    "    r3 = levels[(levels - last_close) > 0][:3]\n",
    "    s3 = levels[(levels - last_close) < 0][-3:]\n",
    "    \n",
    "    # change resistance names\n",
    "    for l, name in zip(r3, [\"r1\", \"r2\", \"r3\"]):\n",
    "        df[name] = df[l]\n",
    "\n",
    "    # change support names\n",
    "    for l, name in zip(s3, [\"s1\", \"s2\", \"s3\"]):\n",
    "        #df.rename(columns = {l : name}, errors=\"raise\", inplace=True)\n",
    "        df[name] = df[l]\n",
    "\n",
    "\n",
    "    # remove all other levels columns\n",
    "    levels = np.array(sorted([l for l in df.columns if type(l) == np.float64]))\n",
    "    x_train[i] = df.drop(columns=levels).fillna(0)[-100:]"
   ]
  },
  {
   "cell_type": "code",
   "execution_count": 31,
   "metadata": {},
   "outputs": [],
   "source": [
    "# reshaping the array from 3D \n",
    "# matrice to 2D matrice. \n",
    "#x_train_reshaped = x_train.reshape(x_train.shape[0], -1) \n",
    "  \n",
    "# saving reshaped array to file. \n",
    "#np.savetxt(\"x_train.txt\", x_train_reshaped) \n",
    "  \n",
    "# retrieving data from file. \n",
    "x_train = np.loadtxt(\"x_train.txt\") \n",
    "  \n",
    "# This loadedArr is a 2D array, therefore \n",
    "# we need to convert it to the original \n",
    "# array shape.reshaping to get original \n",
    "# matrice with original shape. \n",
    "x_train = x_train.reshape( \n",
    "    x_train.shape[0], x_train.shape[1] // 73, 73) "
   ]
  },
  {
   "cell_type": "code",
   "execution_count": null,
   "metadata": {},
   "outputs": [],
   "source": [
    "x_train"
   ]
  },
  {
   "cell_type": "code",
   "execution_count": 47,
   "metadata": {
    "id": "abE6fhcr7igU"
   },
   "outputs": [],
   "source": [
    "# If you like to speed up training process with GPU, first install PlaidML and then uncomment the following line.\n",
    "# Otherwise it will fallback to tensorflow.\n",
    "\n",
    "# Enter the number of samples, training + validation\n",
    "nb_train_samples = round(len(x_train)*.8)\n",
    "nb_val_samples = round(len(x_train)*.2)\n",
    "\n",
    "# We have 3 classes, buy sell, and hold\n",
    "n_features = x_train[0].shape[1]\n",
    "num_classes = 3\n",
    "lr = 0.001\n",
    "\n",
    "def make_model(input_shape):\n",
    "    input_layer = keras.layers.Input(input_shape)\n",
    "\n",
    "    conv1 = keras.layers.Conv1D(filters=128, kernel_size=3, padding=\"same\", activation=\"relu\")(input_layer)\n",
    "    conv1 = keras.layers.BatchNormalization()(conv1)\n",
    "    conv1 = keras.layers.Dropout(0.5)(conv1)\n",
    "\n",
    "    conv2 = keras.layers.Conv1D(filters=256, kernel_size=3, padding=\"same\", activation=\"relu\")(conv1)\n",
    "    conv2 = keras.layers.BatchNormalization()(conv2)\n",
    "    conv2 = keras.layers.Dropout(0.5)(conv2)\n",
    "\n",
    "    conv3 = keras.layers.Conv1D(filters=512, kernel_size=3, padding=\"same\", activation=\"relu\")(conv2)\n",
    "    conv3 = keras.layers.BatchNormalization()(conv3)\n",
    "    conv3 = keras.layers.Dropout(0.5)(conv3)\n",
    "\n",
    "    gap = keras.layers.GlobalAveragePooling1D()(conv3)\n",
    "\n",
    "    output_layer = keras.layers.Dense(num_classes, activation=\"softmax\")(gap)\n",
    "\n",
    "    return keras.models.Model(inputs=input_layer, outputs=output_layer)\n",
    "\n",
    "def make_model1(input_shape):\n",
    "    input_layer = keras.layers.Input(input_shape)\n",
    "\n",
    "    conv1 = keras.layers.Conv2D(filters=128, kernel_size=3, padding=\"same\", activation=\"relu\", data_format=\"channels_last\")(input_layer)\n",
    "    conv1 = keras.layers.AveragePooling2D(pool_size=(2,2), padding=\"same\")(conv1)\n",
    "    conv1 = keras.layers.BatchNormalization()(conv1)\n",
    "    conv1 = keras.layers.Dropout(0.5)(conv1)\n",
    "\n",
    "    conv2 = keras.layers.Conv2D(filters=256, kernel_size=3, padding=\"same\", activation=\"relu\", data_format=\"channels_last\")(conv1)\n",
    "    conv2 = keras.layers.AveragePooling2D(pool_size=(2,2), padding=\"same\")(conv2)\n",
    "    conv2 = keras.layers.BatchNormalization()(conv2)\n",
    "    conv2 = keras.layers.Dropout(0.5)(conv2)\n",
    "\n",
    "    conv3 = keras.layers.Conv2D(filters=512, kernel_size=3, padding=\"same\", activation=\"relu\", data_format=\"channels_last\")(conv2)\n",
    "    conv3 = keras.layers.AveragePooling2D(pool_size=(2,2), padding=\"same\")(conv3)\n",
    "    conv3 = keras.layers.BatchNormalization()(conv3)\n",
    "    conv3 = keras.layers.Dropout(0.5)(conv3)\n",
    "\n",
    "    gap = keras.layers.GlobalAveragePooling2D()(conv3)\n",
    "\n",
    "    output_layer = keras.layers.Dense(num_classes, activation=\"softmax\")(gap)\n",
    "\n",
    "    return keras.models.Model(inputs=input_layer, outputs=output_layer)\n",
    "\n",
    "def make_model2(input_shape):\n",
    "    model = M.Sequential()\n",
    "    model.add(L.LSTM(50, input_shape=(x_train.shape[1], x_train.shape[2])))\n",
    "    model.add(L.Dense(1))\n",
    "    \n",
    "    return model\n",
    "\n",
    "def make_model3(input_shape):\n",
    "    model = M.Sequential()\n",
    "    model.add(L.Input(input_shape))\n",
    "    model.add(L.Dense(100, activation=\"selu\"))\n",
    "    model.add(L.BatchNormalization())\n",
    "    \n",
    "    model.add(L.Dense(100, activation=\"selu\"))\n",
    "    model.add(L.BatchNormalization())\n",
    "    \n",
    "    model.add(L.Dense(100, activation=\"selu\"))\n",
    "    model.add(L.BatchNormalization())\n",
    "    \n",
    "    model.add(L.Dense(3, activation=\"softmax\"))\n",
    "    \n",
    "    return model\n",
    "    \n",
    "\n",
    "model = make_model(input_shape=x_train.shape[1:])\n",
    "#keras.utils.plot_model(model, show_shapes=True)\n",
    "#model.summary()\n",
    "\n",
    "# Calling `save('my_model')` creates a SavedModel folder `my_model`.\n",
    "#model.save(\"my_model\")\n",
    "\n",
    "# It can be used to reconstruct the model identically.\n",
    "#reconstructed_model = keras.models.load_model(\"my_model\")"
   ]
  },
  {
   "cell_type": "code",
   "execution_count": 48,
   "metadata": {
    "colab": {
     "base_uri": "https://localhost:8080/",
     "height": 1000
    },
    "id": "upfWHhYk6Y30",
    "outputId": "ad507b89-00ab-4f17-c294-de7f881f6a6c"
   },
   "outputs": [
    {
     "name": "stdout",
     "output_type": "stream",
     "text": [
      "Epoch 1/500\n",
      "294/294 - 6s - loss: 1.1521 - accuracy: 0.3363 - val_loss: 1.0294 - val_accuracy: 0.4855\n",
      "Epoch 2/500\n",
      "294/294 - 5s - loss: 1.0818 - accuracy: 0.3926 - val_loss: 1.0076 - val_accuracy: 0.4923\n",
      "Epoch 3/500\n",
      "294/294 - 5s - loss: 1.0726 - accuracy: 0.3973 - val_loss: 1.0591 - val_accuracy: 0.4872\n",
      "Epoch 4/500\n",
      "294/294 - 6s - loss: 1.0672 - accuracy: 0.4062 - val_loss: 1.2025 - val_accuracy: 0.4855\n",
      "Epoch 5/500\n",
      "294/294 - 5s - loss: 1.0759 - accuracy: 0.3960 - val_loss: 1.2174 - val_accuracy: 0.4770\n",
      "Epoch 6/500\n",
      "294/294 - 6s - loss: 1.0628 - accuracy: 0.4156 - val_loss: 1.2913 - val_accuracy: 0.4702\n",
      "Epoch 7/500\n",
      "294/294 - 5s - loss: 1.0566 - accuracy: 0.4105 - val_loss: 1.4653 - val_accuracy: 0.4549\n",
      "Epoch 8/500\n",
      "294/294 - 5s - loss: 1.0523 - accuracy: 0.4088 - val_loss: 1.5544 - val_accuracy: 0.4293\n",
      "Epoch 9/500\n",
      "294/294 - 6s - loss: 1.0499 - accuracy: 0.4186 - val_loss: 1.8336 - val_accuracy: 0.3220\n",
      "Epoch 10/500\n",
      "294/294 - 5s - loss: 1.0553 - accuracy: 0.3964 - val_loss: 1.8323 - val_accuracy: 0.3697\n",
      "Epoch 11/500\n"
     ]
    },
    {
     "ename": "KeyboardInterrupt",
     "evalue": "",
     "output_type": "error",
     "traceback": [
      "\u001b[0;31m---------------------------------------------------------------------------\u001b[0m",
      "\u001b[0;31mKeyboardInterrupt\u001b[0m                         Traceback (most recent call last)",
      "\u001b[0;32m<timed exec>\u001b[0m in \u001b[0;36m<module>\u001b[0;34m\u001b[0m\n",
      "\u001b[0;32m~/anaconda3/lib/python3.8/site-packages/tensorflow/python/keras/engine/training.py\u001b[0m in \u001b[0;36m_method_wrapper\u001b[0;34m(self, *args, **kwargs)\u001b[0m\n\u001b[1;32m    106\u001b[0m   \u001b[0;32mdef\u001b[0m \u001b[0m_method_wrapper\u001b[0m\u001b[0;34m(\u001b[0m\u001b[0mself\u001b[0m\u001b[0;34m,\u001b[0m \u001b[0;34m*\u001b[0m\u001b[0margs\u001b[0m\u001b[0;34m,\u001b[0m \u001b[0;34m**\u001b[0m\u001b[0mkwargs\u001b[0m\u001b[0;34m)\u001b[0m\u001b[0;34m:\u001b[0m\u001b[0;34m\u001b[0m\u001b[0;34m\u001b[0m\u001b[0m\n\u001b[1;32m    107\u001b[0m     \u001b[0;32mif\u001b[0m \u001b[0;32mnot\u001b[0m \u001b[0mself\u001b[0m\u001b[0;34m.\u001b[0m\u001b[0m_in_multi_worker_mode\u001b[0m\u001b[0;34m(\u001b[0m\u001b[0;34m)\u001b[0m\u001b[0;34m:\u001b[0m  \u001b[0;31m# pylint: disable=protected-access\u001b[0m\u001b[0;34m\u001b[0m\u001b[0;34m\u001b[0m\u001b[0m\n\u001b[0;32m--> 108\u001b[0;31m       \u001b[0;32mreturn\u001b[0m \u001b[0mmethod\u001b[0m\u001b[0;34m(\u001b[0m\u001b[0mself\u001b[0m\u001b[0;34m,\u001b[0m \u001b[0;34m*\u001b[0m\u001b[0margs\u001b[0m\u001b[0;34m,\u001b[0m \u001b[0;34m**\u001b[0m\u001b[0mkwargs\u001b[0m\u001b[0;34m)\u001b[0m\u001b[0;34m\u001b[0m\u001b[0;34m\u001b[0m\u001b[0m\n\u001b[0m\u001b[1;32m    109\u001b[0m \u001b[0;34m\u001b[0m\u001b[0m\n\u001b[1;32m    110\u001b[0m     \u001b[0;31m# Running inside `run_distribute_coordinator` already.\u001b[0m\u001b[0;34m\u001b[0m\u001b[0;34m\u001b[0m\u001b[0;34m\u001b[0m\u001b[0m\n",
      "\u001b[0;32m~/anaconda3/lib/python3.8/site-packages/tensorflow/python/keras/engine/training.py\u001b[0m in \u001b[0;36mfit\u001b[0;34m(self, x, y, batch_size, epochs, verbose, callbacks, validation_split, validation_data, shuffle, class_weight, sample_weight, initial_epoch, steps_per_epoch, validation_steps, validation_batch_size, validation_freq, max_queue_size, workers, use_multiprocessing)\u001b[0m\n\u001b[1;32m   1096\u001b[0m                 batch_size=batch_size):\n\u001b[1;32m   1097\u001b[0m               \u001b[0mcallbacks\u001b[0m\u001b[0;34m.\u001b[0m\u001b[0mon_train_batch_begin\u001b[0m\u001b[0;34m(\u001b[0m\u001b[0mstep\u001b[0m\u001b[0;34m)\u001b[0m\u001b[0;34m\u001b[0m\u001b[0;34m\u001b[0m\u001b[0m\n\u001b[0;32m-> 1098\u001b[0;31m               \u001b[0mtmp_logs\u001b[0m \u001b[0;34m=\u001b[0m \u001b[0mtrain_function\u001b[0m\u001b[0;34m(\u001b[0m\u001b[0miterator\u001b[0m\u001b[0;34m)\u001b[0m\u001b[0;34m\u001b[0m\u001b[0;34m\u001b[0m\u001b[0m\n\u001b[0m\u001b[1;32m   1099\u001b[0m               \u001b[0;32mif\u001b[0m \u001b[0mdata_handler\u001b[0m\u001b[0;34m.\u001b[0m\u001b[0mshould_sync\u001b[0m\u001b[0;34m:\u001b[0m\u001b[0;34m\u001b[0m\u001b[0;34m\u001b[0m\u001b[0m\n\u001b[1;32m   1100\u001b[0m                 \u001b[0mcontext\u001b[0m\u001b[0;34m.\u001b[0m\u001b[0masync_wait\u001b[0m\u001b[0;34m(\u001b[0m\u001b[0;34m)\u001b[0m\u001b[0;34m\u001b[0m\u001b[0;34m\u001b[0m\u001b[0m\n",
      "\u001b[0;32m~/anaconda3/lib/python3.8/site-packages/tensorflow/python/eager/def_function.py\u001b[0m in \u001b[0;36m__call__\u001b[0;34m(self, *args, **kwds)\u001b[0m\n\u001b[1;32m    778\u001b[0m       \u001b[0;32melse\u001b[0m\u001b[0;34m:\u001b[0m\u001b[0;34m\u001b[0m\u001b[0;34m\u001b[0m\u001b[0m\n\u001b[1;32m    779\u001b[0m         \u001b[0mcompiler\u001b[0m \u001b[0;34m=\u001b[0m \u001b[0;34m\"nonXla\"\u001b[0m\u001b[0;34m\u001b[0m\u001b[0;34m\u001b[0m\u001b[0m\n\u001b[0;32m--> 780\u001b[0;31m         \u001b[0mresult\u001b[0m \u001b[0;34m=\u001b[0m \u001b[0mself\u001b[0m\u001b[0;34m.\u001b[0m\u001b[0m_call\u001b[0m\u001b[0;34m(\u001b[0m\u001b[0;34m*\u001b[0m\u001b[0margs\u001b[0m\u001b[0;34m,\u001b[0m \u001b[0;34m**\u001b[0m\u001b[0mkwds\u001b[0m\u001b[0;34m)\u001b[0m\u001b[0;34m\u001b[0m\u001b[0;34m\u001b[0m\u001b[0m\n\u001b[0m\u001b[1;32m    781\u001b[0m \u001b[0;34m\u001b[0m\u001b[0m\n\u001b[1;32m    782\u001b[0m       \u001b[0mnew_tracing_count\u001b[0m \u001b[0;34m=\u001b[0m \u001b[0mself\u001b[0m\u001b[0;34m.\u001b[0m\u001b[0m_get_tracing_count\u001b[0m\u001b[0;34m(\u001b[0m\u001b[0;34m)\u001b[0m\u001b[0;34m\u001b[0m\u001b[0;34m\u001b[0m\u001b[0m\n",
      "\u001b[0;32m~/anaconda3/lib/python3.8/site-packages/tensorflow/python/eager/def_function.py\u001b[0m in \u001b[0;36m_call\u001b[0;34m(self, *args, **kwds)\u001b[0m\n\u001b[1;32m    805\u001b[0m       \u001b[0;31m# In this case we have created variables on the first call, so we run the\u001b[0m\u001b[0;34m\u001b[0m\u001b[0;34m\u001b[0m\u001b[0;34m\u001b[0m\u001b[0m\n\u001b[1;32m    806\u001b[0m       \u001b[0;31m# defunned version which is guaranteed to never create variables.\u001b[0m\u001b[0;34m\u001b[0m\u001b[0;34m\u001b[0m\u001b[0;34m\u001b[0m\u001b[0m\n\u001b[0;32m--> 807\u001b[0;31m       \u001b[0;32mreturn\u001b[0m \u001b[0mself\u001b[0m\u001b[0;34m.\u001b[0m\u001b[0m_stateless_fn\u001b[0m\u001b[0;34m(\u001b[0m\u001b[0;34m*\u001b[0m\u001b[0margs\u001b[0m\u001b[0;34m,\u001b[0m \u001b[0;34m**\u001b[0m\u001b[0mkwds\u001b[0m\u001b[0;34m)\u001b[0m  \u001b[0;31m# pylint: disable=not-callable\u001b[0m\u001b[0;34m\u001b[0m\u001b[0;34m\u001b[0m\u001b[0m\n\u001b[0m\u001b[1;32m    808\u001b[0m     \u001b[0;32melif\u001b[0m \u001b[0mself\u001b[0m\u001b[0;34m.\u001b[0m\u001b[0m_stateful_fn\u001b[0m \u001b[0;32mis\u001b[0m \u001b[0;32mnot\u001b[0m \u001b[0;32mNone\u001b[0m\u001b[0;34m:\u001b[0m\u001b[0;34m\u001b[0m\u001b[0;34m\u001b[0m\u001b[0m\n\u001b[1;32m    809\u001b[0m       \u001b[0;31m# Release the lock early so that multiple threads can perform the call\u001b[0m\u001b[0;34m\u001b[0m\u001b[0;34m\u001b[0m\u001b[0;34m\u001b[0m\u001b[0m\n",
      "\u001b[0;32m~/anaconda3/lib/python3.8/site-packages/tensorflow/python/eager/function.py\u001b[0m in \u001b[0;36m__call__\u001b[0;34m(self, *args, **kwargs)\u001b[0m\n\u001b[1;32m   2827\u001b[0m     \u001b[0;32mwith\u001b[0m \u001b[0mself\u001b[0m\u001b[0;34m.\u001b[0m\u001b[0m_lock\u001b[0m\u001b[0;34m:\u001b[0m\u001b[0;34m\u001b[0m\u001b[0;34m\u001b[0m\u001b[0m\n\u001b[1;32m   2828\u001b[0m       \u001b[0mgraph_function\u001b[0m\u001b[0;34m,\u001b[0m \u001b[0margs\u001b[0m\u001b[0;34m,\u001b[0m \u001b[0mkwargs\u001b[0m \u001b[0;34m=\u001b[0m \u001b[0mself\u001b[0m\u001b[0;34m.\u001b[0m\u001b[0m_maybe_define_function\u001b[0m\u001b[0;34m(\u001b[0m\u001b[0margs\u001b[0m\u001b[0;34m,\u001b[0m \u001b[0mkwargs\u001b[0m\u001b[0;34m)\u001b[0m\u001b[0;34m\u001b[0m\u001b[0;34m\u001b[0m\u001b[0m\n\u001b[0;32m-> 2829\u001b[0;31m     \u001b[0;32mreturn\u001b[0m \u001b[0mgraph_function\u001b[0m\u001b[0;34m.\u001b[0m\u001b[0m_filtered_call\u001b[0m\u001b[0;34m(\u001b[0m\u001b[0margs\u001b[0m\u001b[0;34m,\u001b[0m \u001b[0mkwargs\u001b[0m\u001b[0;34m)\u001b[0m  \u001b[0;31m# pylint: disable=protected-access\u001b[0m\u001b[0;34m\u001b[0m\u001b[0;34m\u001b[0m\u001b[0m\n\u001b[0m\u001b[1;32m   2830\u001b[0m \u001b[0;34m\u001b[0m\u001b[0m\n\u001b[1;32m   2831\u001b[0m   \u001b[0;34m@\u001b[0m\u001b[0mproperty\u001b[0m\u001b[0;34m\u001b[0m\u001b[0;34m\u001b[0m\u001b[0m\n",
      "\u001b[0;32m~/anaconda3/lib/python3.8/site-packages/tensorflow/python/eager/function.py\u001b[0m in \u001b[0;36m_filtered_call\u001b[0;34m(self, args, kwargs, cancellation_manager)\u001b[0m\n\u001b[1;32m   1841\u001b[0m       \u001b[0;31m`\u001b[0m\u001b[0margs\u001b[0m\u001b[0;31m`\u001b[0m \u001b[0;32mand\u001b[0m\u001b[0;31m \u001b[0m\u001b[0;31m`\u001b[0m\u001b[0mkwargs\u001b[0m\u001b[0;31m`\u001b[0m\u001b[0;34m.\u001b[0m\u001b[0;34m\u001b[0m\u001b[0;34m\u001b[0m\u001b[0m\n\u001b[1;32m   1842\u001b[0m     \"\"\"\n\u001b[0;32m-> 1843\u001b[0;31m     return self._call_flat(\n\u001b[0m\u001b[1;32m   1844\u001b[0m         [t for t in nest.flatten((args, kwargs), expand_composites=True)\n\u001b[1;32m   1845\u001b[0m          if isinstance(t, (ops.Tensor,\n",
      "\u001b[0;32m~/anaconda3/lib/python3.8/site-packages/tensorflow/python/eager/function.py\u001b[0m in \u001b[0;36m_call_flat\u001b[0;34m(self, args, captured_inputs, cancellation_manager)\u001b[0m\n\u001b[1;32m   1921\u001b[0m         and executing_eagerly):\n\u001b[1;32m   1922\u001b[0m       \u001b[0;31m# No tape is watching; skip to running the function.\u001b[0m\u001b[0;34m\u001b[0m\u001b[0;34m\u001b[0m\u001b[0;34m\u001b[0m\u001b[0m\n\u001b[0;32m-> 1923\u001b[0;31m       return self._build_call_outputs(self._inference_function.call(\n\u001b[0m\u001b[1;32m   1924\u001b[0m           ctx, args, cancellation_manager=cancellation_manager))\n\u001b[1;32m   1925\u001b[0m     forward_backward = self._select_forward_and_backward_functions(\n",
      "\u001b[0;32m~/anaconda3/lib/python3.8/site-packages/tensorflow/python/eager/function.py\u001b[0m in \u001b[0;36mcall\u001b[0;34m(self, ctx, args, cancellation_manager)\u001b[0m\n\u001b[1;32m    543\u001b[0m       \u001b[0;32mwith\u001b[0m \u001b[0m_InterpolateFunctionError\u001b[0m\u001b[0;34m(\u001b[0m\u001b[0mself\u001b[0m\u001b[0;34m)\u001b[0m\u001b[0;34m:\u001b[0m\u001b[0;34m\u001b[0m\u001b[0;34m\u001b[0m\u001b[0m\n\u001b[1;32m    544\u001b[0m         \u001b[0;32mif\u001b[0m \u001b[0mcancellation_manager\u001b[0m \u001b[0;32mis\u001b[0m \u001b[0;32mNone\u001b[0m\u001b[0;34m:\u001b[0m\u001b[0;34m\u001b[0m\u001b[0;34m\u001b[0m\u001b[0m\n\u001b[0;32m--> 545\u001b[0;31m           outputs = execute.execute(\n\u001b[0m\u001b[1;32m    546\u001b[0m               \u001b[0mstr\u001b[0m\u001b[0;34m(\u001b[0m\u001b[0mself\u001b[0m\u001b[0;34m.\u001b[0m\u001b[0msignature\u001b[0m\u001b[0;34m.\u001b[0m\u001b[0mname\u001b[0m\u001b[0;34m)\u001b[0m\u001b[0;34m,\u001b[0m\u001b[0;34m\u001b[0m\u001b[0;34m\u001b[0m\u001b[0m\n\u001b[1;32m    547\u001b[0m               \u001b[0mnum_outputs\u001b[0m\u001b[0;34m=\u001b[0m\u001b[0mself\u001b[0m\u001b[0;34m.\u001b[0m\u001b[0m_num_outputs\u001b[0m\u001b[0;34m,\u001b[0m\u001b[0;34m\u001b[0m\u001b[0;34m\u001b[0m\u001b[0m\n",
      "\u001b[0;32m~/anaconda3/lib/python3.8/site-packages/tensorflow/python/eager/execute.py\u001b[0m in \u001b[0;36mquick_execute\u001b[0;34m(op_name, num_outputs, inputs, attrs, ctx, name)\u001b[0m\n\u001b[1;32m     57\u001b[0m   \u001b[0;32mtry\u001b[0m\u001b[0;34m:\u001b[0m\u001b[0;34m\u001b[0m\u001b[0;34m\u001b[0m\u001b[0m\n\u001b[1;32m     58\u001b[0m     \u001b[0mctx\u001b[0m\u001b[0;34m.\u001b[0m\u001b[0mensure_initialized\u001b[0m\u001b[0;34m(\u001b[0m\u001b[0;34m)\u001b[0m\u001b[0;34m\u001b[0m\u001b[0;34m\u001b[0m\u001b[0m\n\u001b[0;32m---> 59\u001b[0;31m     tensors = pywrap_tfe.TFE_Py_Execute(ctx._handle, device_name, op_name,\n\u001b[0m\u001b[1;32m     60\u001b[0m                                         inputs, attrs, num_outputs)\n\u001b[1;32m     61\u001b[0m   \u001b[0;32mexcept\u001b[0m \u001b[0mcore\u001b[0m\u001b[0;34m.\u001b[0m\u001b[0m_NotOkStatusException\u001b[0m \u001b[0;32mas\u001b[0m \u001b[0me\u001b[0m\u001b[0;34m:\u001b[0m\u001b[0;34m\u001b[0m\u001b[0;34m\u001b[0m\u001b[0m\n",
      "\u001b[0;31mKeyboardInterrupt\u001b[0m: "
     ]
    }
   ],
   "source": [
    "%%time\n",
    "epochs = 500\n",
    "batch_size = 8\n",
    "\n",
    "callbacks = [\n",
    "    OneCycle(min_lr=7e-6, max_lr=7e-2, min_mtm = 0.85, max_mtm = 0.95, annealing_stage=0.1, annealing_rate=0.01, training_iterations=np.ceil(((x_train.shape[0]*epochs)/(batch_size)))),\n",
    "    keras.callbacks.ModelCheckpoint(\n",
    "        \"best_model.h5\", save_best_only=True, monitor=\"val_loss\"\n",
    "    ),\n",
    "    keras.callbacks.ReduceLROnPlateau(\n",
    "        monitor=\"val_loss\", factor=0.5, patience=20, min_lr=0.0001\n",
    "    ),\n",
    "    keras.callbacks.EarlyStopping(monitor=\"val_loss\", patience=50, verbose=1),\n",
    "]\n",
    "\n",
    "opt = keras.optimizers.SGD()\n",
    "losses = keras.losses.SparseCategoricalCrossentropy()\n",
    "model.compile(\n",
    "    optimizer=opt,\n",
    "    loss=losses,\n",
    "    metrics=[\"accuracy\"],\n",
    ")\n",
    "history = model.fit(\n",
    "    x_train,\n",
    "    y_train,\n",
    "    batch_size=batch_size,\n",
    "    epochs=epochs,\n",
    "    callbacks=callbacks,\n",
    "    validation_split=0.2,\n",
    "    verbose=2,\n",
    ")"
   ]
  },
  {
   "cell_type": "code",
   "execution_count": 26,
   "metadata": {
    "colab": {
     "base_uri": "https://localhost:8080/",
     "height": 625
    },
    "id": "tHUVB7XjUFDs",
    "outputId": "f6d39364-118d-456e-b5ce-2cab4d4b0ec1"
   },
   "outputs": [
    {
     "data": {
      "image/png": "[encoded data removed]",
      "text/plain": [
       "<Figure size 720x720 with 1 Axes>"
      ]
     },
     "metadata": {
      "needs_background": "light"
     },
     "output_type": "display_data"
    }
   ],
   "source": [
    "metric = \"sparse_categorical_crossentropy\"\n",
    "plt.figure(figsize=(10,10))\n",
    "plt.plot(history.history[metric])\n",
    "plt.plot(history.history[\"val_\" + metric])\n",
    "plt.title(\"model \" + metric)\n",
    "plt.ylabel(metric, fontsize=\"large\")\n",
    "plt.xlabel(\"epoch\", fontsize=\"large\")\n",
    "plt.legend([\"train\", \"val\"], loc=\"best\")\n",
    "plt.show()\n",
    "plt.close()"
   ]
  },
  {
   "cell_type": "code",
   "execution_count": null,
   "metadata": {
    "colab": {
     "base_uri": "https://localhost:8080/",
     "height": 34
    },
    "id": "0Zq8BOHmaoxR",
    "outputId": "a1fcb25d-36c3-4230-bb5c-34c5a43f0b74"
   },
   "outputs": [
    {
     "name": "stdout",
     "output_type": "stream",
     "text": [
      "INFO:tensorflow:Assets written to: model_80pct/assets\n"
     ]
    }
   ],
   "source": [
    "model.save(\"model_80pct\")"
   ]
  },
  {
   "cell_type": "markdown",
   "metadata": {
    "id": "cO1XfXAStTi7"
   },
   "source": [
    "# Create Test Set"
   ]
  },
  {
   "cell_type": "code",
   "execution_count": 37,
   "metadata": {
    "id": "eTZ5qTXAfgq4"
   },
   "outputs": [],
   "source": [
    "input_size = 432\n",
    "n_steps = 10\n",
    "data = pd.read_csv(\"data/gbpjpy/gbpjpy_H4.csv\")\n",
    "\n",
    "for i in [\"r1\", \"r2\", \"r3\", \"s1\", \"s2\", \"s3\"]:\n",
    "    data[i] = np.nan\n",
    "\n",
    "\n",
    "# get index of signals\n",
    "signals = data.loc[(data[\"1\"] == 1) | (data[\"1\"] == -1)].index\n",
    "\n",
    "# create training_data based on signals\n",
    "x_test = [data[s-input_size+1:s+1] for s in signals if s > input_size]\n",
    "\n",
    "\n",
    "# create HOLD training data\n",
    "np.random.seed(42)\n",
    "hold_signals = data.loc[(data[\"1\"] != 1) & (data[\"1\"] != -1)].index\n",
    "non_signal_index = np.random.choice(data.loc[(data[\"1\"] != 1) & (data[\"1\"] != -1)].index, size=len(signals)//2)\n",
    "non_signal_index = non_signal_index[non_signal_index > input_size]\n",
    "\n",
    "x_test_hold = [data[s-input_size+1:s+1] for s in non_signal_index if s > input_size]\n",
    "x_test = x_test + x_test_hold\n",
    "y_test = np.append(data[\"1\"][signals][data[\"1\"][signals].index > input_size].values, np.zeros(len(x_test_hold)))\n",
    "y_test[y_test == -1] = 2  # change sell value to positive, 0=hold, 1=buy, 2=sell"
   ]
  },
  {
   "cell_type": "code",
   "execution_count": 38,
   "metadata": {
    "colab": {
     "base_uri": "https://localhost:8080/",
     "height": 86
    },
    "id": "ukIUhyrik0tR",
    "outputId": "0e0f3529-45a7-40aa-c652-70a87a2191ba"
   },
   "outputs": [
    {
     "name": "stderr",
     "output_type": "stream",
     "text": [
      "<ipython-input-38-aaeb1d3e7962>:9: RuntimeWarning: invalid value encountered in greater\n",
      "  r3 = levels[(levels - last_close) > 0][:3]\n",
      "<ipython-input-38-aaeb1d3e7962>:10: RuntimeWarning: invalid value encountered in less\n",
      "  s3 = levels[(levels - last_close) < 0][-3:]\n"
     ]
    }
   ],
   "source": [
    "# get 3 above and 3 below last close price\n",
    "\n",
    "for i, df in enumerate(x_test):\n",
    "    df = sr(df, input_size).drop(columns=[\"1\", \"s\", \"r\"])\n",
    "    \n",
    "    # 3 above and 3 below last close price\n",
    "    levels = np.array(sorted([l for l in df.columns if type(l) == np.float64]))\n",
    "    last_close = df.close[-1]\n",
    "    r3 = levels[(levels - last_close) > 0][:3]\n",
    "    s3 = levels[(levels - last_close) < 0][-3:]\n",
    "    \n",
    "    # change resistance names\n",
    "    for l, name in zip(r3, [\"r1\", \"r2\", \"r3\"]):\n",
    "        df[name] = df[l]\n",
    "\n",
    "    # change support names\n",
    "    for l, name in zip(s3, [\"s1\", \"s2\", \"s3\"]):\n",
    "        #df.rename(columns = {l : name}, errors=\"raise\", inplace=True)\n",
    "        df[name] = df[l]\n",
    "\n",
    "\n",
    "    # remove all other levels columns\n",
    "    levels = np.array(sorted([l for l in df.columns if type(l) == np.float64]))\n",
    "    x_test[i] = df.drop(columns=levels).fillna(0)[-100:]"
   ]
  },
  {
   "cell_type": "code",
   "execution_count": 39,
   "metadata": {
    "id": "Vp7opkGjtZEi"
   },
   "outputs": [],
   "source": [
    "# select which data to use\n",
    "#data = data[[\"index\",\"open\", \"high\", \"low\", \"close\", \"1\"]]\n",
    "\n",
    "\n",
    "# convert from dataframe to numpy array    \n",
    "for i, df in enumerate(x_test):\n",
    "    x_test[i] = df.to_numpy()\n",
    "x_test = np.array(x_test)"
   ]
  },
  {
   "cell_type": "code",
   "execution_count": 40,
   "metadata": {
    "colab": {
     "base_uri": "https://localhost:8080/",
     "height": 52
    },
    "id": "W1rsBUumxJAJ",
    "outputId": "101310d7-948c-4c6f-8a19-2a7109f600fb"
   },
   "outputs": [
    {
     "name": "stdout",
     "output_type": "stream",
     "text": [
      "6/6 [==============================] - 0s 35ms/step - loss: 1.0018 - mae: 1.0018\n"
     ]
    },
    {
     "data": {
      "text/plain": [
       "[1.0017613172531128, 1.0017613172531128]"
      ]
     },
     "execution_count": 40,
     "metadata": {},
     "output_type": "execute_result"
    }
   ],
   "source": [
    "model.evaluate(x_test, y_test, batch_size=128)"
   ]
  },
  {
   "cell_type": "code",
   "execution_count": 25,
   "metadata": {
    "id": "ZnsBrzNoxm60"
   },
   "outputs": [
    {
     "ename": "TypeError",
     "evalue": "Expect data.index as DatetimeIndex",
     "output_type": "error",
     "traceback": [
      "\u001b[0;31m---------------------------------------------------------------------------\u001b[0m",
      "\u001b[0;31mTypeError\u001b[0m                                 Traceback (most recent call last)",
      "\u001b[0;32m<ipython-input-25-8fa135462679>\u001b[0m in \u001b[0;36m<module>\u001b[0;34m\u001b[0m\n\u001b[0;32m----> 1\u001b[0;31m \u001b[0mmpf\u001b[0m\u001b[0;34m.\u001b[0m\u001b[0mplot\u001b[0m\u001b[0;34m(\u001b[0m\u001b[0mpd\u001b[0m\u001b[0;34m.\u001b[0m\u001b[0mDataFrame\u001b[0m\u001b[0;34m(\u001b[0m\u001b[0mx_train\u001b[0m\u001b[0;34m[\u001b[0m\u001b[0;36m0\u001b[0m\u001b[0;34m]\u001b[0m\u001b[0;34m)\u001b[0m\u001b[0;34m)\u001b[0m\u001b[0;34m\u001b[0m\u001b[0;34m\u001b[0m\u001b[0m\n\u001b[0m",
      "\u001b[0;32m~/anaconda3/lib/python3.8/site-packages/mplfinance/plotting.py\u001b[0m in \u001b[0;36mplot\u001b[0;34m(data, **kwargs)\u001b[0m\n\u001b[1;32m    273\u001b[0m     \u001b[0mconfig\u001b[0m \u001b[0;34m=\u001b[0m \u001b[0m_process_kwargs\u001b[0m\u001b[0;34m(\u001b[0m\u001b[0mkwargs\u001b[0m\u001b[0;34m,\u001b[0m \u001b[0m_valid_plot_kwargs\u001b[0m\u001b[0;34m(\u001b[0m\u001b[0;34m)\u001b[0m\u001b[0;34m)\u001b[0m\u001b[0;34m\u001b[0m\u001b[0;34m\u001b[0m\u001b[0m\n\u001b[1;32m    274\u001b[0m \u001b[0;34m\u001b[0m\u001b[0m\n\u001b[0;32m--> 275\u001b[0;31m     \u001b[0mdates\u001b[0m\u001b[0;34m,\u001b[0m\u001b[0mopens\u001b[0m\u001b[0;34m,\u001b[0m\u001b[0mhighs\u001b[0m\u001b[0;34m,\u001b[0m\u001b[0mlows\u001b[0m\u001b[0;34m,\u001b[0m\u001b[0mcloses\u001b[0m\u001b[0;34m,\u001b[0m\u001b[0mvolumes\u001b[0m \u001b[0;34m=\u001b[0m \u001b[0m_check_and_prepare_data\u001b[0m\u001b[0;34m(\u001b[0m\u001b[0mdata\u001b[0m\u001b[0;34m,\u001b[0m \u001b[0mconfig\u001b[0m\u001b[0;34m)\u001b[0m\u001b[0;34m\u001b[0m\u001b[0;34m\u001b[0m\u001b[0m\n\u001b[0m\u001b[1;32m    276\u001b[0m \u001b[0;34m\u001b[0m\u001b[0m\n\u001b[1;32m    277\u001b[0m     \u001b[0;32mif\u001b[0m \u001b[0mconfig\u001b[0m\u001b[0;34m[\u001b[0m\u001b[0;34m'type'\u001b[0m\u001b[0;34m]\u001b[0m \u001b[0;32min\u001b[0m \u001b[0mVALID_PMOVE_TYPES\u001b[0m \u001b[0;32mand\u001b[0m \u001b[0mconfig\u001b[0m\u001b[0;34m[\u001b[0m\u001b[0;34m'addplot'\u001b[0m\u001b[0;34m]\u001b[0m \u001b[0;32mis\u001b[0m \u001b[0;32mnot\u001b[0m \u001b[0;32mNone\u001b[0m\u001b[0;34m:\u001b[0m\u001b[0;34m\u001b[0m\u001b[0;34m\u001b[0m\u001b[0m\n",
      "\u001b[0;32m~/anaconda3/lib/python3.8/site-packages/mplfinance/_arg_validators.py\u001b[0m in \u001b[0;36m_check_and_prepare_data\u001b[0;34m(data, config)\u001b[0m\n\u001b[1;32m     27\u001b[0m \u001b[0;34m\u001b[0m\u001b[0m\n\u001b[1;32m     28\u001b[0m     \u001b[0;32mif\u001b[0m \u001b[0;32mnot\u001b[0m \u001b[0misinstance\u001b[0m\u001b[0;34m(\u001b[0m\u001b[0mdata\u001b[0m\u001b[0;34m.\u001b[0m\u001b[0mindex\u001b[0m\u001b[0;34m,\u001b[0m\u001b[0mpd\u001b[0m\u001b[0;34m.\u001b[0m\u001b[0mcore\u001b[0m\u001b[0;34m.\u001b[0m\u001b[0mindexes\u001b[0m\u001b[0;34m.\u001b[0m\u001b[0mdatetimes\u001b[0m\u001b[0;34m.\u001b[0m\u001b[0mDatetimeIndex\u001b[0m\u001b[0;34m)\u001b[0m\u001b[0;34m:\u001b[0m\u001b[0;34m\u001b[0m\u001b[0;34m\u001b[0m\u001b[0m\n\u001b[0;32m---> 29\u001b[0;31m         \u001b[0;32mraise\u001b[0m \u001b[0mTypeError\u001b[0m\u001b[0;34m(\u001b[0m\u001b[0;34m'Expect data.index as DatetimeIndex'\u001b[0m\u001b[0;34m)\u001b[0m\u001b[0;34m\u001b[0m\u001b[0;34m\u001b[0m\u001b[0m\n\u001b[0m\u001b[1;32m     30\u001b[0m \u001b[0;34m\u001b[0m\u001b[0m\n\u001b[1;32m     31\u001b[0m     \u001b[0;31m# We will not be fully case-insensitive (since Pandas columns as NOT case-insensitive)\u001b[0m\u001b[0;34m\u001b[0m\u001b[0;34m\u001b[0m\u001b[0;34m\u001b[0m\u001b[0m\n",
      "\u001b[0;31mTypeError\u001b[0m: Expect data.index as DatetimeIndex"
     ]
    }
   ],
   "source": [
    "mpf.plot(pd.DataFrame(x_train[0]))"
   ]
  },
  {
   "cell_type": "code",
   "execution_count": null,
   "metadata": {},
   "outputs": [],
   "source": []
  }
 ],
 "metadata": {
  "accelerator": "GPU",
  "colab": {
   "collapsed_sections": [],
   "name": "AI.ipynb",
   "provenance": [],
   "toc_visible": true
  },
  "kernelspec": {
   "display_name": "Python 3",
   "language": "python",
   "name": "python3"
  },
  "language_info": {
   "codemirror_mode": {
    "name": "ipython",
    "version": 3
   },
   "file_extension": ".py",
   "mimetype": "text/x-python",
   "name": "python",
   "nbconvert_exporter": "python",
   "pygments_lexer": "ipython3",
   "version": "3.8.3"
  }
 },
 "nbformat": 4,
 "nbformat_minor": 4
}
