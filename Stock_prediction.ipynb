{
  "nbformat": 4,
  "nbformat_minor": 0,
  "metadata": {
    "accelerator": "GPU",
    "colab": {
      "name": "Stock_prediction",
      "provenance": [],
      "collapsed_sections": [],
      "include_colab_link": true
    },
    "kernelspec": {
      "display_name": "Python 3",
      "language": "python",
      "name": "python3"
    },
    "language_info": {
      "codemirror_mode": {
        "name": "ipython",
        "version": 3
      },
      "file_extension": ".py",
      "mimetype": "text/x-python",
      "name": "python",
      "nbconvert_exporter": "python",
      "pygments_lexer": "ipython3",
      "version": "3.8.3-final"
    }
  },
  "cells": [
    {
      "cell_type": "markdown",
      "metadata": {
        "id": "view-in-github",
        "colab_type": "text"
      },
      "source": [
        "<a href=\"https://colab.research.google.com/github/kshptl/AI-for-Trading/blob/main/Stock_prediction.ipynb\" target=\"_parent\"><img src=\"https://colab.research.google.com/assets/colab-badge.svg\" alt=\"Open In Colab\"/></a>"
      ]
    },
    {
      "cell_type": "code",
      "metadata": {
        "id": "fHqIXMZ4-Lpm",
        "outputId": "5173c144-d683-41fd-b5b1-3297ffb4e3cf",
        "colab": {
          "base_uri": "https://localhost:8080/"
        }
      },
      "source": [
        "import pandas as pd\n",
        "import numpy as np\n",
        "import datetime as dt\n",
        "import os\n",
        "from keras_OneCycle import OneCycle\n",
        "os.environ[\"KERAS_BACKEND\"] = \"plaidml.keras.backend\"\n",
        "import keras\n",
        "#import tensorflow as tf\n",
        "#from tensorflow import keras\n",
        "\n",
        "#import tensorflow.keras.models as M\n",
        "#import tensorflow.keras.layers as L\n",
        "#from keras import backend as K\n",
        "#keras.backend\n",
        "\n",
        "#import tensorflow as tf\n",
        "#from tensorflow import keras #<------- use this for tensorflow\n",
        "\n",
        "\n",
        "\n",
        "import matplotlib.pyplot as plt\n",
        "#!pip install mplfinance\n",
        "import mplfinance as mpf\n",
        "from sklearn.preprocessing import MinMaxScaler\n",
        "from sklearn.metrics import mean_squared_error\n",
        "import seaborn as sns\n",
        "#!pip install keras_lr_finder\n",
        "from keras_lr_finder import LRFinder"
      ],
      "execution_count": 1,
      "outputs": [
        {
          "output_type": "stream",
          "name": "stderr",
          "text": [
            "Using plaidml.keras.backend backend.\n"
          ]
        }
      ]
    },
    {
      "cell_type": "code",
      "metadata": {
        "id": "IUkCw57H-4JR",
        "outputId": "efee7fe6-8d11-4c6e-eeef-2c147815e7f6",
        "colab": {
          "base_uri": "https://localhost:8080/"
        }
      },
      "source": [
        "cd data"
      ],
      "execution_count": 2,
      "outputs": [
        {
          "output_type": "stream",
          "name": "stdout",
          "text": [
            "/Users/kush/Desktop/DS/inpredo-master/RNN_tabular/AI-for-Trading/data\n"
          ]
        }
      ]
    },
    {
      "cell_type": "code",
      "metadata": {
        "id": "G4iUQ4G0-5uh"
      },
      "source": [
        "data = pd.read_csv(\"ND100.M5.csv\", parse_dates=True,  names=[\"open\", \"high\", \"low\", \"close\", \"volume\"])\n",
        "\n",
        "# # change timeframe\n",
        "logic = {'open'  : 'first',\n",
        "         'high'  : 'max',\n",
        "         'low'   : 'min',\n",
        "         'close' : 'last',\n",
        "         'volume': 'sum'}\n",
        "offset = pd.offsets.timedelta(days=-6)\n",
        "data = data.resample('1H', loffset=offset).apply(logic)\n",
        "\n",
        "data.reset_index(drop=True, inplace=True)\n",
        "data = data[[\"close\", \"volume\", \"open\", \"high\", \"low\"]]\n",
        "data['pandas_SMA_10'] = data.iloc[:,0].rolling(window=3).mean()\n",
        "data = data.fillna(0)"
      ],
      "execution_count": 3,
      "outputs": []
    },
    {
      "cell_type": "code",
      "execution_count": 4,
      "metadata": {},
      "outputs": [
        {
          "output_type": "execute_result",
          "data": {
            "text/plain": [
              "         close  volume     open     high      low  pandas_SMA_10\n",
              "0       7224.7    2065   7220.4   7226.6   7216.0       0.000000\n",
              "1       7220.0    5689   7224.6   7236.5   7207.2       0.000000\n",
              "2       7218.4    6811   7219.7   7253.9   7209.6    7221.033333\n",
              "3       7186.5    6643   7218.7   7235.2   7175.5    7208.300000\n",
              "4       7196.5    6166   7186.7   7211.0   7180.0    7200.466667\n",
              "...        ...     ...      ...      ...      ...            ...\n",
              "12577  11211.5   24955  11145.1  11212.7  11114.4   11165.266667\n",
              "12578  11345.5   39718  11211.4  11347.5  11208.9   11234.066667\n",
              "12579  11307.4   29929  11345.0  11359.1  11298.6   11288.133333\n",
              "12580  11308.5   19572  11307.5  11338.9  11286.5   11320.466667\n",
              "12581  11322.9    1082  11308.6  11326.4  11306.7   11312.933333\n",
              "\n",
              "[12582 rows x 6 columns]"
            ],
            "text/html": "<div>\n<style scoped>\n    .dataframe tbody tr th:only-of-type {\n        vertical-align: middle;\n    }\n\n    .dataframe tbody tr th {\n        vertical-align: top;\n    }\n\n    .dataframe thead th {\n        text-align: right;\n    }\n</style>\n<table border=\"1\" class=\"dataframe\">\n  <thead>\n    <tr style=\"text-align: right;\">\n      <th></th>\n      <th>close</th>\n      <th>volume</th>\n      <th>open</th>\n      <th>high</th>\n      <th>low</th>\n      <th>pandas_SMA_10</th>\n    </tr>\n  </thead>\n  <tbody>\n    <tr>\n      <th>0</th>\n      <td>7224.7</td>\n      <td>2065</td>\n      <td>7220.4</td>\n      <td>7226.6</td>\n      <td>7216.0</td>\n      <td>0.000000</td>\n    </tr>\n    <tr>\n      <th>1</th>\n      <td>7220.0</td>\n      <td>5689</td>\n      <td>7224.6</td>\n      <td>7236.5</td>\n      <td>7207.2</td>\n      <td>0.000000</td>\n    </tr>\n    <tr>\n      <th>2</th>\n      <td>7218.4</td>\n      <td>6811</td>\n      <td>7219.7</td>\n      <td>7253.9</td>\n      <td>7209.6</td>\n      <td>7221.033333</td>\n    </tr>\n    <tr>\n      <th>3</th>\n      <td>7186.5</td>\n      <td>6643</td>\n      <td>7218.7</td>\n      <td>7235.2</td>\n      <td>7175.5</td>\n      <td>7208.300000</td>\n    </tr>\n    <tr>\n      <th>4</th>\n      <td>7196.5</td>\n      <td>6166</td>\n      <td>7186.7</td>\n      <td>7211.0</td>\n      <td>7180.0</td>\n      <td>7200.466667</td>\n    </tr>\n    <tr>\n      <th>...</th>\n      <td>...</td>\n      <td>...</td>\n      <td>...</td>\n      <td>...</td>\n      <td>...</td>\n      <td>...</td>\n    </tr>\n    <tr>\n      <th>12577</th>\n      <td>11211.5</td>\n      <td>24955</td>\n      <td>11145.1</td>\n      <td>11212.7</td>\n      <td>11114.4</td>\n      <td>11165.266667</td>\n    </tr>\n    <tr>\n      <th>12578</th>\n      <td>11345.5</td>\n      <td>39718</td>\n      <td>11211.4</td>\n      <td>11347.5</td>\n      <td>11208.9</td>\n      <td>11234.066667</td>\n    </tr>\n    <tr>\n      <th>12579</th>\n      <td>11307.4</td>\n      <td>29929</td>\n      <td>11345.0</td>\n      <td>11359.1</td>\n      <td>11298.6</td>\n      <td>11288.133333</td>\n    </tr>\n    <tr>\n      <th>12580</th>\n      <td>11308.5</td>\n      <td>19572</td>\n      <td>11307.5</td>\n      <td>11338.9</td>\n      <td>11286.5</td>\n      <td>11320.466667</td>\n    </tr>\n    <tr>\n      <th>12581</th>\n      <td>11322.9</td>\n      <td>1082</td>\n      <td>11308.6</td>\n      <td>11326.4</td>\n      <td>11306.7</td>\n      <td>11312.933333</td>\n    </tr>\n  </tbody>\n</table>\n<p>12582 rows × 6 columns</p>\n</div>"
          },
          "metadata": {},
          "execution_count": 4
        }
      ],
      "source": [
        "data"
      ]
    },
    {
      "cell_type": "code",
      "metadata": {
        "id": "29EBu2FZvfCm"
      },
      "source": [
        "# convert an array of values into a dataset matrix\n",
        "def create_dataset(dataset, look_back=1, predict_forward=3, column=3):\n",
        "    dataX, dataY = [], []\n",
        "    for i in range(len(dataset)-look_back-predict_forward):\n",
        "        j = i + look_back\n",
        "        a = dataset[i:j,:]\n",
        "        dataX.append(a)\n",
        "\t\t\n",
        "        # for predicting actual price\n",
        "        #dataY.append(dataset[j:j + predict_forward, column])\n",
        "\n",
        "        # for % change\n",
        "        #pct = (-data[i + look_back,3] + data[i + look_back+ predict_forward, 3])/data[i + look_back,3]\n",
        "        #if data[i + look_back,3] == 0:\n",
        "        #\tprint(i,\"zero\")\n",
        "\n",
        "        # for direction\n",
        "        if dataset[j,0] >= dataset[j-1,0]:\n",
        "            dataY.append(1)\n",
        "        else:\n",
        "            dataY.append(0)\n",
        "\n",
        "    return np.array(dataX), np.array(dataY)"
      ],
      "execution_count": 5,
      "outputs": []
    },
    {
      "cell_type": "code",
      "metadata": {
        "id": "WZMokuuawUXa"
      },
      "source": [
        "# fix random seed for reproducibility\n",
        "np.random.seed(42)\n",
        "normalize_max = 1\n",
        "# normalize the dataset\n",
        "x_scaler = MinMaxScaler(feature_range=(0,normalize_max))\n",
        "data = x_scaler.fit_transform(data)\n",
        "\n",
        "# remove values that are 0\n",
        "data = np.delete(data,np.where(data==0)[0],axis=0)"
      ],
      "execution_count": 6,
      "outputs": []
    },
    {
      "cell_type": "code",
      "metadata": {
        "id": "7x5NEFJ5-63S"
      },
      "source": [
        "n_bars = 12\n",
        "predict_forward = 1\n",
        "x_train, y_train = create_dataset(data,n_bars, predict_forward=predict_forward, column=0)\n",
        "\n",
        "#remove the last sample one bc it may not have enough  y_train values (if the dataset size doenst evenly divide into the sample size)\n",
        "x_train = x_train[:-predict_forward]\n",
        "y_train = np.stack(y_train[:-predict_forward])"
      ],
      "execution_count": 7,
      "outputs": []
    },
    {
      "cell_type": "code",
      "metadata": {
        "id": "PMjUD-HTZtdo"
      },
      "source": [
        "# scale y_train\n",
        "y_scaler = MinMaxScaler(feature_range=(0,1))\n",
        "y_train = y_scaler.fit_transform(y_train.reshape(-1,1))"
      ],
      "execution_count": 8,
      "outputs": []
    },
    {
      "cell_type": "code",
      "execution_count": 9,
      "metadata": {},
      "outputs": [
        {
          "output_type": "execute_result",
          "data": {
            "text/plain": [
              "array([1.])"
            ]
          },
          "metadata": {},
          "execution_count": 9
        }
      ],
      "source": [
        "y_train[0]"
      ]
    },
    {
      "cell_type": "code",
      "metadata": {
        "id": "Ys7FvvrX-7_C",
        "outputId": "ddb2bbc5-8acc-4194-8f24-f8cd08b28e79",
        "colab": {
          "base_uri": "https://localhost:8080/"
        }
      },
      "source": [
        "# define model\n",
        "regularizer = keras.regularizers.l2()\n",
        "def make_model(input_shape):\n",
        "\n",
        "    model = keras.models.Sequential()\n",
        "    #model.add(tf.compat.v1.keras.layers.Conv1D(filters=128, kernel_size=3, padding='same', activation='selu'))\n",
        "    #model.add(keras.layers.MaxPooling1D(pool_size=2))\n",
        "    model.add(keras.layers.GRU(100,input_shape=input_shape, recurrent_regularizer=None, return_sequences=True, recurrent_dropout=0.5, activation=\"relu\"))\n",
        "    model.add(keras.layers.BatchNormalization())\n",
        "    model.add(keras.layers.GRU(1000,input_shape=input_shape, recurrent_regularizer=None, return_sequences=True, recurrent_dropout=0.5, activation=\"relu\"))\n",
        "    model.add(keras.layers.BatchNormalization())\n",
        "    model.add(keras.layers.GRU(1000,input_shape=input_shape, recurrent_regularizer=None, return_sequences=True, recurrent_dropout=0.5, activation=\"relu\"))\n",
        "    model.add(keras.layers.BatchNormalization())\n",
        "    model.add(keras.layers.GRU(1000,input_shape=input_shape, recurrent_regularizer=None, recurrent_dropout=0.5, activation=\"relu\"))\n",
        "    model.add(keras.layers.Dense(1, activation=\"softmax\"))\n",
        "    \n",
        "    return model\n",
        "\n",
        "model = make_model(input_shape=x_train.shape[1:])\n",
        "#model.build(input_shape=x_train.shape[:])\n",
        "\n",
        "callbacks = [\n",
        "    #OneCycle(min_lr=7e-6, max_lr=7e-2, min_mtm = 0.85, max_mtm = 0.95, annealing_stage=0.1, annealing_rate=0.01, training_iterations=np.ceil(((x_train.shape[0]*epochs)/(batch_size)))),\n",
        "\n",
        "    keras.callbacks.ReduceLROnPlateau(monitor=\"val_accuracy\", factor=0.5, patience=5, min_lr=0.0001),\n",
        "    keras.callbacks.EarlyStopping(monitor=\"accuracy\", patience=20, verbose=1),\n",
        "]\n",
        "\n",
        "opt = keras.optimizers.Adam()\n",
        "model.compile(optimizer=opt, loss=\"binary_crossentropy\", metrics=[\"accuracy\"])\n",
        "\n",
        "keras.utils.plot_model(model, show_shapes=True)\n",
        "model.summary()\n",
        "\n",
        "# Calling `save('my_model')` creates a SavedModel folder `my_model`.\n",
        "#model.save(\"my_model\")\n",
        "\n",
        "# It can be used to reconstruct the model identically.\n",
        "#reconstructed_model = keras.models.load_model(\"my_model\")"
      ],
      "execution_count": 10,
      "outputs": [
        {
          "output_type": "stream",
          "name": "stderr",
          "text": [
            "INFO:plaidml:Opening device \"metal_amd_radeon_pro_5500m.0\"\n",
            "_________________________________________________________________\n",
            "Layer (type)                 Output Shape              Param #   \n",
            "=================================================================\n",
            "gru_1 (GRU)                  (None, 12, 100)           32100     \n",
            "_________________________________________________________________\n",
            "batch_normalization_1 (Batch (None, 12, 100)           400       \n",
            "_________________________________________________________________\n",
            "gru_2 (GRU)                  (None, 12, 1000)          3303000   \n",
            "_________________________________________________________________\n",
            "batch_normalization_2 (Batch (None, 12, 1000)          4000      \n",
            "_________________________________________________________________\n",
            "gru_3 (GRU)                  (None, 12, 1000)          6003000   \n",
            "_________________________________________________________________\n",
            "batch_normalization_3 (Batch (None, 12, 1000)          4000      \n",
            "_________________________________________________________________\n",
            "gru_4 (GRU)                  (None, 1000)              6003000   \n",
            "_________________________________________________________________\n",
            "dense_1 (Dense)              (None, 1)                 1001      \n",
            "=================================================================\n",
            "Total params: 15,350,501\n",
            "Trainable params: 15,346,301\n",
            "Non-trainable params: 4,200\n",
            "_________________________________________________________________\n"
          ]
        }
      ]
    },
    {
      "cell_type": "code",
      "metadata": {
        "id": "TfdHh8WN-_OZ",
        "outputId": "b938ad03-3566-4e8b-ed3e-9eeecc7ad8ba",
        "colab": {
          "base_uri": "https://localhost:8080/"
        },
        "tags": []
      },
      "source": [
        "# fit model : mse - 4e-4 : valmse - 6e-4 : (2x 10 neurons with dropout0.9, relu activation on both) - 0.5 dropout converges quicker\n",
        "# increased n_bars to 20 and added 10-SMA and added another gru layer (total 3 x 20) -> mae is .10\n",
        "# added another layer (total 4 x 20) -> val_mae is 0.030\n",
        "#model = keras.models.load_model('model')\n",
        "history = model.fit(x_train, y_train, epochs=500, verbose=1, batch_size=128, callbacks=callbacks, validation_split=0.2)\n",
        "model.save('modelsave')"
      ],
      "execution_count": 36,
      "outputs": [
        {
          "output_type": "stream",
          "name": "stdout",
          "text": [
            "Train on 6166 samples, validate on 1542 samples\n",
            "Epoch 1/500\n",
            "INFO:plaidml:Analyzing Ops: 4161 of 4585 operations complete\n",
            "6166/6166 [==============================] - 32s 5ms/step - loss: 7.3843 - acc: 0.5368 - val_loss: 7.1234 - val_acc: 0.5532\n",
            "Epoch 2/500\n",
            "6144/6166 [============================>.] - ETA: 0s - loss: 7.3900 - acc: 0.5365"
          ]
        }
      ]
    },
    {
      "cell_type": "code",
      "metadata": {
        "id": "HHn8FOYU_Ibd",
        "outputId": "b6509e67-7165-4493-fb2e-e46a6445a710",
        "colab": {
          "base_uri": "https://localhost:8080/",
          "height": 252
        }
      },
      "source": [
        "# show traning/validation plots\n",
        "metric = \"mse\"\n",
        "plt.figure(figsize=(10,10))\n",
        "plt.plot(history.history[metric])\n",
        "plt.plot(history.history[\"val_\" + metric])\n",
        "plt.title(\"model \" + metric)\n",
        "plt.ylabel(metric, fontsize=\"large\")\n",
        "plt.xlabel(\"epoch\", fontsize=\"large\")\n",
        "plt.legend([\"train\", \"val\"], loc=\"best\")\n",
        "plt.show()\n",
        "plt.close()"
      ],
      "execution_count": 26,
      "outputs": [
        {
          "output_type": "error",
          "ename": "NameError",
          "evalue": "ignored",
          "traceback": [
            "\u001b[0;31m---------------------------------------------------------------------------\u001b[0m",
            "\u001b[0;31mNameError\u001b[0m                                 Traceback (most recent call last)",
            "\u001b[0;32m<ipython-input-26-16e6bf8cd56e>\u001b[0m in \u001b[0;36m<module>\u001b[0;34m()\u001b[0m\n\u001b[1;32m      2\u001b[0m \u001b[0mmetric\u001b[0m \u001b[0;34m=\u001b[0m \u001b[0;34m\"mse\"\u001b[0m\u001b[0;34m\u001b[0m\u001b[0;34m\u001b[0m\u001b[0m\n\u001b[1;32m      3\u001b[0m \u001b[0mplt\u001b[0m\u001b[0;34m.\u001b[0m\u001b[0mfigure\u001b[0m\u001b[0;34m(\u001b[0m\u001b[0mfigsize\u001b[0m\u001b[0;34m=\u001b[0m\u001b[0;34m(\u001b[0m\u001b[0;36m10\u001b[0m\u001b[0;34m,\u001b[0m\u001b[0;36m10\u001b[0m\u001b[0;34m)\u001b[0m\u001b[0;34m)\u001b[0m\u001b[0;34m\u001b[0m\u001b[0;34m\u001b[0m\u001b[0m\n\u001b[0;32m----> 4\u001b[0;31m \u001b[0mplt\u001b[0m\u001b[0;34m.\u001b[0m\u001b[0mplot\u001b[0m\u001b[0;34m(\u001b[0m\u001b[0mhistory\u001b[0m\u001b[0;34m.\u001b[0m\u001b[0mhistory\u001b[0m\u001b[0;34m[\u001b[0m\u001b[0mmetric\u001b[0m\u001b[0;34m]\u001b[0m\u001b[0;34m)\u001b[0m\u001b[0;34m\u001b[0m\u001b[0;34m\u001b[0m\u001b[0m\n\u001b[0m\u001b[1;32m      5\u001b[0m \u001b[0mplt\u001b[0m\u001b[0;34m.\u001b[0m\u001b[0mplot\u001b[0m\u001b[0;34m(\u001b[0m\u001b[0mhistory\u001b[0m\u001b[0;34m.\u001b[0m\u001b[0mhistory\u001b[0m\u001b[0;34m[\u001b[0m\u001b[0;34m\"val_\"\u001b[0m \u001b[0;34m+\u001b[0m \u001b[0mmetric\u001b[0m\u001b[0;34m]\u001b[0m\u001b[0;34m)\u001b[0m\u001b[0;34m\u001b[0m\u001b[0;34m\u001b[0m\u001b[0m\n\u001b[1;32m      6\u001b[0m \u001b[0mplt\u001b[0m\u001b[0;34m.\u001b[0m\u001b[0mtitle\u001b[0m\u001b[0;34m(\u001b[0m\u001b[0;34m\"model \"\u001b[0m \u001b[0;34m+\u001b[0m \u001b[0mmetric\u001b[0m\u001b[0;34m)\u001b[0m\u001b[0;34m\u001b[0m\u001b[0;34m\u001b[0m\u001b[0m\n",
            "\u001b[0;31mNameError\u001b[0m: name 'history' is not defined"
          ]
        },
        {
          "output_type": "display_data",
          "data": {
            "text/plain": [
              "<Figure size 720x720 with 0 Axes>"
            ]
          },
          "metadata": {
            "tags": []
          }
        }
      ]
    },
    {
      "cell_type": "code",
      "metadata": {
        "id": "YRurV1tNbPaB"
      },
      "source": [
        "y_train[-i].shape"
      ],
      "execution_count": null,
      "outputs": []
    },
    {
      "cell_type": "code",
      "metadata": {
        "id": "iC56B7b6kh_l"
      },
      "source": [
        "# get latest prediction\n",
        "i = 80\n",
        "x_pred = x_train[-i]\n",
        "prediction = model.predict(x_pred.reshape(1,10,5))\n",
        "y_pred = y_scaler.inverse_transform(prediction)\n",
        "y_actual = y_train[-i]\n",
        "print(\"Prediction: \",y_pred[0][0])\n",
        "print( \"Actual: \", y_actual[0])\n",
        "print(\"MSE: \", (y_actual[0]- y_pred[0][0])**2)\n",
        "\n",
        "# plot latest prediction\n",
        "#plt.plot(np.arange(1,y_pred.shape[1]+1),y_pred[0]);\n",
        "#plt.plot(np.arange(y_pred.shape[1]+1,len(y_actual[0])+1),y_actual[0]);"
      ],
      "execution_count": null,
      "outputs": []
    },
    {
      "cell_type": "code",
      "metadata": {
        "id": "GLbiTtQtGui9",
        "outputId": "a6e0dd30-b70c-445a-d216-f284f9a566f1",
        "colab": {
          "base_uri": "https://localhost:8080/",
          "height": 352
        }
      },
      "source": [
        "# model is a Keras model\n",
        "lr_finder = LRFinder(model)\n",
        "\n",
        "# Train a model with batch size 128 for 5 epochs\n",
        "# with learning rate growing exponentially from 0.0001 to 2\n",
        "lr_finder.find(x_train, y_train, start_lr=1e-1, end_lr=1e-0, batch_size=128, epochs=5)\n",
        "\n",
        "# Plot the loss, ignore 20 batches in the beginning and 5 in the end\n",
        "lr_finder.plot_loss(n_skip_beginning=20, n_skip_end=5)"
      ],
      "execution_count": 26,
      "outputs": [
        {
          "output_type": "stream",
          "text": [
            "Epoch 1/5\n",
            "100268/100268 [==============================] - 17s 172us/step - loss: 5.0925 - mean_squared_error: 3.4010\n",
            "Epoch 2/5\n",
            " 43776/100268 [============>.................] - ETA: 9s - loss: 0.4790 - mean_squared_error: 0.2314"
          ],
          "name": "stdout"
        },
        {
          "output_type": "display_data",
          "data": {
            "image/png": "[encoded data removed]",
            "text/plain": [
              "<Figure size 432x288 with 1 Axes>"
            ]
          },
          "metadata": {
            "tags": [],
            "needs_background": "light"
          }
        }
      ]
    },
    {
      "cell_type": "code",
      "metadata": {
        "id": "kgbqHW2zdKee"
      },
      "source": [
        ""
      ],
      "execution_count": null,
      "outputs": []
    },
    {
      "cell_type": "code",
      "metadata": {
        "id": "7X89MjW1e3AW"
      },
      "source": [
        "tmp"
      ],
      "execution_count": null,
      "outputs": []
    },
    {
      "cell_type": "code",
      "metadata": {
        "id": "egfbg0ULfD52"
      },
      "source": [
        ""
      ],
      "execution_count": null,
      "outputs": []
    }
  ]
}