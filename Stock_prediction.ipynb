{
 "cells": [
  {
   "cell_type": "code",
   "execution_count": 1,
   "metadata": {
    "colab": {
     "base_uri": "https://localhost:8080/"
    },
    "id": "fHqIXMZ4-Lpm",
    "outputId": "263001d7-3471-49ff-b651-b8d98a8d91c9"
   },
   "outputs": [
    {
     "name": "stderr",
     "output_type": "stream",
     "text": [
      "Using plaidml.keras.backend backend.\n"
     ]
    }
   ],
   "source": [
    "import pandas as pd\n",
    "import numpy as np\n",
    "import datetime as dt\n",
    "import os\n",
    "from keras_OneCycle import OneCycle\n",
    "os.environ[\"KERAS_BACKEND\"] = \"plaidml.keras.backend\"\n",
    "import keras\n",
    "#import tensorflow\n",
    "\n",
    "import tensorflow.keras.models as M\n",
    "import tensorflow.keras.layers as L\n",
    "from keras import backend as K\n",
    "#keras.backend\n",
    "\n",
    "#import tensorflow as tf\n",
    "#from tensorflow import keras #<------- use this for tensorflow\n",
    "\n",
    "\n",
    "\n",
    "import matplotlib.pyplot as plt\n",
    "import mplfinance as mpf\n",
    "from sklearn.preprocessing import MinMaxScaler\n",
    "from sklearn.metrics import mean_squared_error\n",
    "import seaborn as sns"
   ]
  },
  {
   "cell_type": "code",
   "execution_count": 2,
   "metadata": {
    "colab": {
     "base_uri": "https://localhost:8080/"
    },
    "id": "IUkCw57H-4JR",
    "outputId": "4cf98561-ff47-4f6d-8098-230b14442d3a"
   },
   "outputs": [
    {
     "name": "stdout",
     "output_type": "stream",
     "text": [
      "/Users/kush/Desktop/DS/inpredo-master/RNN_tabular/AI-for-Trading/data\n"
     ]
    }
   ],
   "source": [
    "cd data"
   ]
  },
  {
   "cell_type": "code",
   "execution_count": 3,
   "metadata": {
    "id": "G4iUQ4G0-5uh"
   },
   "outputs": [],
   "source": [
    "data = pd.read_csv(\"ND100.M5.csv\", parse_dates=True,  names=[\"open\", \"high\", \"low\", \"close\", \"volume\"])\n",
    "data.reset_index(drop=True, inplace=True)\n",
    "data = data[[\"close\", \"volume\"]]"
   ]
  },
  {
   "cell_type": "code",
   "execution_count": 4,
   "metadata": {
    "id": "29EBu2FZvfCm"
   },
   "outputs": [],
   "source": [
    "# convert an array of values into a dataset matrix\n",
    "def create_dataset(dataset, look_back=1, predict_forward=3, column=3):\n",
    "    dataX, dataY = [], []\n",
    "    for i in range(len(dataset)-look_back-predict_forward):\n",
    "        j = i + look_back\n",
    "        a = dataset[i:j,:]\n",
    "        dataX.append(a)\n",
    "\t\t\n",
    "        # for predicting actual price\n",
    "        dataY.append(dataset[j:j + predict_forward, column])\n",
    "\n",
    "        # for % change\n",
    "        #pct = (-data[i + look_back,3] + data[i + look_back+ predict_forward, 3])/data[i + look_back,3]\n",
    "        #if data[i + look_back,3] == 0:\n",
    "        #\tprint(i,\"zero\")\n",
    "\n",
    "    return np.array(dataX), np.array(dataY)"
   ]
  },
  {
   "cell_type": "code",
   "execution_count": 5,
   "metadata": {
    "id": "WZMokuuawUXa"
   },
   "outputs": [],
   "source": [
    "# fix random seed for reproducibility\n",
    "np.random.seed(42)\n",
    "normalize_max = data.max().max()//1000 \n",
    "# normalize the dataset\n",
    "x_scaler = MinMaxScaler(feature_range=(0,normalize_max))\n",
    "data = x_scaler.fit_transform(data)\n",
    "\n",
    "# remove values that are 0\n",
    "data = np.delete(data,np.where(data==0)[0],axis=0)"
   ]
  },
  {
   "cell_type": "code",
   "execution_count": 6,
   "metadata": {
    "id": "7x5NEFJ5-63S"
   },
   "outputs": [],
   "source": [
    "n_bars = 10\n",
    "predict_forward = 1\n",
    "x_train, y_train = create_dataset(data,n_bars, predict_forward=predict_forward, column=0)\n",
    "\n",
    "#remove the last sample one bc it may not have enough  y_train values (if the dataset size doenst evenly divide into the sample size)\n",
    "x_train = x_train[:-predict_forward]\n",
    "y_train = np.stack(y_train[:-predict_forward])"
   ]
  },
  {
   "cell_type": "code",
   "execution_count": 7,
   "metadata": {
    "id": "PMjUD-HTZtdo"
   },
   "outputs": [],
   "source": [
    "# scale y_train\n",
    "y_scaler = MinMaxScaler(feature_range=(0,normalize_max))\n",
    "y_train = y_scaler.fit_transform(y_train.reshape(-1,1))"
   ]
  },
  {
   "cell_type": "code",
   "execution_count": 8,
   "metadata": {},
   "outputs": [
    {
     "data": {
      "text/plain": [
       "array([[1.18499948, 0.17214765],\n",
       "       [1.18809025, 0.07852349],\n",
       "       [1.19097496, 0.05838926],\n",
       "       [1.1983928 , 0.0533557 ],\n",
       "       [1.19942306, 0.07449664],\n",
       "       [1.20148357, 0.05033557],\n",
       "       [1.19488993, 0.05939597],\n",
       "       [1.19159312, 0.05637584],\n",
       "       [1.19571414, 0.03624161],\n",
       "       [1.19736255, 0.0533557 ]])"
      ]
     },
     "execution_count": 8,
     "metadata": {},
     "output_type": "execute_result"
    }
   ],
   "source": [
    "x_train[100]"
   ]
  },
  {
   "cell_type": "code",
   "execution_count": 21,
   "metadata": {
    "colab": {
     "base_uri": "https://localhost:8080/"
    },
    "id": "Ys7FvvrX-7_C",
    "outputId": "80442074-e3a4-43c5-9f99-1b474a1449f3"
   },
   "outputs": [
    {
     "name": "stdout",
     "output_type": "stream",
     "text": [
      "_________________________________________________________________\n",
      "Layer (type)                 Output Shape              Param #   \n",
      "=================================================================\n",
      "gru_11 (GRU)                 (None, 10, 10)            390       \n",
      "_________________________________________________________________\n",
      "gru_12 (GRU)                 (None, 10)                630       \n",
      "_________________________________________________________________\n",
      "dense_6 (Dense)              (None, 1)                 11        \n",
      "=================================================================\n",
      "Total params: 1,031\n",
      "Trainable params: 1,031\n",
      "Non-trainable params: 0\n",
      "_________________________________________________________________\n"
     ]
    }
   ],
   "source": [
    "# Enter the number of samples, training + validation\n",
    "nb_train_samples = round(len(x_train)*.8)\n",
    "nb_val_samples = round(len(x_train)*.2)\n",
    "\n",
    "# We have 3 classes, buy sell, and hold\n",
    "n_features = x_train[0].shape[1]\n",
    "num_classes = 3\n",
    "epochs = 200\n",
    "batch_size = 64\n",
    "regularizer = keras.regularizers.l2()\n",
    "# define model\n",
    "def make_model(input_shape):\n",
    "\n",
    "    model = keras.models.Sequential()\n",
    "    #model.add(tf.compat.v1.keras.layers.Conv1D(filters=128, kernel_size=3, padding='same', activation='selu'))\n",
    "    #model.add(keras.layers.MaxPooling1D(pool_size=2))\n",
    "    model.add(keras.layers.GRU(10,input_shape=input_shape, recurrent_regularizer=regularizer, return_sequences=True, recurrent_dropout=0.9))\n",
    "    model.add(keras.layers.GRU(10,input_shape=input_shape, recurrent_regularizer=regularizer, recurrent_dropout=0.9))\n",
    "    model.add(keras.layers.Dense(1))\n",
    "    \n",
    "    return model\n",
    "\n",
    "model = make_model(input_shape=x_train.shape[1:])\n",
    "#model.build(input_shape=x_train.shape[:])\n",
    "\n",
    "callbacks = [\n",
    "    #OneCycle(min_lr=7e-6, max_lr=7e-2, min_mtm = 0.85, max_mtm = 0.95, annealing_stage=0.1, annealing_rate=0.01, training_iterations=np.ceil(((x_train.shape[0]*epochs)/(batch_size)))),\n",
    "\n",
    "    keras.callbacks.ReduceLROnPlateau(monitor=\"val_mean_squared_error\", factor=0.5, patience=5, min_lr=0.0001),\n",
    "    keras.callbacks.EarlyStopping(monitor=\"mean_squared_error\", patience=50, verbose=1),\n",
    "]\n",
    "\n",
    "opt = keras.optimizers.Adam()\n",
    "#losses = keras.losses.MeanSquaredError()\n",
    "\n",
    "model.compile(optimizer=opt, loss=\"mse\", metrics=[\"mse\"])\n",
    "\n",
    "keras.utils.plot_model(model, show_shapes=True)\n",
    "model.summary()\n",
    "\n",
    "# Calling `save('my_model')` creates a SavedModel folder `my_model`.\n",
    "#model.save(\"my_model\")\n",
    "\n",
    "# It can be used to reconstruct the model identically.\n",
    "#reconstructed_model = keras.models.load_model(\"my_model\")"
   ]
  },
  {
   "cell_type": "code",
   "execution_count": 22,
   "metadata": {
    "colab": {
     "base_uri": "https://localhost:8080/"
    },
    "id": "TfdHh8WN-_OZ",
    "outputId": "4c6ed8e7-9788-4d84-d858-1404746c42b7"
   },
   "outputs": [
    {
     "name": "stdout",
     "output_type": "stream",
     "text": [
      "Train on 80214 samples, validate on 20054 samples\n",
      "Epoch 1/500\n",
      "80214/80214 [==============================] - 22s 272us/step - loss: 2.9891 - mean_squared_error: 2.8613 - val_loss: 13.0159 - val_mean_squared_error: 12.9404\n",
      "Epoch 2/500\n",
      "80214/80214 [==============================] - 13s 161us/step - loss: 0.3253 - mean_squared_error: 0.2709 - val_loss: 7.3139 - val_mean_squared_error: 7.2748\n",
      "Epoch 3/500\n",
      "80214/80214 [==============================] - 13s 167us/step - loss: 0.1542 - mean_squared_error: 0.1246 - val_loss: 5.1828 - val_mean_squared_error: 5.1611\n",
      "Epoch 4/500\n",
      "80214/80214 [==============================] - 13s 167us/step - loss: 0.0873 - mean_squared_error: 0.0710 - val_loss: 3.8829 - val_mean_squared_error: 3.8711\n",
      "Epoch 5/500\n",
      "80214/80214 [==============================] - 14s 170us/step - loss: 0.0537 - mean_squared_error: 0.0450 - val_loss: 2.8575 - val_mean_squared_error: 2.8512\n",
      "Epoch 6/500\n",
      "80214/80214 [==============================] - 14s 169us/step - loss: 0.0334 - mean_squared_error: 0.0286 - val_loss: 1.9731 - val_mean_squared_error: 1.9696\n",
      "Epoch 7/500\n",
      "80214/80214 [==============================] - 14s 171us/step - loss: 0.0204 - mean_squared_error: 0.0178 - val_loss: 1.4930 - val_mean_squared_error: 1.4911\n",
      "Epoch 8/500\n",
      "80214/80214 [==============================] - 14s 170us/step - loss: 0.0116 - mean_squared_error: 0.0102 - val_loss: 0.9694 - val_mean_squared_error: 0.9684\n",
      "Epoch 9/500\n",
      "80214/80214 [==============================] - 13s 165us/step - loss: 0.0062 - mean_squared_error: 0.0055 - val_loss: 0.6881 - val_mean_squared_error: 0.6876\n",
      "Epoch 10/500\n",
      "80214/80214 [==============================] - 13s 162us/step - loss: 0.0033 - mean_squared_error: 0.0029 - val_loss: 0.4615 - val_mean_squared_error: 0.4612\n",
      "Epoch 11/500\n",
      "80214/80214 [==============================] - 13s 162us/step - loss: 0.0019 - mean_squared_error: 0.0018 - val_loss: 0.3136 - val_mean_squared_error: 0.3135\n",
      "Epoch 12/500\n",
      "80214/80214 [==============================] - 13s 161us/step - loss: 0.0013 - mean_squared_error: 0.0012 - val_loss: 0.2401 - val_mean_squared_error: 0.2401\n",
      "Epoch 13/500\n",
      "80214/80214 [==============================] - 14s 179us/step - loss: 0.0010 - mean_squared_error: 0.0010 - val_loss: 0.1788 - val_mean_squared_error: 0.1788\n",
      "Epoch 14/500\n",
      "80214/80214 [==============================] - 16s 195us/step - loss: 8.6446e-04 - mean_squared_error: 8.5741e-04 - val_loss: 0.1340 - val_mean_squared_error: 0.1340\n",
      "Epoch 15/500\n",
      "80214/80214 [==============================] - 20s 254us/step - loss: 8.3338e-04 - mean_squared_error: 8.3062e-04 - val_loss: 0.1274 - val_mean_squared_error: 0.1274\n",
      "Epoch 16/500\n",
      "80214/80214 [==============================] - 17s 208us/step - loss: 7.4631e-04 - mean_squared_error: 7.4443e-04 - val_loss: 0.1207 - val_mean_squared_error: 0.1207\n",
      "Epoch 17/500\n",
      "80214/80214 [==============================] - 15s 183us/step - loss: 7.2587e-04 - mean_squared_error: 7.2392e-04 - val_loss: 0.1204 - val_mean_squared_error: 0.1204\n",
      "Epoch 18/500\n",
      "80214/80214 [==============================] - 14s 178us/step - loss: 6.8912e-04 - mean_squared_error: 6.8723e-04 - val_loss: 0.1193 - val_mean_squared_error: 0.1193\n",
      "Epoch 19/500\n",
      "80214/80214 [==============================] - 14s 173us/step - loss: 6.3630e-04 - mean_squared_error: 6.3419e-04 - val_loss: 0.1101 - val_mean_squared_error: 0.1101\n",
      "Epoch 20/500\n",
      "80214/80214 [==============================] - 13s 166us/step - loss: 6.1358e-04 - mean_squared_error: 6.1169e-04 - val_loss: 0.0937 - val_mean_squared_error: 0.0937\n",
      "Epoch 21/500\n",
      "80214/80214 [==============================] - 16s 195us/step - loss: 5.9039e-04 - mean_squared_error: 5.8855e-04 - val_loss: 0.0984 - val_mean_squared_error: 0.0984\n",
      "Epoch 22/500\n",
      "80214/80214 [==============================] - 15s 189us/step - loss: 5.6345e-04 - mean_squared_error: 5.6172e-04 - val_loss: 0.0904 - val_mean_squared_error: 0.0903\n",
      "Epoch 23/500\n",
      "80214/80214 [==============================] - 15s 185us/step - loss: 5.2350e-04 - mean_squared_error: 5.2205e-04 - val_loss: 0.0834 - val_mean_squared_error: 0.0834\n",
      "Epoch 24/500\n",
      "80214/80214 [==============================] - 13s 168us/step - loss: 5.1697e-04 - mean_squared_error: 5.1551e-04 - val_loss: 0.0918 - val_mean_squared_error: 0.0918\n",
      "Epoch 25/500\n",
      "80214/80214 [==============================] - 13s 162us/step - loss: 4.9944e-04 - mean_squared_error: 4.9806e-04 - val_loss: 0.0877 - val_mean_squared_error: 0.0877\n",
      "Epoch 26/500\n",
      "80214/80214 [==============================] - 13s 159us/step - loss: 4.9822e-04 - mean_squared_error: 4.9644e-04 - val_loss: 0.0774 - val_mean_squared_error: 0.0774\n",
      "Epoch 27/500\n",
      "80214/80214 [==============================] - 13s 158us/step - loss: 4.7454e-04 - mean_squared_error: 4.7322e-04 - val_loss: 0.0752 - val_mean_squared_error: 0.0752\n",
      "Epoch 28/500\n",
      "80214/80214 [==============================] - 13s 157us/step - loss: 4.8072e-04 - mean_squared_error: 4.7876e-04 - val_loss: 0.0848 - val_mean_squared_error: 0.0848\n",
      "Epoch 29/500\n",
      "80214/80214 [==============================] - 13s 158us/step - loss: 4.8751e-04 - mean_squared_error: 4.8599e-04 - val_loss: 0.0730 - val_mean_squared_error: 0.0730\n",
      "Epoch 30/500\n",
      "80214/80214 [==============================] - 13s 157us/step - loss: 4.8827e-04 - mean_squared_error: 4.8671e-04 - val_loss: 0.0820 - val_mean_squared_error: 0.0820\n",
      "Epoch 31/500\n",
      "80214/80214 [==============================] - 13s 158us/step - loss: 4.7399e-04 - mean_squared_error: 4.7229e-04 - val_loss: 0.0800 - val_mean_squared_error: 0.0800\n",
      "Epoch 32/500\n",
      "80214/80214 [==============================] - 13s 163us/step - loss: 4.6866e-04 - mean_squared_error: 4.6660e-04 - val_loss: 0.0707 - val_mean_squared_error: 0.0707\n",
      "Epoch 33/500\n",
      "80214/80214 [==============================] - 13s 165us/step - loss: 4.7941e-04 - mean_squared_error: 4.7767e-04 - val_loss: 0.0666 - val_mean_squared_error: 0.0666\n",
      "Epoch 34/500\n",
      "80214/80214 [==============================] - 13s 159us/step - loss: 4.8119e-04 - mean_squared_error: 4.7916e-04 - val_loss: 0.0792 - val_mean_squared_error: 0.0792\n",
      "Epoch 35/500\n",
      "80214/80214 [==============================] - 13s 159us/step - loss: 4.5974e-04 - mean_squared_error: 4.5774e-04 - val_loss: 0.0721 - val_mean_squared_error: 0.0721\n",
      "Epoch 36/500\n",
      "80214/80214 [==============================] - 13s 166us/step - loss: 4.8077e-04 - mean_squared_error: 4.7825e-04 - val_loss: 0.0706 - val_mean_squared_error: 0.0706\n",
      "Epoch 37/500\n",
      "80214/80214 [==============================] - 13s 163us/step - loss: 4.7654e-04 - mean_squared_error: 4.7424e-04 - val_loss: 0.0691 - val_mean_squared_error: 0.0691\n",
      "Epoch 38/500\n",
      " 7424/80214 [=>............................] - ETA: 10s - loss: 4.5396e-04 - mean_squared_error: 4.5227e-04"
     ]
    },
    {
     "ename": "KeyboardInterrupt",
     "evalue": "",
     "output_type": "error",
     "traceback": [
      "\u001b[0;31m---------------------------------------------------------------------------\u001b[0m",
      "\u001b[0;31mKeyboardInterrupt\u001b[0m                         Traceback (most recent call last)",
      "\u001b[0;32m<ipython-input-22-69c9bd2b49c1>\u001b[0m in \u001b[0;36m<module>\u001b[0;34m\u001b[0m\n\u001b[1;32m      1\u001b[0m \u001b[0;31m# fit model - valmse - .22 (2x 10 neurons with dropout0.5)\u001b[0m\u001b[0;34m\u001b[0m\u001b[0;34m\u001b[0m\u001b[0;34m\u001b[0m\u001b[0m\n\u001b[1;32m      2\u001b[0m \u001b[0;31m#model = keras.models.load_model('model')\u001b[0m\u001b[0;34m\u001b[0m\u001b[0;34m\u001b[0m\u001b[0;34m\u001b[0m\u001b[0m\n\u001b[0;32m----> 3\u001b[0;31m \u001b[0mhistory\u001b[0m \u001b[0;34m=\u001b[0m \u001b[0mmodel\u001b[0m\u001b[0;34m.\u001b[0m\u001b[0mfit\u001b[0m\u001b[0;34m(\u001b[0m\u001b[0mx_train\u001b[0m\u001b[0;34m,\u001b[0m \u001b[0my_train\u001b[0m\u001b[0;34m,\u001b[0m \u001b[0mepochs\u001b[0m\u001b[0;34m=\u001b[0m\u001b[0;36m500\u001b[0m\u001b[0;34m,\u001b[0m \u001b[0mverbose\u001b[0m\u001b[0;34m=\u001b[0m\u001b[0;36m1\u001b[0m\u001b[0;34m,\u001b[0m \u001b[0mbatch_size\u001b[0m\u001b[0;34m=\u001b[0m\u001b[0;36m128\u001b[0m\u001b[0;34m,\u001b[0m \u001b[0mcallbacks\u001b[0m\u001b[0;34m=\u001b[0m\u001b[0mcallbacks\u001b[0m\u001b[0;34m,\u001b[0m \u001b[0mvalidation_split\u001b[0m\u001b[0;34m=\u001b[0m\u001b[0;36m0.2\u001b[0m\u001b[0;34m)\u001b[0m\u001b[0;34m\u001b[0m\u001b[0;34m\u001b[0m\u001b[0m\n\u001b[0m\u001b[1;32m      4\u001b[0m \u001b[0mmodel\u001b[0m\u001b[0;34m.\u001b[0m\u001b[0msave\u001b[0m\u001b[0;34m(\u001b[0m\u001b[0;34m'modelsave'\u001b[0m\u001b[0;34m)\u001b[0m\u001b[0;34m\u001b[0m\u001b[0;34m\u001b[0m\u001b[0m\n",
      "\u001b[0;32m~/anaconda3/lib/python3.8/site-packages/keras/engine/training.py\u001b[0m in \u001b[0;36mfit\u001b[0;34m(self, x, y, batch_size, epochs, verbose, callbacks, validation_split, validation_data, shuffle, class_weight, sample_weight, initial_epoch, steps_per_epoch, validation_steps, **kwargs)\u001b[0m\n\u001b[1;32m   1025\u001b[0m \u001b[0;34m\u001b[0m\u001b[0m\n\u001b[1;32m   1026\u001b[0m         \u001b[0;31m# Delegate logic to `fit_loop`.\u001b[0m\u001b[0;34m\u001b[0m\u001b[0;34m\u001b[0m\u001b[0;34m\u001b[0m\u001b[0m\n\u001b[0;32m-> 1027\u001b[0;31m         return training_arrays.fit_loop(self, f, ins,\n\u001b[0m\u001b[1;32m   1028\u001b[0m                                         \u001b[0mout_labels\u001b[0m\u001b[0;34m=\u001b[0m\u001b[0mout_labels\u001b[0m\u001b[0;34m,\u001b[0m\u001b[0;34m\u001b[0m\u001b[0;34m\u001b[0m\u001b[0m\n\u001b[1;32m   1029\u001b[0m                                         \u001b[0mbatch_size\u001b[0m\u001b[0;34m=\u001b[0m\u001b[0mbatch_size\u001b[0m\u001b[0;34m,\u001b[0m\u001b[0;34m\u001b[0m\u001b[0;34m\u001b[0m\u001b[0m\n",
      "\u001b[0;32m~/anaconda3/lib/python3.8/site-packages/keras/engine/training_arrays.py\u001b[0m in \u001b[0;36mfit_loop\u001b[0;34m(model, f, ins, out_labels, batch_size, epochs, verbose, callbacks, val_f, val_ins, shuffle, callback_metrics, initial_epoch, steps_per_epoch, validation_steps)\u001b[0m\n\u001b[1;32m    197\u001b[0m                     \u001b[0mins_batch\u001b[0m\u001b[0;34m[\u001b[0m\u001b[0mi\u001b[0m\u001b[0;34m]\u001b[0m \u001b[0;34m=\u001b[0m \u001b[0mins_batch\u001b[0m\u001b[0;34m[\u001b[0m\u001b[0mi\u001b[0m\u001b[0;34m]\u001b[0m\u001b[0;34m.\u001b[0m\u001b[0mtoarray\u001b[0m\u001b[0;34m(\u001b[0m\u001b[0;34m)\u001b[0m\u001b[0;34m\u001b[0m\u001b[0;34m\u001b[0m\u001b[0m\n\u001b[1;32m    198\u001b[0m \u001b[0;34m\u001b[0m\u001b[0m\n\u001b[0;32m--> 199\u001b[0;31m                 \u001b[0mouts\u001b[0m \u001b[0;34m=\u001b[0m \u001b[0mf\u001b[0m\u001b[0;34m(\u001b[0m\u001b[0mins_batch\u001b[0m\u001b[0;34m)\u001b[0m\u001b[0;34m\u001b[0m\u001b[0;34m\u001b[0m\u001b[0m\n\u001b[0m\u001b[1;32m    200\u001b[0m                 \u001b[0mouts\u001b[0m \u001b[0;34m=\u001b[0m \u001b[0mto_list\u001b[0m\u001b[0;34m(\u001b[0m\u001b[0mouts\u001b[0m\u001b[0;34m)\u001b[0m\u001b[0;34m\u001b[0m\u001b[0;34m\u001b[0m\u001b[0m\n\u001b[1;32m    201\u001b[0m                 \u001b[0;32mfor\u001b[0m \u001b[0ml\u001b[0m\u001b[0;34m,\u001b[0m \u001b[0mo\u001b[0m \u001b[0;32min\u001b[0m \u001b[0mzip\u001b[0m\u001b[0;34m(\u001b[0m\u001b[0mout_labels\u001b[0m\u001b[0;34m,\u001b[0m \u001b[0mouts\u001b[0m\u001b[0;34m)\u001b[0m\u001b[0;34m:\u001b[0m\u001b[0;34m\u001b[0m\u001b[0;34m\u001b[0m\u001b[0m\n",
      "\u001b[0;32m~/anaconda3/lib/python3.8/site-packages/plaidml/keras/backend.py\u001b[0m in \u001b[0;36m__call__\u001b[0;34m(self, inputs)\u001b[0m\n\u001b[1;32m    187\u001b[0m             \u001b[0mself\u001b[0m\u001b[0;34m.\u001b[0m\u001b[0m_invoker\u001b[0m\u001b[0;34m.\u001b[0m\u001b[0mset_output\u001b[0m\u001b[0;34m(\u001b[0m\u001b[0mname\u001b[0m\u001b[0;34m,\u001b[0m \u001b[0mt\u001b[0m\u001b[0;34m)\u001b[0m\u001b[0;34m\u001b[0m\u001b[0;34m\u001b[0m\u001b[0m\n\u001b[1;32m    188\u001b[0m \u001b[0;34m\u001b[0m\u001b[0m\n\u001b[0;32m--> 189\u001b[0;31m         \u001b[0mself\u001b[0m\u001b[0;34m.\u001b[0m\u001b[0m_invoker\u001b[0m\u001b[0;34m.\u001b[0m\u001b[0minvoke\u001b[0m\u001b[0;34m(\u001b[0m\u001b[0;34m)\u001b[0m\u001b[0;34m\u001b[0m\u001b[0;34m\u001b[0m\u001b[0m\n\u001b[0m\u001b[1;32m    190\u001b[0m \u001b[0;34m\u001b[0m\u001b[0m\n\u001b[1;32m    191\u001b[0m         \u001b[0;32mreturn\u001b[0m \u001b[0;34m[\u001b[0m\u001b[0mt\u001b[0m\u001b[0;34m.\u001b[0m\u001b[0mas_ndarray\u001b[0m\u001b[0;34m(\u001b[0m\u001b[0m_ctx\u001b[0m\u001b[0;34m)\u001b[0m \u001b[0;32mfor\u001b[0m \u001b[0mt\u001b[0m \u001b[0;32min\u001b[0m \u001b[0mtensors\u001b[0m\u001b[0;34m]\u001b[0m\u001b[0;34m\u001b[0m\u001b[0;34m\u001b[0m\u001b[0m\n",
      "\u001b[0;32m~/anaconda3/lib/python3.8/site-packages/plaidml/__init__.py\u001b[0m in \u001b[0;36minvoke\u001b[0;34m(self)\u001b[0m\n\u001b[1;32m   1473\u001b[0m \u001b[0;34m\u001b[0m\u001b[0m\n\u001b[1;32m   1474\u001b[0m     \u001b[0;32mdef\u001b[0m \u001b[0minvoke\u001b[0m\u001b[0;34m(\u001b[0m\u001b[0mself\u001b[0m\u001b[0;34m)\u001b[0m\u001b[0;34m:\u001b[0m\u001b[0;34m\u001b[0m\u001b[0;34m\u001b[0m\u001b[0m\n\u001b[0;32m-> 1475\u001b[0;31m         \u001b[0;32mreturn\u001b[0m \u001b[0mInvocation\u001b[0m\u001b[0;34m(\u001b[0m\u001b[0mself\u001b[0m\u001b[0;34m.\u001b[0m\u001b[0m_ctx\u001b[0m\u001b[0;34m,\u001b[0m \u001b[0mself\u001b[0m\u001b[0;34m)\u001b[0m\u001b[0;34m\u001b[0m\u001b[0;34m\u001b[0m\u001b[0m\n\u001b[0m\u001b[1;32m   1476\u001b[0m \u001b[0;34m\u001b[0m\u001b[0m\n\u001b[1;32m   1477\u001b[0m     \u001b[0;32mdef\u001b[0m \u001b[0msave\u001b[0m\u001b[0;34m(\u001b[0m\u001b[0mself\u001b[0m\u001b[0;34m,\u001b[0m \u001b[0mfilename\u001b[0m\u001b[0;34m)\u001b[0m\u001b[0;34m:\u001b[0m\u001b[0;34m\u001b[0m\u001b[0;34m\u001b[0m\u001b[0m\n",
      "\u001b[0;32m~/anaconda3/lib/python3.8/site-packages/plaidml/__init__.py\u001b[0m in \u001b[0;36m__init__\u001b[0;34m(self, ctx, invoker)\u001b[0m\n\u001b[1;32m   1482\u001b[0m \u001b[0;34m\u001b[0m\u001b[0m\n\u001b[1;32m   1483\u001b[0m     \u001b[0;32mdef\u001b[0m \u001b[0m__init__\u001b[0m\u001b[0;34m(\u001b[0m\u001b[0mself\u001b[0m\u001b[0;34m,\u001b[0m \u001b[0mctx\u001b[0m\u001b[0;34m,\u001b[0m \u001b[0minvoker\u001b[0m\u001b[0;34m)\u001b[0m\u001b[0;34m:\u001b[0m\u001b[0;34m\u001b[0m\u001b[0;34m\u001b[0m\u001b[0m\n\u001b[0;32m-> 1484\u001b[0;31m         \u001b[0mself\u001b[0m\u001b[0;34m.\u001b[0m\u001b[0m_as_parameter_\u001b[0m \u001b[0;34m=\u001b[0m \u001b[0m_lib\u001b[0m\u001b[0;34m(\u001b[0m\u001b[0;34m)\u001b[0m\u001b[0;34m.\u001b[0m\u001b[0mplaidml_schedule_invocation\u001b[0m\u001b[0;34m(\u001b[0m\u001b[0mctx\u001b[0m\u001b[0;34m,\u001b[0m \u001b[0minvoker\u001b[0m\u001b[0;34m)\u001b[0m\u001b[0;34m\u001b[0m\u001b[0;34m\u001b[0m\u001b[0m\n\u001b[0m\u001b[1;32m   1485\u001b[0m         \u001b[0mself\u001b[0m\u001b[0;34m.\u001b[0m\u001b[0m_free\u001b[0m \u001b[0;34m=\u001b[0m \u001b[0m_lib\u001b[0m\u001b[0;34m(\u001b[0m\u001b[0;34m)\u001b[0m\u001b[0;34m.\u001b[0m\u001b[0mplaidml_free_invocation\u001b[0m\u001b[0;34m\u001b[0m\u001b[0;34m\u001b[0m\u001b[0m\n\u001b[1;32m   1486\u001b[0m \u001b[0;34m\u001b[0m\u001b[0m\n",
      "\u001b[0;32m~/anaconda3/lib/python3.8/site-packages/plaidml/__init__.py\u001b[0m in \u001b[0;36m_check_err\u001b[0;34m(self, result, func, args)\u001b[0m\n\u001b[1;32m    768\u001b[0m         \u001b[0mself\u001b[0m\u001b[0;34m.\u001b[0m\u001b[0mplaidml_compute_grad_wrt\u001b[0m\u001b[0;34m.\u001b[0m\u001b[0merrcheck\u001b[0m \u001b[0;34m=\u001b[0m \u001b[0mself\u001b[0m\u001b[0;34m.\u001b[0m\u001b[0m_check_err\u001b[0m\u001b[0;34m\u001b[0m\u001b[0;34m\u001b[0m\u001b[0m\n\u001b[1;32m    769\u001b[0m \u001b[0;34m\u001b[0m\u001b[0m\n\u001b[0;32m--> 770\u001b[0;31m     \u001b[0;32mdef\u001b[0m \u001b[0m_check_err\u001b[0m\u001b[0;34m(\u001b[0m\u001b[0mself\u001b[0m\u001b[0;34m,\u001b[0m \u001b[0mresult\u001b[0m\u001b[0;34m,\u001b[0m \u001b[0mfunc\u001b[0m\u001b[0;34m,\u001b[0m \u001b[0margs\u001b[0m\u001b[0;34m)\u001b[0m\u001b[0;34m:\u001b[0m\u001b[0;34m\u001b[0m\u001b[0;34m\u001b[0m\u001b[0m\n\u001b[0m\u001b[1;32m    771\u001b[0m         \u001b[0;32mif\u001b[0m \u001b[0mresult\u001b[0m\u001b[0;34m:\u001b[0m\u001b[0;34m\u001b[0m\u001b[0;34m\u001b[0m\u001b[0m\n\u001b[1;32m    772\u001b[0m             \u001b[0;32mreturn\u001b[0m \u001b[0mresult\u001b[0m\u001b[0;34m\u001b[0m\u001b[0;34m\u001b[0m\u001b[0m\n",
      "\u001b[0;31mKeyboardInterrupt\u001b[0m: "
     ]
    }
   ],
   "source": [
    "# fit model : mse - 7.5e-4 : valmse - .07 : (2x 10 neurons with dropout0.9)\n",
    "#model = keras.models.load_model('model')\n",
    "history = model.fit(x_train, y_train, epochs=500, verbose=1, batch_size=128, callbacks=callbacks, validation_split=0.2)\n",
    "model.save('modelsave')"
   ]
  },
  {
   "cell_type": "code",
   "execution_count": null,
   "metadata": {
    "colab": {
     "base_uri": "https://localhost:8080/",
     "height": 249
    },
    "id": "HHn8FOYU_Ibd",
    "outputId": "3bbd8bcd-a2ab-4c21-c9c2-c797231a8fe8"
   },
   "outputs": [],
   "source": [
    "# show traning/validation plots\n",
    "metric = \"mean_squared_error\"\n",
    "plt.figure(figsize=(10,10))\n",
    "plt.plot(history.history[metric])\n",
    "plt.plot(history.history[\"val_\" + metric])\n",
    "plt.title(\"model \" + metric)\n",
    "plt.ylabel(metric, fontsize=\"large\")\n",
    "plt.xlabel(\"epoch\", fontsize=\"large\")\n",
    "plt.legend([\"train\", \"val\"], loc=\"best\")\n",
    "plt.show()\n",
    "plt.close()"
   ]
  },
  {
   "cell_type": "code",
   "execution_count": null,
   "metadata": {
    "id": "YRurV1tNbPaB"
   },
   "outputs": [],
   "source": [
    "y_train[-i].shape"
   ]
  },
  {
   "cell_type": "code",
   "execution_count": null,
   "metadata": {
    "id": "iC56B7b6kh_l"
   },
   "outputs": [],
   "source": [
    "# get latest prediction\n",
    "i = 80\n",
    "x_pred = x_train[-i]\n",
    "prediction = model.predict(x_pred.reshape(1,10,5))\n",
    "y_pred = y_scaler.inverse_transform(prediction)\n",
    "y_actual = y_train[-i]\n",
    "print(\"Prediction: \",y_pred[0][0])\n",
    "print( \"Actual: \", y_actual[0])\n",
    "print(\"MSE: \", (y_actual[0]- y_pred[0][0])**2)\n",
    "\n",
    "# plot latest prediction\n",
    "#plt.plot(np.arange(1,y_pred.shape[1]+1),y_pred[0]);\n",
    "#plt.plot(np.arange(y_pred.shape[1]+1,len(y_actual[0])+1),y_actual[0]);"
   ]
  },
  {
   "cell_type": "code",
   "execution_count": 43,
   "metadata": {
    "id": "Zr4MP0WM4kt8"
   },
   "outputs": [
    {
     "data": {
      "text/plain": [
       "0.02554094176668921"
      ]
     },
     "execution_count": 43,
     "metadata": {},
     "output_type": "execute_result"
    }
   ],
   "source": []
  },
  {
   "cell_type": "code",
   "execution_count": null,
   "metadata": {
    "id": "GLbiTtQtGui9"
   },
   "outputs": [],
   "source": [
    "pred_df = pd.DataFrame()\n",
    "pred_df[\"actual\"] = x_train[-1][:,3]\n",
    "\n",
    "tmp = np.empty(len(pred_df.values)-predict_forward)\n",
    "tmp.fill(np.nan)\n",
    "tmp = np.concatenate((tmp, y_pred[0]))\n",
    "\n",
    "pred_df[\"predicted\"] = tmp"
   ]
  },
  {
   "cell_type": "code",
   "execution_count": 34,
   "metadata": {
    "id": "d-CCl4BUcOVl"
   },
   "outputs": [
    {
     "data": {
      "text/plain": [
       "(0.1033183384035478, 0.26313367)"
      ]
     },
     "execution_count": 34,
     "metadata": {},
     "output_type": "execute_result"
    }
   ],
   "source": [
    "y_actual[0],y_pred[0][0]"
   ]
  },
  {
   "cell_type": "code",
   "execution_count": null,
   "metadata": {
    "id": "kgbqHW2zdKee"
   },
   "outputs": [],
   "source": []
  },
  {
   "cell_type": "code",
   "execution_count": null,
   "metadata": {
    "id": "7X89MjW1e3AW"
   },
   "outputs": [],
   "source": [
    "tmp"
   ]
  },
  {
   "cell_type": "code",
   "execution_count": null,
   "metadata": {
    "id": "egfbg0ULfD52"
   },
   "outputs": [],
   "source": []
  }
 ],
 "metadata": {
  "accelerator": "GPU",
  "colab": {
   "collapsed_sections": [],
   "name": "Stock_prediction",
   "provenance": []
  },
  "kernelspec": {
   "display_name": "Python 3",
   "language": "python",
   "name": "python3"
  },
  "language_info": {
   "codemirror_mode": {
    "name": "ipython",
    "version": 3
   },
   "file_extension": ".py",
   "mimetype": "text/x-python",
   "name": "python",
   "nbconvert_exporter": "python",
   "pygments_lexer": "ipython3",
   "version": "3.8.3"
  }
 },
 "nbformat": 4,
 "nbformat_minor": 4
}
