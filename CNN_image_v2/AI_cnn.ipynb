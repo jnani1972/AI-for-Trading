{
 "cells": [
  {
   "cell_type": "code",
   "execution_count": 1,
   "metadata": {
    "id": "ZD-Wxzs_7igM",
    "outputId": "caec421e-a90f-414d-9f59-dccfb6d51644"
   },
   "outputs": [
    {
     "name": "stderr",
     "output_type": "stream",
     "text": [
      "Using plaidml.keras.backend backend.\n"
     ]
    }
   ],
   "source": [
    "from numpy import genfromtxt\n",
    "import matplotlib.pyplot as plt\n",
    "#!pip install mplfinance\n",
    "import mplfinance as mpf\n",
    "from mplfinance.original_flavor import candlestick2_ochl, candlestick_ohlc\n",
    "import numpy as np\n",
    "import pandas as pd\n",
    "import uuid\n",
    "import time\n",
    "import shutil\n",
    "import os\n",
    "import sys\n",
    "from datetime import datetime\n",
    "from packaging import version\n",
    "\n",
    "#import tensorflow as tf\n",
    "#from tensorflow import keras\n",
    "os.environ[\"KERAS_BACKEND\"] = \"plaidml.keras.backend\"\n",
    "import keras\n",
    "\n",
    "from keras import optimizers\n",
    "from keras.layers import Dropout, Flatten, Dense, Activation, BatchNormalization\n",
    "from keras.layers import Convolution2D, MaxPooling2D, Conv2D\n",
    "from keras.models import Sequential\n",
    "from keras.preprocessing.image import ImageDataGenerator\n",
    "from keras.callbacks import ModelCheckpoint\n",
    "\n",
    "#!pip install opencv-python\n",
    "import cv2\n",
    "\n",
    "%load_ext tensorboard\n",
    "\n",
    "data = \"data2\"\n",
    "train = data + \"/train/\"\n",
    "validation=  data + \"/validation/\"\n",
    "buy = \"buy/\"\n",
    "sell = \"sell/\""
   ]
  },
  {
   "cell_type": "code",
   "execution_count": 3,
   "metadata": {},
   "outputs": [],
   "source": [
    "n_samples = len(os.listdir(train+buy)) + len(os.listdir(train+sell))\n",
    "\n",
    "# get image dimensions\n",
    "img_path = os.listdir(data + \"/train/buy\")[10]\n",
    "im = cv2.imread(data + \"/train/buy/\" + img_path)\n",
    "\n",
    "# create arrays\n",
    "buy_array = np.empty((len(os.listdir(train+buy)), im.shape[0], im.shape[1], 3))\n",
    "sell_array = np.empty((len(os.listdir(train+sell)), im.shape[0], im.shape[1], 3))\n",
    "\n",
    "\n",
    "# fill buy array\n",
    "files = os.listdir(train + buy)\n",
    "for i, f in enumerate(files):\n",
    "    if f.endswith(\".png\"):\n",
    "        im = cv2.imread(\"data2/train/buy/\" + f)\n",
    "        buy_array[i] = keras.preprocessing.image.img_to_array(im)\n",
    "buy_array /= 255\n",
    "        \n",
    "# fill sell array\n",
    "files = os.listdir(train + sell)\n",
    "for i, f in enumerate(files):\n",
    "    if f.endswith(\".png\"):\n",
    "        im = cv2.imread(\"data2/train/sell/\" + f)\n",
    "        sell_array[i] = keras.preprocessing.image.img_to_array(im)\n",
    "sell_array /= 255\n",
    "\n",
    "\n",
    "# combine and shuffle arrays\n",
    "np.random.seed(42)\n",
    "x_train = np.append(buy_array, sell_array, axis=0)\n",
    "y_train = np.append(np.ones(len(buy_array)), np.zeros(len(sell_array)))\n",
    "p = np.random.permutation(len(x_train))\n",
    "x_train = x_train[p]\n",
    "y_train = y_train[p]"
   ]
  },
  {
   "cell_type": "code",
   "execution_count": 27,
   "metadata": {
    "colab": {
     "base_uri": "https://localhost:8080/",
     "height": 1000
    },
    "id": "abE6fhcr7igU",
    "outputId": "1f1318af-a09e-41f2-9821-cb2a299f9385"
   },
   "outputs": [
    {
     "name": "stdout",
     "output_type": "stream",
     "text": [
      "_________________________________________________________________\n",
      "Layer (type)                 Output Shape              Param #   \n",
      "=================================================================\n",
      "conv2d_25 (Conv2D)           (None, 140, 144, 32)      896       \n",
      "_________________________________________________________________\n",
      "activation_33 (Activation)   (None, 140, 144, 32)      0         \n",
      "_________________________________________________________________\n",
      "max_pooling2d_25 (MaxPooling (None, 70, 72, 32)        0         \n",
      "_________________________________________________________________\n",
      "dropout_33 (Dropout)         (None, 70, 72, 32)        0         \n",
      "_________________________________________________________________\n",
      "conv2d_26 (Conv2D)           (None, 70, 72, 32)        4128      \n",
      "_________________________________________________________________\n",
      "activation_34 (Activation)   (None, 70, 72, 32)        0         \n",
      "_________________________________________________________________\n",
      "max_pooling2d_26 (MaxPooling (None, 35, 36, 32)        0         \n",
      "_________________________________________________________________\n",
      "dropout_34 (Dropout)         (None, 35, 36, 32)        0         \n",
      "_________________________________________________________________\n",
      "conv2d_27 (Conv2D)           (None, 35, 36, 64)        51264     \n",
      "_________________________________________________________________\n",
      "activation_35 (Activation)   (None, 35, 36, 64)        0         \n",
      "_________________________________________________________________\n",
      "max_pooling2d_27 (MaxPooling (None, 17, 18, 64)        0         \n",
      "_________________________________________________________________\n",
      "dropout_35 (Dropout)         (None, 17, 18, 64)        0         \n",
      "_________________________________________________________________\n",
      "flatten_9 (Flatten)          (None, 19584)             0         \n",
      "_________________________________________________________________\n",
      "dense_17 (Dense)             (None, 1024)              20055040  \n",
      "_________________________________________________________________\n",
      "activation_36 (Activation)   (None, 1024)              0         \n",
      "_________________________________________________________________\n",
      "dropout_36 (Dropout)         (None, 1024)              0         \n",
      "_________________________________________________________________\n",
      "dense_18 (Dense)             (None, 1)                 1025      \n",
      "=================================================================\n",
      "Total params: 20,112,353\n",
      "Trainable params: 20,112,353\n",
      "Non-trainable params: 0\n",
      "_________________________________________________________________\n"
     ]
    }
   ],
   "source": [
    "img_width = im.shape[0]\n",
    "img_height = im.shape[1]\n",
    "\n",
    "\n",
    "# Enter the number of samples, training + validation\n",
    "nb_filters1 = 32\n",
    "nb_filters2 = 32\n",
    "nb_filters3 = 64\n",
    "conv1_size = 3\n",
    "conv2_size = 2\n",
    "conv3_size = 5\n",
    "pool_size = 2\n",
    "# We have 2 classes, buy and sell\n",
    "classes_num = 2\n",
    "batch_size = 128\n",
    "chanDim = 3\n",
    "\n",
    "\n",
    "\n",
    "### custom model\n",
    "model = Sequential()\n",
    "model.add(Convolution2D(nb_filters1, conv1_size, padding ='same', input_shape=(img_width, img_height , 3)))\n",
    "model.add(Activation('relu'))\n",
    "model.add(MaxPooling2D(pool_size=(pool_size, pool_size)))\n",
    "model.add(Dropout(0.5))\n",
    "\n",
    "model.add(Convolution2D(nb_filters2, conv2_size, padding =\"same\"))\n",
    "model.add(Activation('relu'))\n",
    "model.add(MaxPooling2D(pool_size=(pool_size, pool_size), data_format='channels_last'))\n",
    "model.add(Dropout(0.5))\n",
    "\n",
    "model.add(Convolution2D(nb_filters3, conv3_size, padding ='same'))\n",
    "model.add(Activation('relu'))\n",
    "model.add(MaxPooling2D(pool_size=(pool_size, pool_size), data_format='channels_last'))\n",
    "model.add(Dropout(0.5))\n",
    "\n",
    "model.add(Flatten())\n",
    "model.add(Dense(1024))\n",
    "model.add(Activation('relu'))\n",
    "model.add(Dropout(0.5))\n",
    "model.add(Dense(1, activation='sigmoid'))\n",
    "\n",
    "model.summary()\n",
    "model.compile(loss='binary_crossentropy',\n",
    "                      optimizer=optimizers.Adam(),\n",
    "                      metrics=['accuracy'])\n",
    "\n",
    "callbacks_list = [\n",
    "    #OneCycle(min_lr=7e-6, max_lr=7e-2, min_mtm = 0.85, max_mtm = 0.95, annealing_stage=0.1, annealing_rate=0.01, training_iterations=np.ceil(((183*epochs)/(batch_size)))),\n",
    "    #keras.callbacks.ModelCheckpoint(\"best_model.h5\", save_best_only=True, monitor=\"val_loss\" ),\n",
    "    keras.callbacks.ReduceLROnPlateau(\n",
    "        monitor=\"val_loss\", factor=0.5, patience=20, min_lr=0.0001\n",
    "    ),\n",
    "    keras.callbacks.EarlyStopping(monitor=\"val_loss\", patience=50, verbose=1),\n",
    "]"
   ]
  },
  {
   "cell_type": "code",
   "execution_count": 28,
   "metadata": {
    "id": "_sLxVPsMpm6e",
    "outputId": "33e50056-a006-490a-db69-99ee1ebe8a09"
   },
   "outputs": [
    {
     "name": "stdout",
     "output_type": "stream",
     "text": [
      "Train on 8509 samples, validate on 2128 samples\n",
      "Epoch 1/20\n",
      "8509/8509 [==============================] - 71s 8ms/step - loss: 0.7527 - acc: 0.5089 - val_loss: 0.6932 - val_acc: 0.4962\n",
      "Epoch 2/20\n",
      "8509/8509 [==============================] - 61s 7ms/step - loss: 0.6929 - acc: 0.5155 - val_loss: 0.6933 - val_acc: 0.4962\n",
      "Epoch 3/20\n",
      "8509/8509 [==============================] - 61s 7ms/step - loss: 0.6920 - acc: 0.5159 - val_loss: 0.6932 - val_acc: 0.4962\n",
      "Epoch 4/20\n",
      "8509/8509 [==============================] - 61s 7ms/step - loss: 0.6914 - acc: 0.5220 - val_loss: 0.6929 - val_acc: 0.5202\n",
      "Epoch 5/20\n",
      "8509/8509 [==============================] - 61s 7ms/step - loss: 0.6903 - acc: 0.5361 - val_loss: 0.6925 - val_acc: 0.5287\n",
      "Epoch 6/20\n",
      "8509/8509 [==============================] - 62s 7ms/step - loss: 0.6887 - acc: 0.5412 - val_loss: 0.6923 - val_acc: 0.5202\n",
      "Epoch 7/20\n",
      "8509/8509 [==============================] - 61s 7ms/step - loss: 0.6854 - acc: 0.5466 - val_loss: 0.6927 - val_acc: 0.5301\n",
      "Epoch 8/20\n",
      "8509/8509 [==============================] - 61s 7ms/step - loss: 0.6822 - acc: 0.5605 - val_loss: 0.6924 - val_acc: 0.5155\n",
      "Epoch 9/20\n",
      "8509/8509 [==============================] - 61s 7ms/step - loss: 0.6774 - acc: 0.5725 - val_loss: 0.6932 - val_acc: 0.5164\n",
      "Epoch 10/20\n",
      "8509/8509 [==============================] - 61s 7ms/step - loss: 0.6736 - acc: 0.5828 - val_loss: 0.6933 - val_acc: 0.5221\n",
      "Epoch 11/20\n",
      "8509/8509 [==============================] - 61s 7ms/step - loss: 0.6639 - acc: 0.5958 - val_loss: 0.6962 - val_acc: 0.5089\n",
      "Epoch 12/20\n",
      "8509/8509 [==============================] - 61s 7ms/step - loss: 0.6526 - acc: 0.6121 - val_loss: 0.6972 - val_acc: 0.5164\n",
      "Epoch 13/20\n",
      "8509/8509 [==============================] - 61s 7ms/step - loss: 0.6332 - acc: 0.6409 - val_loss: 0.7042 - val_acc: 0.5080\n",
      "Epoch 14/20\n",
      "8509/8509 [==============================] - 62s 7ms/step - loss: 0.6147 - acc: 0.6601 - val_loss: 0.7094 - val_acc: 0.5202\n",
      "Epoch 15/20\n",
      "8509/8509 [==============================] - 62s 7ms/step - loss: 0.5741 - acc: 0.6976 - val_loss: 0.7256 - val_acc: 0.5075\n",
      "Epoch 16/20\n",
      "8509/8509 [==============================] - 61s 7ms/step - loss: 0.5390 - acc: 0.7259 - val_loss: 0.7478 - val_acc: 0.5028\n",
      "Epoch 17/20\n",
      "8509/8509 [==============================] - 61s 7ms/step - loss: 0.4894 - acc: 0.7640 - val_loss: 0.7625 - val_acc: 0.5019\n",
      "Epoch 18/20\n",
      "8509/8509 [==============================] - 61s 7ms/step - loss: 0.4467 - acc: 0.7900 - val_loss: 0.8260 - val_acc: 0.4991\n",
      "Epoch 19/20\n",
      "8509/8509 [==============================] - 61s 7ms/step - loss: 0.3992 - acc: 0.8188 - val_loss: 0.8329 - val_acc: 0.4831\n",
      "Epoch 20/20\n",
      "8509/8509 [==============================] - 62s 7ms/step - loss: 0.3615 - acc: 0.8393 - val_loss: 0.8869 - val_acc: 0.4821\n"
     ]
    }
   ],
   "source": [
    "# original - 95% training - 50% validation - overfitting\n",
    "# added 0.1 dropout after each moxpooling and changed from image_generator to numpy array - 15 epochs - 95% training - 50% validation - still overfitting\n",
    "# increased each conv dropout to 0.25 - 20 epochs - 96% training - 50% validation - still overfitting\n",
    "# increased each conv dropout to 0.50 - 20 epochs - 84% training - 50% validation - still overfitting\n",
    "history = model.fit(x_train, y_train, epochs=20, verbose=1, batch_size=128, shuffle=True, callbacks=callbacks_list, validation_split=0.2)\n",
    "\n",
    "model.save(\"my_model\")"
   ]
  },
  {
   "cell_type": "code",
   "execution_count": 31,
   "metadata": {},
   "outputs": [
    {
     "data": {
      "image/png": "[encoded data removed]",
      "text/plain": [
       "<Figure size 720x720 with 1 Axes>"
      ]
     },
     "metadata": {
      "needs_background": "light"
     },
     "output_type": "display_data"
    }
   ],
   "source": [
    "# show traning/validation plots\n",
    "metric = \"acc\"\n",
    "plt.figure(figsize=(10,10))\n",
    "plt.plot(history.history[metric])\n",
    "plt.plot(history.history[\"val_\" + metric])\n",
    "plt.title(\"model \" + metric)\n",
    "plt.ylabel(metric, fontsize=\"large\")\n",
    "plt.xlabel(\"epoch\", fontsize=\"large\")\n",
    "plt.legend([\"train\", \"val\"], loc=\"best\")\n",
    "plt.show()\n",
    "plt.close()"
   ]
  },
  {
   "cell_type": "code",
   "execution_count": 13,
   "metadata": {
    "id": "K8fbJxr5pm6k",
    "outputId": "22fbbfe1-ccde-48bd-cc8b-a3268495e26c"
   },
   "outputs": [],
   "source": [
    "y_pred = model.predict(x_train)"
   ]
  },
  {
   "cell_type": "code",
   "execution_count": 14,
   "metadata": {
    "id": "FSuhGYaZpm6s"
   },
   "outputs": [
    {
     "ename": "AttributeError",
     "evalue": "'tuple' object has no attribute 'dims'",
     "output_type": "error",
     "traceback": [
      "\u001b[0;31m---------------------------------------------------------------------------\u001b[0m",
      "\u001b[0;31mAttributeError\u001b[0m                            Traceback (most recent call last)",
      "\u001b[0;32m<ipython-input-14-079740fa6f29>\u001b[0m in \u001b[0;36m<module>\u001b[0;34m\u001b[0m\n\u001b[0;32m----> 1\u001b[0;31m \u001b[0mkeras\u001b[0m\u001b[0;34m.\u001b[0m\u001b[0mmetrics\u001b[0m\u001b[0;34m.\u001b[0m\u001b[0mbinary_accuracy\u001b[0m\u001b[0;34m(\u001b[0m\u001b[0my_train\u001b[0m\u001b[0;34m,\u001b[0m \u001b[0my_pred\u001b[0m\u001b[0;34m)\u001b[0m\u001b[0;34m\u001b[0m\u001b[0;34m\u001b[0m\u001b[0m\n\u001b[0m",
      "\u001b[0;32m~/anaconda3/lib/python3.8/site-packages/keras/metrics.py\u001b[0m in \u001b[0;36mbinary_accuracy\u001b[0;34m(y_true, y_pred)\u001b[0m\n\u001b[1;32m     25\u001b[0m \u001b[0;34m\u001b[0m\u001b[0m\n\u001b[1;32m     26\u001b[0m \u001b[0;32mdef\u001b[0m \u001b[0mbinary_accuracy\u001b[0m\u001b[0;34m(\u001b[0m\u001b[0my_true\u001b[0m\u001b[0;34m,\u001b[0m \u001b[0my_pred\u001b[0m\u001b[0;34m)\u001b[0m\u001b[0;34m:\u001b[0m\u001b[0;34m\u001b[0m\u001b[0;34m\u001b[0m\u001b[0m\n\u001b[0;32m---> 27\u001b[0;31m     \u001b[0;32mreturn\u001b[0m \u001b[0mK\u001b[0m\u001b[0;34m.\u001b[0m\u001b[0mmean\u001b[0m\u001b[0;34m(\u001b[0m\u001b[0mK\u001b[0m\u001b[0;34m.\u001b[0m\u001b[0mequal\u001b[0m\u001b[0;34m(\u001b[0m\u001b[0my_true\u001b[0m\u001b[0;34m,\u001b[0m \u001b[0mK\u001b[0m\u001b[0;34m.\u001b[0m\u001b[0mround\u001b[0m\u001b[0;34m(\u001b[0m\u001b[0my_pred\u001b[0m\u001b[0;34m)\u001b[0m\u001b[0;34m)\u001b[0m\u001b[0;34m,\u001b[0m \u001b[0maxis\u001b[0m\u001b[0;34m=\u001b[0m\u001b[0;34m-\u001b[0m\u001b[0;36m1\u001b[0m\u001b[0;34m)\u001b[0m\u001b[0;34m\u001b[0m\u001b[0;34m\u001b[0m\u001b[0m\n\u001b[0m\u001b[1;32m     28\u001b[0m \u001b[0;34m\u001b[0m\u001b[0m\n\u001b[1;32m     29\u001b[0m \u001b[0;34m\u001b[0m\u001b[0m\n",
      "\u001b[0;32m~/anaconda3/lib/python3.8/site-packages/plaidml/keras/backend.py\u001b[0m in \u001b[0;36mwrapper\u001b[0;34m(*args, **kwargs)\u001b[0m\n\u001b[1;32m     57\u001b[0m     \u001b[0;32mdef\u001b[0m \u001b[0mwrapper\u001b[0m\u001b[0;34m(\u001b[0m\u001b[0;34m*\u001b[0m\u001b[0margs\u001b[0m\u001b[0;34m,\u001b[0m \u001b[0;34m**\u001b[0m\u001b[0mkwargs\u001b[0m\u001b[0;34m)\u001b[0m\u001b[0;34m:\u001b[0m\u001b[0;34m\u001b[0m\u001b[0;34m\u001b[0m\u001b[0m\n\u001b[1;32m     58\u001b[0m         \u001b[0;31m# Call the requested function regardless\u001b[0m\u001b[0;34m\u001b[0m\u001b[0;34m\u001b[0m\u001b[0;34m\u001b[0m\u001b[0m\n\u001b[0;32m---> 59\u001b[0;31m         \u001b[0;32mreturn\u001b[0m \u001b[0mfunc\u001b[0m\u001b[0;34m(\u001b[0m\u001b[0;34m*\u001b[0m\u001b[0margs\u001b[0m\u001b[0;34m,\u001b[0m \u001b[0;34m**\u001b[0m\u001b[0mkwargs\u001b[0m\u001b[0;34m)\u001b[0m\u001b[0;34m\u001b[0m\u001b[0;34m\u001b[0m\u001b[0m\n\u001b[0m\u001b[1;32m     60\u001b[0m \u001b[0;34m\u001b[0m\u001b[0m\n\u001b[1;32m     61\u001b[0m     \u001b[0;32mreturn\u001b[0m \u001b[0mwrapper\u001b[0m\u001b[0;34m\u001b[0m\u001b[0;34m\u001b[0m\u001b[0m\n",
      "\u001b[0;32m~/anaconda3/lib/python3.8/site-packages/plaidml/keras/backend.py\u001b[0m in \u001b[0;36mequal\u001b[0;34m(x, y)\u001b[0m\n\u001b[1;32m    759\u001b[0m \u001b[0;34m@\u001b[0m\u001b[0m_log_call\u001b[0m\u001b[0;34m\u001b[0m\u001b[0;34m\u001b[0m\u001b[0m\n\u001b[1;32m    760\u001b[0m \u001b[0;32mdef\u001b[0m \u001b[0mequal\u001b[0m\u001b[0;34m(\u001b[0m\u001b[0mx\u001b[0m\u001b[0;34m,\u001b[0m \u001b[0my\u001b[0m\u001b[0;34m)\u001b[0m\u001b[0;34m:\u001b[0m\u001b[0;34m\u001b[0m\u001b[0;34m\u001b[0m\u001b[0m\n\u001b[0;32m--> 761\u001b[0;31m     \u001b[0;32mreturn\u001b[0m \u001b[0mop\u001b[0m\u001b[0;34m.\u001b[0m\u001b[0mequal\u001b[0m\u001b[0;34m(\u001b[0m\u001b[0mx\u001b[0m\u001b[0;34m,\u001b[0m \u001b[0my\u001b[0m\u001b[0;34m)\u001b[0m\u001b[0;34m\u001b[0m\u001b[0;34m\u001b[0m\u001b[0m\n\u001b[0m\u001b[1;32m    762\u001b[0m \u001b[0;34m\u001b[0m\u001b[0m\n\u001b[1;32m    763\u001b[0m \u001b[0;34m\u001b[0m\u001b[0m\n",
      "\u001b[0;32m~/anaconda3/lib/python3.8/site-packages/plaidml/op.py\u001b[0m in \u001b[0;36mequal\u001b[0;34m(lhs, rhs)\u001b[0m\n\u001b[1;32m   1658\u001b[0m         \u001b[0mtile\u001b[0m\u001b[0;34m.\u001b[0m\u001b[0mValue\u001b[0m\u001b[0;34m:\u001b[0m \u001b[0mThe\u001b[0m \u001b[0moutput\u001b[0m \u001b[0mvalue\u001b[0m\u001b[0;34m\u001b[0m\u001b[0;34m\u001b[0m\u001b[0m\n\u001b[1;32m   1659\u001b[0m     \"\"\"\n\u001b[0;32m-> 1660\u001b[0;31m     \u001b[0;32mreturn\u001b[0m \u001b[0mEqual\u001b[0m\u001b[0;34m.\u001b[0m\u001b[0mfunction\u001b[0m\u001b[0;34m(\u001b[0m\u001b[0mlhs\u001b[0m\u001b[0;34m,\u001b[0m \u001b[0mrhs\u001b[0m\u001b[0;34m)\u001b[0m\u001b[0;34m\u001b[0m\u001b[0;34m\u001b[0m\u001b[0m\n\u001b[0m\u001b[1;32m   1661\u001b[0m \u001b[0;34m\u001b[0m\u001b[0m\n\u001b[1;32m   1662\u001b[0m \u001b[0;34m\u001b[0m\u001b[0m\n",
      "\u001b[0;32m~/anaconda3/lib/python3.8/site-packages/plaidml/tile.py\u001b[0m in \u001b[0;36mfunction\u001b[0;34m(cls, *args, **kwargs)\u001b[0m\n\u001b[1;32m    255\u001b[0m             raise LogicError(\n\u001b[1;32m    256\u001b[0m                 'Operation.function is defined on subclasses of Operation, not Operation itself.')\n\u001b[0;32m--> 257\u001b[0;31m         \u001b[0moperation\u001b[0m \u001b[0;34m=\u001b[0m \u001b[0mcls\u001b[0m\u001b[0;34m(\u001b[0m\u001b[0;34m*\u001b[0m\u001b[0margs\u001b[0m\u001b[0;34m,\u001b[0m \u001b[0;34m**\u001b[0m\u001b[0mkwargs\u001b[0m\u001b[0;34m)\u001b[0m\u001b[0;34m\u001b[0m\u001b[0;34m\u001b[0m\u001b[0m\n\u001b[0m\u001b[1;32m    258\u001b[0m         \u001b[0;32mif\u001b[0m \u001b[0mlen\u001b[0m\u001b[0;34m(\u001b[0m\u001b[0moperation\u001b[0m\u001b[0;34m.\u001b[0m\u001b[0moutput_tuple\u001b[0m\u001b[0;34m)\u001b[0m \u001b[0;34m==\u001b[0m \u001b[0;36m1\u001b[0m\u001b[0;34m:\u001b[0m\u001b[0;34m\u001b[0m\u001b[0;34m\u001b[0m\u001b[0m\n\u001b[1;32m    259\u001b[0m             \u001b[0;32mreturn\u001b[0m \u001b[0moperation\u001b[0m\u001b[0;34m.\u001b[0m\u001b[0moutput_tuple\u001b[0m\u001b[0;34m[\u001b[0m\u001b[0;36m0\u001b[0m\u001b[0;34m]\u001b[0m\u001b[0;34m\u001b[0m\u001b[0;34m\u001b[0m\u001b[0m\n",
      "\u001b[0;32m~/anaconda3/lib/python3.8/site-packages/plaidml/op.py\u001b[0m in \u001b[0;36m__init__\u001b[0;34m(self, lhs, rhs)\u001b[0m\n\u001b[1;32m   1635\u001b[0m         \u001b[0;32mif\u001b[0m \u001b[0misinstance\u001b[0m\u001b[0;34m(\u001b[0m\u001b[0mrhs\u001b[0m\u001b[0;34m,\u001b[0m \u001b[0mtile\u001b[0m\u001b[0;34m.\u001b[0m\u001b[0mValue\u001b[0m\u001b[0;34m)\u001b[0m\u001b[0;34m:\u001b[0m\u001b[0;34m\u001b[0m\u001b[0;34m\u001b[0m\u001b[0m\n\u001b[1;32m   1636\u001b[0m             shape = tile.Shape(plaidml.DType.BOOLEAN,\n\u001b[0;32m-> 1637\u001b[0;31m                                tile.broadcast_dims(lhs.shape.dims, rhs.shape.dims))\n\u001b[0m\u001b[1;32m   1638\u001b[0m             super(Equal, self).__init__('function (L, R) -> (O) { O = (L == R); }', [('L', lhs),\n\u001b[1;32m   1639\u001b[0m                                                                                      ('R', rhs)],\n",
      "\u001b[0;31mAttributeError\u001b[0m: 'tuple' object has no attribute 'dims'"
     ]
    }
   ],
   "source": [
    "keras.metrics.binary_accuracy(y_train, y_pred)"
   ]
  },
  {
   "cell_type": "code",
   "execution_count": 16,
   "metadata": {},
   "outputs": [
    {
     "data": {
      "text/plain": [
       "(10637,)"
      ]
     },
     "execution_count": 16,
     "metadata": {},
     "output_type": "execute_result"
    }
   ],
   "source": [
    "y_train.shape"
   ]
  },
  {
   "cell_type": "code",
   "execution_count": null,
   "metadata": {},
   "outputs": [],
   "source": []
  }
 ],
 "metadata": {
  "colab": {
   "name": "AI_cnn.ipynb",
   "provenance": []
  },
  "kernelspec": {
   "display_name": "Python 3",
   "language": "python",
   "name": "python3"
  },
  "language_info": {
   "codemirror_mode": {
    "name": "ipython",
    "version": 3
   },
   "file_extension": ".py",
   "mimetype": "text/x-python",
   "name": "python",
   "nbconvert_exporter": "python",
   "pygments_lexer": "ipython3",
   "version": "3.8.3"
  }
 },
 "nbformat": 4,
 "nbformat_minor": 4
}
