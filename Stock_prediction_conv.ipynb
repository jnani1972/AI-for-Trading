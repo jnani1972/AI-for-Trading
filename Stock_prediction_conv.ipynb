{
 "cells": [
  {
   "cell_type": "markdown",
   "metadata": {
    "colab_type": "text",
    "id": "view-in-github"
   },
   "source": [
    "<a href=\"https://colab.research.google.com/github/kshptl/AI-for-Trading/blob/main/Stock_prediction.ipynb\" target=\"_parent\"><img src=\"https://colab.research.google.com/assets/colab-badge.svg\" alt=\"Open In Colab\"/></a>"
   ]
  },
  {
   "cell_type": "code",
   "execution_count": 87,
   "metadata": {
    "colab": {
     "base_uri": "https://localhost:8080/"
    },
    "id": "fHqIXMZ4-Lpm",
    "outputId": "5173c144-d683-41fd-b5b1-3297ffb4e3cf"
   },
   "outputs": [],
   "source": [
    "import pandas as pd\n",
    "import numpy as np\n",
    "import datetime as dt\n",
    "import os\n",
    "from keras_OneCycle import OneCycle\n",
    "os.environ[\"KERAS_BACKEND\"] = \"plaidml.keras.backend\"\n",
    "import keras\n",
    "#import tensorflow as tf\n",
    "#from tensorflow import keras\n",
    "\n",
    "#import tensorflow.keras.models as M\n",
    "#import tensorflow.keras.layers as L\n",
    "#from keras import backend as K\n",
    "#keras.backend\n",
    "\n",
    "#import tensorflow as tf\n",
    "#from tensorflow import keras #<------- use this for tensorflow\n",
    "\n",
    "\n",
    "\n",
    "import matplotlib.pyplot as plt\n",
    "#!pip install mplfinance\n",
    "import mplfinance as mpf\n",
    "from sklearn.preprocessing import MinMaxScaler\n",
    "from sklearn.metrics import mean_squared_error\n",
    "import seaborn as sns\n",
    "from keras.utils.np_utils import to_categorical"
   ]
  },
  {
   "cell_type": "code",
   "execution_count": 2,
   "metadata": {
    "colab": {
     "base_uri": "https://localhost:8080/"
    },
    "id": "IUkCw57H-4JR",
    "outputId": "efee7fe6-8d11-4c6e-eeef-2c147815e7f6"
   },
   "outputs": [
    {
     "name": "stdout",
     "output_type": "stream",
     "text": [
      "/Users/kush/Desktop/DS/inpredo-master/RNN_tabular/AI-for-Trading/data\n"
     ]
    }
   ],
   "source": [
    "cd data"
   ]
  },
  {
   "cell_type": "code",
   "execution_count": 3,
   "metadata": {
    "id": "G4iUQ4G0-5uh"
   },
   "outputs": [],
   "source": [
    "data = pd.read_csv(\"ND100.M5.csv\", parse_dates=True,  names=[\"open\", \"high\", \"low\", \"close\", \"volume\"])\n",
    "\n",
    "# # change timeframe\n",
    "logic = {'open'  : 'first',\n",
    "         'high'  : 'max',\n",
    "         'low'   : 'min',\n",
    "         'close' : 'last',\n",
    "         'volume': 'sum'}\n",
    "offset = pd.offsets.timedelta(days=-6)\n",
    "data = data.resample('1H', loffset=offset).apply(logic)\n",
    "\n",
    "data.reset_index(drop=True, inplace=True)\n",
    "data = data[[\"close\", \"open\", \"high\", \"low\"]]\n",
    "data['pandas_SMA_3'] = data.iloc[:,0].rolling(window=3).mean()\n",
    "data = data.fillna(0)"
   ]
  },
  {
   "cell_type": "code",
   "execution_count": 4,
   "metadata": {},
   "outputs": [
    {
     "data": {
      "text/html": [
       "<div>\n",
       "<style scoped>\n",
       "    .dataframe tbody tr th:only-of-type {\n",
       "        vertical-align: middle;\n",
       "    }\n",
       "\n",
       "    .dataframe tbody tr th {\n",
       "        vertical-align: top;\n",
       "    }\n",
       "\n",
       "    .dataframe thead th {\n",
       "        text-align: right;\n",
       "    }\n",
       "</style>\n",
       "<table border=\"1\" class=\"dataframe\">\n",
       "  <thead>\n",
       "    <tr style=\"text-align: right;\">\n",
       "      <th></th>\n",
       "      <th>close</th>\n",
       "      <th>open</th>\n",
       "      <th>high</th>\n",
       "      <th>low</th>\n",
       "      <th>pandas_SMA_3</th>\n",
       "    </tr>\n",
       "  </thead>\n",
       "  <tbody>\n",
       "    <tr>\n",
       "      <th>0</th>\n",
       "      <td>7224.7</td>\n",
       "      <td>7220.4</td>\n",
       "      <td>7226.6</td>\n",
       "      <td>7216.0</td>\n",
       "      <td>0.000000</td>\n",
       "    </tr>\n",
       "    <tr>\n",
       "      <th>1</th>\n",
       "      <td>7220.0</td>\n",
       "      <td>7224.6</td>\n",
       "      <td>7236.5</td>\n",
       "      <td>7207.2</td>\n",
       "      <td>0.000000</td>\n",
       "    </tr>\n",
       "    <tr>\n",
       "      <th>2</th>\n",
       "      <td>7218.4</td>\n",
       "      <td>7219.7</td>\n",
       "      <td>7253.9</td>\n",
       "      <td>7209.6</td>\n",
       "      <td>7221.033333</td>\n",
       "    </tr>\n",
       "    <tr>\n",
       "      <th>3</th>\n",
       "      <td>7186.5</td>\n",
       "      <td>7218.7</td>\n",
       "      <td>7235.2</td>\n",
       "      <td>7175.5</td>\n",
       "      <td>7208.300000</td>\n",
       "    </tr>\n",
       "    <tr>\n",
       "      <th>4</th>\n",
       "      <td>7196.5</td>\n",
       "      <td>7186.7</td>\n",
       "      <td>7211.0</td>\n",
       "      <td>7180.0</td>\n",
       "      <td>7200.466667</td>\n",
       "    </tr>\n",
       "    <tr>\n",
       "      <th>...</th>\n",
       "      <td>...</td>\n",
       "      <td>...</td>\n",
       "      <td>...</td>\n",
       "      <td>...</td>\n",
       "      <td>...</td>\n",
       "    </tr>\n",
       "    <tr>\n",
       "      <th>12577</th>\n",
       "      <td>11211.5</td>\n",
       "      <td>11145.1</td>\n",
       "      <td>11212.7</td>\n",
       "      <td>11114.4</td>\n",
       "      <td>11165.266667</td>\n",
       "    </tr>\n",
       "    <tr>\n",
       "      <th>12578</th>\n",
       "      <td>11345.5</td>\n",
       "      <td>11211.4</td>\n",
       "      <td>11347.5</td>\n",
       "      <td>11208.9</td>\n",
       "      <td>11234.066667</td>\n",
       "    </tr>\n",
       "    <tr>\n",
       "      <th>12579</th>\n",
       "      <td>11307.4</td>\n",
       "      <td>11345.0</td>\n",
       "      <td>11359.1</td>\n",
       "      <td>11298.6</td>\n",
       "      <td>11288.133333</td>\n",
       "    </tr>\n",
       "    <tr>\n",
       "      <th>12580</th>\n",
       "      <td>11308.5</td>\n",
       "      <td>11307.5</td>\n",
       "      <td>11338.9</td>\n",
       "      <td>11286.5</td>\n",
       "      <td>11320.466667</td>\n",
       "    </tr>\n",
       "    <tr>\n",
       "      <th>12581</th>\n",
       "      <td>11322.9</td>\n",
       "      <td>11308.6</td>\n",
       "      <td>11326.4</td>\n",
       "      <td>11306.7</td>\n",
       "      <td>11312.933333</td>\n",
       "    </tr>\n",
       "  </tbody>\n",
       "</table>\n",
       "<p>12582 rows × 5 columns</p>\n",
       "</div>"
      ],
      "text/plain": [
       "         close     open     high      low  pandas_SMA_3\n",
       "0       7224.7   7220.4   7226.6   7216.0      0.000000\n",
       "1       7220.0   7224.6   7236.5   7207.2      0.000000\n",
       "2       7218.4   7219.7   7253.9   7209.6   7221.033333\n",
       "3       7186.5   7218.7   7235.2   7175.5   7208.300000\n",
       "4       7196.5   7186.7   7211.0   7180.0   7200.466667\n",
       "...        ...      ...      ...      ...           ...\n",
       "12577  11211.5  11145.1  11212.7  11114.4  11165.266667\n",
       "12578  11345.5  11211.4  11347.5  11208.9  11234.066667\n",
       "12579  11307.4  11345.0  11359.1  11298.6  11288.133333\n",
       "12580  11308.5  11307.5  11338.9  11286.5  11320.466667\n",
       "12581  11322.9  11308.6  11326.4  11306.7  11312.933333\n",
       "\n",
       "[12582 rows x 5 columns]"
      ]
     },
     "execution_count": 4,
     "metadata": {},
     "output_type": "execute_result"
    }
   ],
   "source": [
    "data"
   ]
  },
  {
   "cell_type": "code",
   "execution_count": 5,
   "metadata": {
    "id": "29EBu2FZvfCm"
   },
   "outputs": [],
   "source": [
    "# convert an array of values into a dataset matrix\n",
    "def create_dataset(dataset, look_back=1, predict_forward=3, column=3):\n",
    "    dataX, dataY = [], []\n",
    "    for i in range(len(dataset)-look_back-predict_forward):\n",
    "        j = i + look_back\n",
    "        a = dataset[i:j,:]\n",
    "        dataX.append(a)\n",
    "\t\t\n",
    "        # for predicting actual price\n",
    "        #dataY.append(dataset[j:j + predict_forward, column])\n",
    "\n",
    "        # for % change\n",
    "        #pct = (-data[i + look_back,3] + data[i + look_back+ predict_forward, 3])/data[i + look_back,3]\n",
    "        #if data[i + look_back,3] == 0:\n",
    "        #\tprint(i,\"zero\")\n",
    "\n",
    "        # for direction\n",
    "        if dataset[j,0] >= dataset[j-1,0]:\n",
    "            dataY.append(1)\n",
    "        else:\n",
    "            dataY.append(0)\n",
    "\n",
    "    return np.array(dataX), np.array(dataY)"
   ]
  },
  {
   "cell_type": "code",
   "execution_count": 134,
   "metadata": {
    "id": "WZMokuuawUXa"
   },
   "outputs": [],
   "source": [
    "# fix random seed for reproducibility\n",
    "np.random.seed(42)\n",
    "normalize_max = 1\n",
    "# normalize the dataset\n",
    "x_scaler = MinMaxScaler(feature_range=(0,normalize_max))\n",
    "data = x_scaler.fit_transform(data)\n",
    "\n",
    "# remove values that are 0\n",
    "data = np.delete(data,np.where(data==0)[0],axis=0)"
   ]
  },
  {
   "cell_type": "code",
   "execution_count": 135,
   "metadata": {
    "id": "7x5NEFJ5-63S"
   },
   "outputs": [],
   "source": [
    "n_bars = 100\n",
    "predict_forward = 1\n",
    "x_train, y_train = create_dataset(data,n_bars, predict_forward=predict_forward, column=0)\n",
    "#x_train = x_train.reshape(x_train.shape[0],x_train.shape[1],x_train.shape[2],1) #add the channel at the end\n",
    "\n",
    "#remove the last sample one bc it may not have enough  y_train values (if the dataset size doenst evenly divide into the sample size)\n",
    "x_train = x_train[:-predict_forward]\n",
    "y_train = np.stack(y_train[:-predict_forward])"
   ]
  },
  {
   "cell_type": "code",
   "execution_count": 136,
   "metadata": {
    "id": "PMjUD-HTZtdo"
   },
   "outputs": [],
   "source": [
    "# scale y_train\n",
    "y_scaler = MinMaxScaler(feature_range=(0,1))\n",
    "y_train = y_scaler.fit_transform(y_train.reshape(-1,1))\n",
    "y_train = to_categorical(y_train)"
   ]
  },
  {
   "cell_type": "code",
   "execution_count": 142,
   "metadata": {},
   "outputs": [
    {
     "data": {
      "text/plain": [
       "(array([0., 1.], dtype=float32), array([7606, 7606]))"
      ]
     },
     "execution_count": 142,
     "metadata": {},
     "output_type": "execute_result"
    }
   ],
   "source": [
    "np.unique(y_train, return_counts=True)"
   ]
  },
  {
   "cell_type": "code",
   "execution_count": 140,
   "metadata": {
    "colab": {
     "base_uri": "https://localhost:8080/"
    },
    "id": "Ys7FvvrX-7_C",
    "outputId": "ddb2bbc5-8acc-4194-8f24-f8cd08b28e79"
   },
   "outputs": [
    {
     "name": "stdout",
     "output_type": "stream",
     "text": [
      "_________________________________________________________________\n",
      "Layer (type)                 Output Shape              Param #   \n",
      "=================================================================\n",
      "dense_47 (Dense)             (7606, 100, 400)          2400      \n",
      "_________________________________________________________________\n",
      "dense_48 (Dense)             (7606, 100, 800)          320800    \n",
      "_________________________________________________________________\n",
      "dense_49 (Dense)             (7606, 100, 1200)         961200    \n",
      "_________________________________________________________________\n",
      "flatten_25 (Flatten)         (7606, 120000)            0         \n",
      "_________________________________________________________________\n",
      "dense_50 (Dense)             (7606, 2)                 240002    \n",
      "=================================================================\n",
      "Total params: 1,524,402\n",
      "Trainable params: 1,524,402\n",
      "Non-trainable params: 0\n",
      "_________________________________________________________________\n"
     ]
    }
   ],
   "source": [
    "# define model\n",
    "regularizer = keras.regularizers.l2()\n",
    "def make_model(input_shape):\n",
    "\n",
    "#     model = keras.models.Sequential()\n",
    "#     model.add(keras.layers.Conv1D(32, input_shape=input_shape, kernel_size=5, padding=\"same\", activation=\"relu\"))\n",
    "#     model.add(keras.layers.MaxPool1D(3))\n",
    "#     model.add(keras.layers.Flatten())\n",
    "#     model.add(keras.layers.Dense(2, activation=\"sigmoid\"))\n",
    "\n",
    "    model = keras.models.Sequential()\n",
    "    model.add(keras.layers.Dense(400, activation=\"relu\"))\n",
    "    model.add(keras.layers.Dense(800, activation=\"relu\"))\n",
    "    model.add(keras.layers.Dense(1200, activation=\"relu\"))\n",
    "    model.add(keras.layers.Flatten())\n",
    "    model.add(keras.layers.Dense(2, activation=\"sigmoid\"))\n",
    "    \n",
    "    return model\n",
    "\n",
    "model = make_model(input_shape=x_train.shape[1:])\n",
    "model.build(input_shape=x_train.shape[:])\n",
    "\n",
    "callbacks = [\n",
    "    #OneCycle(min_lr=7e-6, max_lr=7e-2, min_mtm = 0.85, max_mtm = 0.95, annealing_stage=0.1, annealing_rate=0.01, training_iterations=np.ceil(((x_train.shape[0]*epochs)/(batch_size)))),\n",
    "\n",
    "    keras.callbacks.ReduceLROnPlateau(monitor=\"val_acc\", factor=0.5, patience=5, min_lr=0.0001),\n",
    "    keras.callbacks.EarlyStopping(monitor=\"val_acc\", patience=20, verbose=1),\n",
    "]\n",
    "\n",
    "opt = keras.optimizers.SGD(lr=1e-6)\n",
    "model.compile(optimizer=opt, loss=\"binary_crossentropy\", metrics=[\"accuracy\"])\n",
    "\n",
    "keras.utils.plot_model(model, show_shapes=True)\n",
    "model.summary()\n",
    "\n",
    "# Calling `save('my_model')` creates a SavedModel folder `my_model`.\n",
    "#model.save(\"my_model\")\n",
    "\n",
    "# It can be used to reconstruct the model identically.\n",
    "#reconstructed_model = keras.models.load_model(\"my_model\")"
   ]
  },
  {
   "cell_type": "code",
   "execution_count": 141,
   "metadata": {
    "colab": {
     "base_uri": "https://localhost:8080/"
    },
    "id": "TfdHh8WN-_OZ",
    "outputId": "b938ad03-3566-4e8b-ed3e-9eeecc7ad8ba",
    "tags": []
   },
   "outputs": [
    {
     "name": "stdout",
     "output_type": "stream",
     "text": [
      "Train on 6084 samples, validate on 1522 samples\n",
      "Epoch 1/500\n",
      "6084/6084 [==============================] - 6s 999us/step - loss: 0.6927 - acc: 0.5361 - val_loss: 0.6913 - val_acc: 0.5558\n",
      "Epoch 2/500\n",
      "6084/6084 [==============================] - 3s 554us/step - loss: 0.6927 - acc: 0.5361 - val_loss: 0.6913 - val_acc: 0.5558\n",
      "Epoch 3/500\n",
      "6084/6084 [==============================] - 3s 556us/step - loss: 0.6927 - acc: 0.5361 - val_loss: 0.6913 - val_acc: 0.5558\n",
      "Epoch 4/500\n",
      "6084/6084 [==============================] - 3s 560us/step - loss: 0.6927 - acc: 0.5361 - val_loss: 0.6913 - val_acc: 0.5558\n",
      "Epoch 5/500\n",
      "6084/6084 [==============================] - 3s 559us/step - loss: 0.6927 - acc: 0.5361 - val_loss: 0.6913 - val_acc: 0.5558\n",
      "Epoch 6/500\n",
      "6084/6084 [==============================] - 3s 559us/step - loss: 0.6927 - acc: 0.5360 - val_loss: 0.6913 - val_acc: 0.5558\n",
      "Epoch 7/500\n",
      "6084/6084 [==============================] - 3s 560us/step - loss: 0.6927 - acc: 0.5360 - val_loss: 0.6913 - val_acc: 0.5558\n",
      "Epoch 8/500\n",
      "6084/6084 [==============================] - 3s 561us/step - loss: 0.6927 - acc: 0.5360 - val_loss: 0.6913 - val_acc: 0.5558\n",
      "Epoch 9/500\n",
      "6084/6084 [==============================] - 3s 561us/step - loss: 0.6927 - acc: 0.5360 - val_loss: 0.6913 - val_acc: 0.5558\n",
      "Epoch 10/500\n",
      "6084/6084 [==============================] - 3s 562us/step - loss: 0.6927 - acc: 0.5360 - val_loss: 0.6913 - val_acc: 0.5558\n",
      "Epoch 11/500\n",
      "6084/6084 [==============================] - 3s 563us/step - loss: 0.6927 - acc: 0.5360 - val_loss: 0.6913 - val_acc: 0.5558\n",
      "Epoch 12/500\n",
      "6084/6084 [==============================] - 3s 567us/step - loss: 0.6927 - acc: 0.5360 - val_loss: 0.6913 - val_acc: 0.5558\n",
      "Epoch 13/500\n",
      "6084/6084 [==============================] - 3s 564us/step - loss: 0.6927 - acc: 0.5360 - val_loss: 0.6913 - val_acc: 0.5558\n",
      "Epoch 14/500\n",
      " 896/6084 [===>..........................] - ETA: 2s - loss: 0.6925 - acc: 0.5301"
     ]
    },
    {
     "ename": "KeyboardInterrupt",
     "evalue": "",
     "output_type": "error",
     "traceback": [
      "\u001b[0;31m---------------------------------------------------------------------------\u001b[0m",
      "\u001b[0;31mKeyboardInterrupt\u001b[0m                         Traceback (most recent call last)",
      "\u001b[0;32m<ipython-input-141-c77f43875848>\u001b[0m in \u001b[0;36m<module>\u001b[0;34m\u001b[0m\n\u001b[1;32m      3\u001b[0m \u001b[0;31m# added another layer (total 4 x 20) -> val_mae is 0.030\u001b[0m\u001b[0;34m\u001b[0m\u001b[0;34m\u001b[0m\u001b[0;34m\u001b[0m\u001b[0m\n\u001b[1;32m      4\u001b[0m \u001b[0;31m#model = keras.models.load_model('model')\u001b[0m\u001b[0;34m\u001b[0m\u001b[0;34m\u001b[0m\u001b[0;34m\u001b[0m\u001b[0m\n\u001b[0;32m----> 5\u001b[0;31m \u001b[0mhistory\u001b[0m \u001b[0;34m=\u001b[0m \u001b[0mmodel\u001b[0m\u001b[0;34m.\u001b[0m\u001b[0mfit\u001b[0m\u001b[0;34m(\u001b[0m\u001b[0mx_train\u001b[0m\u001b[0;34m,\u001b[0m \u001b[0my_train\u001b[0m\u001b[0;34m,\u001b[0m \u001b[0mepochs\u001b[0m\u001b[0;34m=\u001b[0m\u001b[0;36m500\u001b[0m\u001b[0;34m,\u001b[0m \u001b[0mverbose\u001b[0m\u001b[0;34m=\u001b[0m\u001b[0;36m1\u001b[0m\u001b[0;34m,\u001b[0m \u001b[0mbatch_size\u001b[0m\u001b[0;34m=\u001b[0m\u001b[0;36m128\u001b[0m\u001b[0;34m,\u001b[0m \u001b[0mcallbacks\u001b[0m\u001b[0;34m=\u001b[0m\u001b[0mcallbacks\u001b[0m\u001b[0;34m,\u001b[0m \u001b[0mvalidation_split\u001b[0m\u001b[0;34m=\u001b[0m\u001b[0;36m0.2\u001b[0m\u001b[0;34m)\u001b[0m\u001b[0;34m\u001b[0m\u001b[0;34m\u001b[0m\u001b[0m\n\u001b[0m\u001b[1;32m      6\u001b[0m \u001b[0mmodel\u001b[0m\u001b[0;34m.\u001b[0m\u001b[0msave\u001b[0m\u001b[0;34m(\u001b[0m\u001b[0;34m'modelsave'\u001b[0m\u001b[0;34m)\u001b[0m\u001b[0;34m\u001b[0m\u001b[0;34m\u001b[0m\u001b[0m\n",
      "\u001b[0;32m~/anaconda3/lib/python3.8/site-packages/keras/engine/training.py\u001b[0m in \u001b[0;36mfit\u001b[0;34m(self, x, y, batch_size, epochs, verbose, callbacks, validation_split, validation_data, shuffle, class_weight, sample_weight, initial_epoch, steps_per_epoch, validation_steps, **kwargs)\u001b[0m\n\u001b[1;32m   1025\u001b[0m \u001b[0;34m\u001b[0m\u001b[0m\n\u001b[1;32m   1026\u001b[0m         \u001b[0;31m# Delegate logic to `fit_loop`.\u001b[0m\u001b[0;34m\u001b[0m\u001b[0;34m\u001b[0m\u001b[0;34m\u001b[0m\u001b[0m\n\u001b[0;32m-> 1027\u001b[0;31m         return training_arrays.fit_loop(self, f, ins,\n\u001b[0m\u001b[1;32m   1028\u001b[0m                                         \u001b[0mout_labels\u001b[0m\u001b[0;34m=\u001b[0m\u001b[0mout_labels\u001b[0m\u001b[0;34m,\u001b[0m\u001b[0;34m\u001b[0m\u001b[0;34m\u001b[0m\u001b[0m\n\u001b[1;32m   1029\u001b[0m                                         \u001b[0mbatch_size\u001b[0m\u001b[0;34m=\u001b[0m\u001b[0mbatch_size\u001b[0m\u001b[0;34m,\u001b[0m\u001b[0;34m\u001b[0m\u001b[0;34m\u001b[0m\u001b[0m\n",
      "\u001b[0;32m~/anaconda3/lib/python3.8/site-packages/keras/engine/training_arrays.py\u001b[0m in \u001b[0;36mfit_loop\u001b[0;34m(model, f, ins, out_labels, batch_size, epochs, verbose, callbacks, val_f, val_ins, shuffle, callback_metrics, initial_epoch, steps_per_epoch, validation_steps)\u001b[0m\n\u001b[1;32m    197\u001b[0m                     \u001b[0mins_batch\u001b[0m\u001b[0;34m[\u001b[0m\u001b[0mi\u001b[0m\u001b[0;34m]\u001b[0m \u001b[0;34m=\u001b[0m \u001b[0mins_batch\u001b[0m\u001b[0;34m[\u001b[0m\u001b[0mi\u001b[0m\u001b[0;34m]\u001b[0m\u001b[0;34m.\u001b[0m\u001b[0mtoarray\u001b[0m\u001b[0;34m(\u001b[0m\u001b[0;34m)\u001b[0m\u001b[0;34m\u001b[0m\u001b[0;34m\u001b[0m\u001b[0m\n\u001b[1;32m    198\u001b[0m \u001b[0;34m\u001b[0m\u001b[0m\n\u001b[0;32m--> 199\u001b[0;31m                 \u001b[0mouts\u001b[0m \u001b[0;34m=\u001b[0m \u001b[0mf\u001b[0m\u001b[0;34m(\u001b[0m\u001b[0mins_batch\u001b[0m\u001b[0;34m)\u001b[0m\u001b[0;34m\u001b[0m\u001b[0;34m\u001b[0m\u001b[0m\n\u001b[0m\u001b[1;32m    200\u001b[0m                 \u001b[0mouts\u001b[0m \u001b[0;34m=\u001b[0m \u001b[0mto_list\u001b[0m\u001b[0;34m(\u001b[0m\u001b[0mouts\u001b[0m\u001b[0;34m)\u001b[0m\u001b[0;34m\u001b[0m\u001b[0;34m\u001b[0m\u001b[0m\n\u001b[1;32m    201\u001b[0m                 \u001b[0;32mfor\u001b[0m \u001b[0ml\u001b[0m\u001b[0;34m,\u001b[0m \u001b[0mo\u001b[0m \u001b[0;32min\u001b[0m \u001b[0mzip\u001b[0m\u001b[0;34m(\u001b[0m\u001b[0mout_labels\u001b[0m\u001b[0;34m,\u001b[0m \u001b[0mouts\u001b[0m\u001b[0;34m)\u001b[0m\u001b[0;34m:\u001b[0m\u001b[0;34m\u001b[0m\u001b[0;34m\u001b[0m\u001b[0m\n",
      "\u001b[0;32m~/anaconda3/lib/python3.8/site-packages/plaidml/keras/backend.py\u001b[0m in \u001b[0;36m__call__\u001b[0;34m(self, inputs)\u001b[0m\n\u001b[1;32m    189\u001b[0m         \u001b[0mself\u001b[0m\u001b[0;34m.\u001b[0m\u001b[0m_invoker\u001b[0m\u001b[0;34m.\u001b[0m\u001b[0minvoke\u001b[0m\u001b[0;34m(\u001b[0m\u001b[0;34m)\u001b[0m\u001b[0;34m\u001b[0m\u001b[0;34m\u001b[0m\u001b[0m\n\u001b[1;32m    190\u001b[0m \u001b[0;34m\u001b[0m\u001b[0m\n\u001b[0;32m--> 191\u001b[0;31m         \u001b[0;32mreturn\u001b[0m \u001b[0;34m[\u001b[0m\u001b[0mt\u001b[0m\u001b[0;34m.\u001b[0m\u001b[0mas_ndarray\u001b[0m\u001b[0;34m(\u001b[0m\u001b[0m_ctx\u001b[0m\u001b[0;34m)\u001b[0m \u001b[0;32mfor\u001b[0m \u001b[0mt\u001b[0m \u001b[0;32min\u001b[0m \u001b[0mtensors\u001b[0m\u001b[0;34m]\u001b[0m\u001b[0;34m\u001b[0m\u001b[0;34m\u001b[0m\u001b[0m\n\u001b[0m\u001b[1;32m    192\u001b[0m \u001b[0;34m\u001b[0m\u001b[0m\n\u001b[1;32m    193\u001b[0m \u001b[0;34m\u001b[0m\u001b[0m\n",
      "\u001b[0;32m~/anaconda3/lib/python3.8/site-packages/plaidml/keras/backend.py\u001b[0m in \u001b[0;36m<listcomp>\u001b[0;34m(.0)\u001b[0m\n\u001b[1;32m    189\u001b[0m         \u001b[0mself\u001b[0m\u001b[0;34m.\u001b[0m\u001b[0m_invoker\u001b[0m\u001b[0;34m.\u001b[0m\u001b[0minvoke\u001b[0m\u001b[0;34m(\u001b[0m\u001b[0;34m)\u001b[0m\u001b[0;34m\u001b[0m\u001b[0;34m\u001b[0m\u001b[0m\n\u001b[1;32m    190\u001b[0m \u001b[0;34m\u001b[0m\u001b[0m\n\u001b[0;32m--> 191\u001b[0;31m         \u001b[0;32mreturn\u001b[0m \u001b[0;34m[\u001b[0m\u001b[0mt\u001b[0m\u001b[0;34m.\u001b[0m\u001b[0mas_ndarray\u001b[0m\u001b[0;34m(\u001b[0m\u001b[0m_ctx\u001b[0m\u001b[0;34m)\u001b[0m \u001b[0;32mfor\u001b[0m \u001b[0mt\u001b[0m \u001b[0;32min\u001b[0m \u001b[0mtensors\u001b[0m\u001b[0;34m]\u001b[0m\u001b[0;34m\u001b[0m\u001b[0;34m\u001b[0m\u001b[0m\n\u001b[0m\u001b[1;32m    192\u001b[0m \u001b[0;34m\u001b[0m\u001b[0m\n\u001b[1;32m    193\u001b[0m \u001b[0;34m\u001b[0m\u001b[0m\n",
      "\u001b[0;32m~/anaconda3/lib/python3.8/site-packages/plaidml/__init__.py\u001b[0m in \u001b[0;36mas_ndarray\u001b[0;34m(self, ctx)\u001b[0m\n\u001b[1;32m   1279\u001b[0m             self._ndarray = np.ndarray(tuple(dim.size for dim in self.shape.dimensions),\n\u001b[1;32m   1280\u001b[0m                                        dtype=_NP_TYPES[self.shape.dtype])\n\u001b[0;32m-> 1281\u001b[0;31m         \u001b[0;32mwith\u001b[0m \u001b[0mself\u001b[0m\u001b[0;34m.\u001b[0m\u001b[0mmmap_current\u001b[0m\u001b[0;34m(\u001b[0m\u001b[0;34m)\u001b[0m \u001b[0;32mas\u001b[0m \u001b[0mview\u001b[0m\u001b[0;34m:\u001b[0m\u001b[0;34m\u001b[0m\u001b[0;34m\u001b[0m\u001b[0m\n\u001b[0m\u001b[1;32m   1282\u001b[0m             \u001b[0mview\u001b[0m\u001b[0;34m.\u001b[0m\u001b[0mcopy_to_ndarray\u001b[0m\u001b[0;34m(\u001b[0m\u001b[0mself\u001b[0m\u001b[0;34m.\u001b[0m\u001b[0m_ndarray\u001b[0m\u001b[0;34m)\u001b[0m\u001b[0;34m\u001b[0m\u001b[0;34m\u001b[0m\u001b[0m\n\u001b[1;32m   1283\u001b[0m         \u001b[0;32mreturn\u001b[0m \u001b[0mself\u001b[0m\u001b[0;34m.\u001b[0m\u001b[0m_ndarray\u001b[0m\u001b[0;34m\u001b[0m\u001b[0;34m\u001b[0m\u001b[0m\n",
      "\u001b[0;32m~/anaconda3/lib/python3.8/contextlib.py\u001b[0m in \u001b[0;36m__enter__\u001b[0;34m(self)\u001b[0m\n\u001b[1;32m    111\u001b[0m         \u001b[0;32mdel\u001b[0m \u001b[0mself\u001b[0m\u001b[0;34m.\u001b[0m\u001b[0margs\u001b[0m\u001b[0;34m,\u001b[0m \u001b[0mself\u001b[0m\u001b[0;34m.\u001b[0m\u001b[0mkwds\u001b[0m\u001b[0;34m,\u001b[0m \u001b[0mself\u001b[0m\u001b[0;34m.\u001b[0m\u001b[0mfunc\u001b[0m\u001b[0;34m\u001b[0m\u001b[0;34m\u001b[0m\u001b[0m\n\u001b[1;32m    112\u001b[0m         \u001b[0;32mtry\u001b[0m\u001b[0;34m:\u001b[0m\u001b[0;34m\u001b[0m\u001b[0;34m\u001b[0m\u001b[0m\n\u001b[0;32m--> 113\u001b[0;31m             \u001b[0;32mreturn\u001b[0m \u001b[0mnext\u001b[0m\u001b[0;34m(\u001b[0m\u001b[0mself\u001b[0m\u001b[0;34m.\u001b[0m\u001b[0mgen\u001b[0m\u001b[0;34m)\u001b[0m\u001b[0;34m\u001b[0m\u001b[0;34m\u001b[0m\u001b[0m\n\u001b[0m\u001b[1;32m    114\u001b[0m         \u001b[0;32mexcept\u001b[0m \u001b[0mStopIteration\u001b[0m\u001b[0;34m:\u001b[0m\u001b[0;34m\u001b[0m\u001b[0;34m\u001b[0m\u001b[0m\n\u001b[1;32m    115\u001b[0m             \u001b[0;32mraise\u001b[0m \u001b[0mRuntimeError\u001b[0m\u001b[0;34m(\u001b[0m\u001b[0;34m\"generator didn't yield\"\u001b[0m\u001b[0;34m)\u001b[0m \u001b[0;32mfrom\u001b[0m \u001b[0;32mNone\u001b[0m\u001b[0;34m\u001b[0m\u001b[0;34m\u001b[0m\u001b[0m\n",
      "\u001b[0;32m~/anaconda3/lib/python3.8/site-packages/plaidml/__init__.py\u001b[0m in \u001b[0;36mmmap_current\u001b[0;34m(self)\u001b[0m\n\u001b[1;32m   1262\u001b[0m     \u001b[0;34m@\u001b[0m\u001b[0mcontextlib\u001b[0m\u001b[0;34m.\u001b[0m\u001b[0mcontextmanager\u001b[0m\u001b[0;34m\u001b[0m\u001b[0;34m\u001b[0m\u001b[0m\n\u001b[1;32m   1263\u001b[0m     \u001b[0;32mdef\u001b[0m \u001b[0mmmap_current\u001b[0m\u001b[0;34m(\u001b[0m\u001b[0mself\u001b[0m\u001b[0;34m)\u001b[0m\u001b[0;34m:\u001b[0m\u001b[0;34m\u001b[0m\u001b[0;34m\u001b[0m\u001b[0m\n\u001b[0;32m-> 1264\u001b[0;31m         mapping = _lib().plaidml_map_buffer_current(self.buffer,\n\u001b[0m\u001b[1;32m   1265\u001b[0m                                                     ctypes.cast(None, _MAP_BUFFER_FUNCTYPE), None)\n\u001b[1;32m   1266\u001b[0m         yield _View(self.buffer._ctx, mapping, self.shape.dtype, self.shape.ctype,\n",
      "\u001b[0;32m~/anaconda3/lib/python3.8/site-packages/plaidml/__init__.py\u001b[0m in \u001b[0;36m_check_err\u001b[0;34m(self, result, func, args)\u001b[0m\n\u001b[1;32m    768\u001b[0m         \u001b[0mself\u001b[0m\u001b[0;34m.\u001b[0m\u001b[0mplaidml_compute_grad_wrt\u001b[0m\u001b[0;34m.\u001b[0m\u001b[0merrcheck\u001b[0m \u001b[0;34m=\u001b[0m \u001b[0mself\u001b[0m\u001b[0;34m.\u001b[0m\u001b[0m_check_err\u001b[0m\u001b[0;34m\u001b[0m\u001b[0;34m\u001b[0m\u001b[0m\n\u001b[1;32m    769\u001b[0m \u001b[0;34m\u001b[0m\u001b[0m\n\u001b[0;32m--> 770\u001b[0;31m     \u001b[0;32mdef\u001b[0m \u001b[0m_check_err\u001b[0m\u001b[0;34m(\u001b[0m\u001b[0mself\u001b[0m\u001b[0;34m,\u001b[0m \u001b[0mresult\u001b[0m\u001b[0;34m,\u001b[0m \u001b[0mfunc\u001b[0m\u001b[0;34m,\u001b[0m \u001b[0margs\u001b[0m\u001b[0;34m)\u001b[0m\u001b[0;34m:\u001b[0m\u001b[0;34m\u001b[0m\u001b[0;34m\u001b[0m\u001b[0m\n\u001b[0m\u001b[1;32m    771\u001b[0m         \u001b[0;32mif\u001b[0m \u001b[0mresult\u001b[0m\u001b[0;34m:\u001b[0m\u001b[0;34m\u001b[0m\u001b[0;34m\u001b[0m\u001b[0m\n\u001b[1;32m    772\u001b[0m             \u001b[0;32mreturn\u001b[0m \u001b[0mresult\u001b[0m\u001b[0;34m\u001b[0m\u001b[0;34m\u001b[0m\u001b[0m\n",
      "\u001b[0;31mKeyboardInterrupt\u001b[0m: "
     ]
    }
   ],
   "source": [
    "# fit model : mse - 4e-4 : valmse - 6e-4 : (2x 10 neurons with dropout0.9, relu activation on both) - 0.5 dropout converges quicker\n",
    "# increased n_bars to 20 and added 10-SMA and added another gru layer (total 3 x 20) -> mae is .10\n",
    "# added another layer (total 4 x 20) -> val_mae is 0.030\n",
    "#model = keras.models.load_model('model')\n",
    "history = model.fit(x_train, y_train, epochs=500, verbose=1, batch_size=128, callbacks=callbacks, validation_split=0.2)\n",
    "model.save('modelsave')"
   ]
  },
  {
   "cell_type": "code",
   "execution_count": 67,
   "metadata": {
    "colab": {
     "base_uri": "https://localhost:8080/",
     "height": 252
    },
    "id": "HHn8FOYU_Ibd",
    "outputId": "b6509e67-7165-4493-fb2e-e46a6445a710"
   },
   "outputs": [
    {
     "data": {
      "image/png": "[encoded data removed]",
      "text/plain": [
       "<Figure size 720x720 with 1 Axes>"
      ]
     },
     "metadata": {
      "needs_background": "light"
     },
     "output_type": "display_data"
    }
   ],
   "source": [
    "# show traning/validation plots\n",
    "metric = \"acc\"\n",
    "plt.figure(figsize=(10,10))\n",
    "plt.plot(history.history[metric])\n",
    "plt.plot(history.history[\"val_\" + metric])\n",
    "plt.title(\"model \" + metric)\n",
    "plt.ylabel(metric, fontsize=\"large\")\n",
    "plt.xlabel(\"epoch\", fontsize=\"large\")\n",
    "plt.legend([\"train\", \"val\"], loc=\"best\")\n",
    "plt.show()\n",
    "plt.close()"
   ]
  },
  {
   "cell_type": "code",
   "execution_count": null,
   "metadata": {
    "id": "YRurV1tNbPaB"
   },
   "outputs": [],
   "source": [
    "y_train[-i].shape"
   ]
  },
  {
   "cell_type": "code",
   "execution_count": null,
   "metadata": {
    "id": "iC56B7b6kh_l"
   },
   "outputs": [],
   "source": [
    "# get latest prediction\n",
    "i = 80\n",
    "x_pred = x_train[-i]\n",
    "prediction = model.predict(x_pred.reshape(1,10,5))\n",
    "y_pred = y_scaler.inverse_transform(prediction)\n",
    "y_actual = y_train[-i]\n",
    "print(\"Prediction: \",y_pred[0][0])\n",
    "print( \"Actual: \", y_actual[0])\n",
    "print(\"MSE: \", (y_actual[0]- y_pred[0][0])**2)\n",
    "\n",
    "# plot latest prediction\n",
    "#plt.plot(np.arange(1,y_pred.shape[1]+1),y_pred[0]);\n",
    "#plt.plot(np.arange(y_pred.shape[1]+1,len(y_actual[0])+1),y_actual[0]);"
   ]
  }
 ],
 "metadata": {
  "accelerator": "GPU",
  "colab": {
   "collapsed_sections": [],
   "include_colab_link": true,
   "name": "Stock_prediction",
   "provenance": []
  },
  "kernelspec": {
   "display_name": "Python 3",
   "language": "python",
   "name": "python3"
  },
  "language_info": {
   "codemirror_mode": {
    "name": "ipython",
    "version": 3
   },
   "file_extension": ".py",
   "mimetype": "text/x-python",
   "name": "python",
   "nbconvert_exporter": "python",
   "pygments_lexer": "ipython3",
   "version": "3.8.3"
  }
 },
 "nbformat": 4,
 "nbformat_minor": 4
}
