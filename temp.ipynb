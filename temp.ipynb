{
 "cells": [
  {
   "cell_type": "code",
   "execution_count": 1,
   "metadata": {},
   "outputs": [],
   "source": [
    "import pandas as pd\n",
    "import numpy as np\n",
    "import sklearn\n",
    "from sklearn import decomposition"
   ]
  },
  {
   "cell_type": "code",
   "execution_count": 28,
   "metadata": {},
   "outputs": [],
   "source": [
    "# retrieving data from file. \n",
    "x_train = np.loadtxt(\"x_train.txt\") \n",
    "  \n",
    "# This loadedArr is a 2D array, therefore \n",
    "# we need to convert it to the original \n",
    "# array shape.reshaping to get original \n",
    "# matrice with original shape. \n",
    "x_train = x_train.reshape( \n",
    "    x_train.shape[0], x_train.shape[1] // 73, 73) "
   ]
  },
  {
   "cell_type": "code",
   "execution_count": 31,
   "metadata": {},
   "outputs": [],
   "source": [
    "pca = decomposition.PCA(10)\n",
    "x_train_pca = np.empty((x_train.shape[0],100,10))\n",
    "\n",
    "for idx, i in enumerate(x_train):\n",
    "    \n",
    "    x_train_pca[idx] = pca.fit_transform(i[:,5:])"
   ]
  },
  {
   "cell_type": "code",
   "execution_count": 35,
   "metadata": {},
   "outputs": [],
   "source": [
    "# reshaping the array from 3D \n",
    "# matrice to 2D matrice. \n",
    "x_train_reshaped = x_train_pca.reshape(x_train_pca.shape[0], -1) \n",
    "  \n",
    "# saving reshaped array to file. \n",
    "np.savetxt(\"x_train_pca.txt\", x_train_reshaped) "
   ]
  },
  {
   "cell_type": "code",
   "execution_count": 19,
   "metadata": {},
   "outputs": [],
   "source": [
    "import numpy as np\n",
    "import os\n",
    "import shutil"
   ]
  },
  {
   "cell_type": "code",
   "execution_count": 27,
   "metadata": {},
   "outputs": [],
   "source": [
    "### move x% of files to validation folder\n",
    "\n",
    "val_pct = 0.2\n",
    "\n",
    "for i in [\"buy/\", \"sell/\"]:\n",
    "    files = os.listdir(\"train/\" + i)\n",
    "    \n",
    "    # get index of only candles where signal occurs, a randome sample that is equal to number of buy/sell signals divided by 2 to keep a balance in trianing set:\n",
    "    np.random.seed(42)\n",
    "    files_to_move = np.random.choice(files, replace=False, size=round(len(files)*val_pct))\n",
    "\n",
    "    #files_to_move = files[:round(len(files)*val_pct)]\n",
    "    \n",
    "    if not os.path.exists(\"validation/\"+i):\n",
    "        os.makedirs(\"validation/\"+i)\n",
    "    for f in files_to_move:\n",
    "        shutil.move(\"train/\" + i + f,\"validation/\" + i) #change move to copy if you want to copy insted of moving "
   ]
  },
  {
   "cell_type": "code",
   "execution_count": 31,
   "metadata": {},
   "outputs": [],
   "source": [
    "ad = np.genfromtxt('../financial_data/eurusd.csv', delimiter=',' ,dtype=str)\n",
    "pd = np.flipud(ad)"
   ]
  },
  {
   "cell_type": "code",
   "execution_count": 41,
   "metadata": {},
   "outputs": [
    {
     "name": "stdout",
     "output_type": "stream",
     "text": [
      "0\n",
      "1\n",
      "2\n",
      "3\n",
      "4\n",
      "5\n",
      "6\n",
      "7\n",
      "8\n",
      "9\n",
      "10\n",
      "11\n"
     ]
    },
    {
     "data": {
      "text/plain": [
       "[None, None, None, None, None, None, None, None, None, None, None, None]"
      ]
     },
     "execution_count": 41,
     "metadata": {},
     "output_type": "execute_result"
    }
   ],
   "source": [
    "[print(x) for x in range(12-0)]"
   ]
  },
  {
   "cell_type": "code",
   "execution_count": 26,
   "metadata": {},
   "outputs": [
    {
     "name": "stdout",
     "output_type": "stream",
     "text": [
      "\u001b[34mtrain\u001b[m\u001b[m/      \u001b[34mvalidation\u001b[m\u001b[m/\n"
     ]
    }
   ],
   "source": [
    "from numpy import genfromtxt\n",
    "import matplotlib.pyplot as plt\n",
    "import mpl_finance\n",
    "import numpy as np\n",
    "import uuid\n",
    "\n",
    "# Input your csv file here with historical data\n",
    "\n",
    "ad = genfromtxt('../financial_data/eurusd.csv', delimiter=',' ,dtype=str)\n",
    "pd = np.flipud(ad)\n",
    "\n",
    "buy_dir = '../data/train/buy/'\n",
    "sell_dir = '../data/train/sell/'\n",
    "\n",
    "def convolve_sma(array, period):\n",
    "    return np.convolve(array, np.ones((period,))/period, mode='valid')\n",
    "\n",
    "def graphwerk(start, finish):\n",
    "    open = []\n",
    "    high = []\n",
    "    low = []\n",
    "    close = []\n",
    "    volume = []\n",
    "    date = []\n",
    "    for x in range(finish-start):\n",
    "\n",
    "# Below filtering is valid for eurusd.csv file. Other financial data files have different orders so you need to find out\n",
    "# what means open, high and close in their respective order.\n",
    "\n",
    "        open.append(float(pd[start][1]))\n",
    "        high.append(float(pd[start][2]))\n",
    "        low.append(float(pd[start][3]))\n",
    "        close.append(float(pd[start][4]))\n",
    "        volume.append(float(pd[start][5]))\n",
    "        date.append(pd[start][0])\n",
    "        start = start + 1\n",
    "\n",
    "    close_next = float(pd[finish][4])\n",
    "\n",
    "    sma = convolve_sma(close, 5)\n",
    "    smb = list(sma)\n",
    "    diff = sma[-1] - sma[-2]\n",
    "\n",
    "    for x in range(len(close)-len(smb)):\n",
    "        smb.append(smb[-1]+diff)\n",
    "\n",
    "    fig = plt.figure(num=1, figsize=(3, 3), dpi=50, facecolor='w', edgecolor='k')\n",
    "    dx = fig.add_subplot(111)\n",
    "    #mpl_finance.volume_overlay(ax, open, close, volume, width=0.4, colorup='b', colordown='b', alpha=1)\n",
    "    mpl_finance.candlestick2_ochl(dx,open, close, high, low, width=1.5, colorup='g', colordown='r', alpha=0.5)\n",
    "\n",
    "    plt.autoscale()\n",
    "    plt.plot(smb, color=\"blue\", linewidth=10, alpha=0.5)\n",
    "    plt.axis('off')\n",
    "    comp_ratio = close_next / close[-1]\n",
    "    print(comp_ratio)\n",
    "\n",
    "    if close[-1] > close_next:\n",
    "            print('close value is bigger')\n",
    "            print('last value: ' + str(close[-1]))\n",
    "            print('next value: ' + str(close_next))\n",
    "            print('sell')\n",
    "            plt.savefig(sell_dir + str(uuid.uuid4()) +'.jpg', bbox_inches='tight')\n",
    "    else:\n",
    "            print('close value is smaller')\n",
    "            print('last value: '+ str(close[-1]))\n",
    "            print('next value: ' + str(close_next))\n",
    "            print('buy')\n",
    "            plt.savefig(buy_dir + str(uuid.uuid4())+'.jpg', bbox_inches='tight')\n",
    "\n",
    "\n",
    "    #plt.show()\n",
    "    open.clear()\n",
    "    close.clear()\n",
    "    volume.clear()\n",
    "    high.clear()\n",
    "    low.clear()\n",
    "    plt.cla()\n",
    "    plt.clf()\n",
    "\n",
    "\n",
    "\n",
    "iter_count = int(len(pd)/4)\n",
    "print(iter_count)\n",
    "iter = 0\n",
    "\n",
    "\n",
    "for x in range(len(pd)-4):\n",
    "   graphwerk(iter, iter+12)\n",
    "   iter = iter + 2"
   ]
  },
  {
   "cell_type": "code",
   "execution_count": null,
   "metadata": {},
   "outputs": [],
   "source": []
  }
 ],
 "metadata": {
  "kernelspec": {
   "display_name": "Python 3",
   "language": "python",
   "name": "python3"
  },
  "language_info": {
   "codemirror_mode": {
    "name": "ipython",
    "version": 3
   },
   "file_extension": ".py",
   "mimetype": "text/x-python",
   "name": "python",
   "nbconvert_exporter": "python",
   "pygments_lexer": "ipython3",
   "version": "3.8.3"
  }
 },
 "nbformat": 4,
 "nbformat_minor": 4
}
