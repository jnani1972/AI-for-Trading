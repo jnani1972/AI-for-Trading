{
 "cells": [
  {
   "cell_type": "code",
   "execution_count": 1,
   "metadata": {},
   "outputs": [],
   "source": [
    "import pandas as pd\n",
    "import numpy as np\n",
    "import sklearn\n",
    "from sklearn import decomposition"
   ]
  },
  {
   "cell_type": "code",
   "execution_count": 28,
   "metadata": {},
   "outputs": [],
   "source": [
    "# retrieving data from file. \n",
    "x_train = np.loadtxt(\"x_train.txt\") \n",
    "  \n",
    "# This loadedArr is a 2D array, therefore \n",
    "# we need to convert it to the original \n",
    "# array shape.reshaping to get original \n",
    "# matrice with original shape. \n",
    "x_train = x_train.reshape( \n",
    "    x_train.shape[0], x_train.shape[1] // 73, 73) "
   ]
  },
  {
   "cell_type": "code",
   "execution_count": 31,
   "metadata": {},
   "outputs": [],
   "source": [
    "pca = decomposition.PCA(10)\n",
    "x_train_pca = np.empty((x_train.shape[0],100,10))\n",
    "\n",
    "for idx, i in enumerate(x_train):\n",
    "    \n",
    "    x_train_pca[idx] = pca.fit_transform(i[:,5:])"
   ]
  },
  {
   "cell_type": "code",
   "execution_count": 35,
   "metadata": {},
   "outputs": [],
   "source": [
    "# reshaping the array from 3D \n",
    "# matrice to 2D matrice. \n",
    "x_train_reshaped = x_train_pca.reshape(x_train_pca.shape[0], -1) \n",
    "  \n",
    "# saving reshaped array to file. \n",
    "np.savetxt(\"x_train_pca.txt\", x_train_reshaped) "
   ]
  },
  {
   "cell_type": "code",
   "execution_count": null,
   "metadata": {},
   "outputs": [],
   "source": []
  }
 ],
 "metadata": {
  "kernelspec": {
   "display_name": "Python 3",
   "language": "python",
   "name": "python3"
  },
  "language_info": {
   "codemirror_mode": {
    "name": "ipython",
    "version": 3
   },
   "file_extension": ".py",
   "mimetype": "text/x-python",
   "name": "python",
   "nbconvert_exporter": "python",
   "pygments_lexer": "ipython3",
   "version": "3.8.3"
  }
 },
 "nbformat": 4,
 "nbformat_minor": 4
}
